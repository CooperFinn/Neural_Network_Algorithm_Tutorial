{
  "nbformat": 4,
  "nbformat_minor": 0,
  "metadata": {
    "colab": {
      "name": "Deep Learning and Convolutional Neural Networks.ipynb",
      "version": "0.3.2",
      "provenance": [],
      "collapsed_sections": [],
      "include_colab_link": true
    },
    "kernelspec": {
      "name": "python3",
      "display_name": "Python 3"
    }
  },
  "cells": [
    {
      "cell_type": "markdown",
      "metadata": {
        "id": "view-in-github",
        "colab_type": "text"
      },
      "source": [
        "<a href=\"https://colab.research.google.com/github/CooperFinn/Neural_Network_Algorithm_Tutorial/blob/master/Deep_Learning_and_Convolutional_Neural_Networks.ipynb\" target=\"_parent\"><img src=\"https://colab.research.google.com/assets/colab-badge.svg\" alt=\"Open In Colab\"/></a>"
      ]
    },
    {
      "metadata": {
        "id": "FAVSqAO5YSk9",
        "colab_type": "text"
      },
      "cell_type": "markdown",
      "source": [
        "#Deep Learning and Convolutional Neural Networks"
      ]
    },
    {
      "metadata": {
        "id": "LclbPMiQYUbv",
        "colab_type": "text"
      },
      "cell_type": "markdown",
      "source": [
        "Are you tired of reading endless news stories about deep learning and not really knowing what that means? Let's change that!\n",
        "\n",
        "This time, we are going to learn how to write programs that recognize objects in images using deep learning. In other words, we're going to explain the black magic that allows Google photos to search your photos based on what is in the picture:"
      ]
    },
    {
      "metadata": {
        "id": "69jx5hB7ZNzs",
        "colab_type": "text"
      },
      "cell_type": "markdown",
      "source": [
        "<img src=\"https://cdn-images-1.medium.com/max/800/1*F-6upZSC6GMMTP9yHeuwDg.gif\">"
      ]
    },
    {
      "metadata": {
        "id": "0jpLWsq1Za7K",
        "colab_type": "text"
      },
      "cell_type": "markdown",
      "source": [
        "Google now lets you search your own photos by destription --even if they aren't tagged! How does this work?\n",
        "\n",
        "This guide is for anyone who is curious about machine learning but has no idea where to start. The goal is be accessible to anyone--which means that there's a lot of generalizations and we skip lots of details. But who cares? If this gets anyone more interested in ML, then mission accomplished!\n",
        "\n"
      ]
    },
    {
      "metadata": {
        "id": "8Vw4cJl4avcx",
        "colab_type": "text"
      },
      "cell_type": "markdown",
      "source": [
        "## Recognizing objects with deep learning"
      ]
    },
    {
      "metadata": {
        "id": "9ci8OTpoa0lI",
        "colab_type": "text"
      },
      "cell_type": "markdown",
      "source": [
        "<img src=\"https://cdn-images-1.medium.com/max/600/1*wUZiI2Mg2cncuMWWXIiBgQ.png\">"
      ]
    },
    {
      "metadata": {
        "id": "jQXu9_Q0a5m2",
        "colab_type": "text"
      },
      "cell_type": "markdown",
      "source": [
        "You might have seen this famous akcd comic before.\n",
        "\n",
        "The goof is based on the idea that any 3-year-old child can recognize a photo of a bird, but figuring out how to make a computer recognize objects has puzzled the very best computer scientists for over 50 years.\n",
        "\n",
        "In the last few years, we've finally found a good approach to object recognition using deep convolutional neural networks. That sounds like a bunch of made up words from a william gibson sci-fi novel, but the ideas are totally understandable if you break them down one by one.\n",
        "\n",
        "So let's do it --let's write a program that can recognize birds!"
      ]
    },
    {
      "metadata": {
        "id": "NKquGvSDcIaM",
        "colab_type": "text"
      },
      "cell_type": "markdown",
      "source": [
        "# Starting Simple"
      ]
    },
    {
      "metadata": {
        "id": "Z-Eh95GlcM5k",
        "colab_type": "text"
      },
      "cell_type": "markdown",
      "source": [
        "Before we learn how to recognize pictures of birds, let's learn how to recognize something much simpler--the handwritten number \"8\".\n",
        "\n",
        "In part 2, we learned about how neural networks can solve complex problems by chaining together lots of simple neuraons. We created a small neural network to estimate the price of house based on how many bedrooms it had, how big it was, and which neighborhood it was in:"
      ]
    },
    {
      "metadata": {
        "id": "9C5Zxr8hdD44",
        "colab_type": "text"
      },
      "cell_type": "markdown",
      "source": [
        "<img src=\"https://cdn-images-1.medium.com/max/800/1*Lt8RZaeQ6f6B_eA1oD32JQ.png\">"
      ]
    },
    {
      "metadata": {
        "id": "Rw0Y87dudIf2",
        "colab_type": "text"
      },
      "cell_type": "markdown",
      "source": [
        "We also know that the idea of machine learning is that the same generic algorithms can be reused with different data to solve different problems. So let's modify this same neural network to recognize handwritten text. But to make the job really simple, we'll only try to recognize one letter--the numberal \"8\".\n",
        "\n",
        "Machine learning only works when you have data--preferably a lot of data. So we need lots and lots of handwritten \"8\"s to get started. Luckily, researchers created the MNIST data set of handwritten numbers for this very purpose. MNIST provides 60,000 images of handwritten digits, each as an 18x18 image. Here are some\"8\"s from the data set:"
      ]
    },
    {
      "metadata": {
        "id": "297P6xP8edYt",
        "colab_type": "text"
      },
      "cell_type": "markdown",
      "source": [
        "<img src=\"https://cdn-images-1.medium.com/max/1200/1*jYKYXkfI4iaE6qg-dEUEcQ.jpeg\">"
      ]
    },
    {
      "metadata": {
        "id": "1eZbgafOejt3",
        "colab_type": "text"
      },
      "cell_type": "markdown",
      "source": [
        "## If you think about it, everything is just numbers\n",
        "\n",
        "The neural network we made in part 2 only took in a three numbers as the input(\"3\"bedrooms,\"2000\"sq.feet,etc.). But now we want to process images with our neural network. How in the world do we feed images into a neural network instead of just numbers?\n",
        "\n",
        "The answer is incredible simple. A neural network takes numbers as input. To a computer, an  image is really just a grid of numbers that represent how dark each pixel is:"
      ]
    },
    {
      "metadata": {
        "id": "hLeFUIJKfoIM",
        "colab_type": "text"
      },
      "cell_type": "markdown",
      "source": [
        "<img src=\"https://cdn-images-1.medium.com/max/800/1*zY1qFB9aFfZz66YxxoI2aw.gif\">"
      ]
    },
    {
      "metadata": {
        "id": "AHW-4yivhgEY",
        "colab_type": "text"
      },
      "cell_type": "markdown",
      "source": [
        "To feed an image into our neural network, we simply treat the 18x18 pixel image as an array of 324 numbers:"
      ]
    },
    {
      "metadata": {
        "id": "WNp5YaeAiEXU",
        "colab_type": "text"
      },
      "cell_type": "markdown",
      "source": [
        "<img src=\"https://cdn-images-1.medium.com/max/1200/1*UDgDe_-GMs4QQbT8UopoGA.png\">"
      ]
    },
    {
      "metadata": {
        "id": "27-IkimciHLO",
        "colab_type": "text"
      },
      "cell_type": "markdown",
      "source": [
        "The handle 324 inputs, we'll just enlarge our neural network to have 324 input nodes:"
      ]
    },
    {
      "metadata": {
        "id": "hEjWLHyYi8Bt",
        "colab_type": "text"
      },
      "cell_type": "markdown",
      "source": [
        "<img src=\"https://cdn-images-1.medium.com/max/800/1*b31hqXiBUjIXo2HSn_grFw.png\">"
      ]
    },
    {
      "metadata": {
        "id": "jaJqdEUBi_bI",
        "colab_type": "text"
      },
      "cell_type": "markdown",
      "source": [
        "Notice that our neural network also has two outputs now (instead of just one).The first output will predict the likelihood that the image is an \"8\" and the second output will predict the likelihood it isn't an \"8\". By having a separate output for each type of object we want to recognize, we can use a neural network to classify objects into groups.\n",
        "\n",
        "Our neural network is a lot bigger than last time(324 inputs instead of 3!). But any modern computer can handle a neural network with a few hundred nodes without blinking. This would even work fine on your cell phone.\n",
        "\n",
        "All that's left is to train the neural network with images of \"8\"s and not\"8\"s so it learns to tell them apart. When we feed in an \"8\", we'll tell it the probability the image is an \"8\" is 100% and the probability it's not an \"8\" is 0%. Vice versa for the counter-example images.\n",
        "\n",
        "Here's some of our training data:"
      ]
    },
    {
      "metadata": {
        "id": "3jxCKQk8mXno",
        "colab_type": "text"
      },
      "cell_type": "markdown",
      "source": [
        "<img src=\"https://cdn-images-1.medium.com/max/1200/1*vEVQDKp9MgZkVPK4M70EhA.jpeg\">"
      ]
    },
    {
      "metadata": {
        "id": "qMc_63-YmbPE",
        "colab_type": "text"
      },
      "cell_type": "markdown",
      "source": [
        "We can train this kind of neural network in a few minutes on a modern laptop. When it's done , we'll have a neural network that can recognize pictures of \"8\"s with a pretty high accuracy. Welcome to the world of (late 1980's -era) image recognition!"
      ]
    },
    {
      "metadata": {
        "id": "iG2KQ7qJm2U0",
        "colab_type": "text"
      },
      "cell_type": "markdown",
      "source": [
        "It's really neat that simply feeding pixels into a neural network actually worked to build image recognition! Machine learning is magic!...right?\n",
        "\n",
        "well, of course it's not that simple.\n",
        "\n",
        "First, the good news is that our\"8\" recognizer really does work well on simple image where the letter is right in the middle of the image:"
      ]
    },
    {
      "metadata": {
        "id": "P073Y3kgnoFD",
        "colab_type": "text"
      },
      "cell_type": "markdown",
      "source": [
        "<img src=\"https://cdn-images-1.medium.com/max/800/1*5ciREAL7xdyXcD-cSRP7Jw.png\">"
      ]
    },
    {
      "metadata": {
        "id": "T4tPqaC1nr1W",
        "colab_type": "text"
      },
      "cell_type": "markdown",
      "source": [
        "But now the really bad news: Our \"8\" recognizer totally fails to work when the letter isn't perfectly centered in the image. Just the slightest position change ruins everything:"
      ]
    },
    {
      "metadata": {
        "id": "JXyYEmauoH1i",
        "colab_type": "text"
      },
      "cell_type": "markdown",
      "source": [
        "<img src=\"https://cdn-images-1.medium.com/max/800/1*b5jMTAiyVhOIB9hheXhMmA.png\">"
      ]
    },
    {
      "metadata": {
        "id": "V_r0ye0HoM_5",
        "colab_type": "text"
      },
      "cell_type": "markdown",
      "source": [
        "This is because our network only learned the pattern of a perfectly-centered \"8\". It has absolutely no idea what an off-center \"8\" is. It knows exactly one pattern and one pattern only.\n",
        "\n",
        "That's not very useful in the real world. Real world problems are never that clean and simple. So we need to figure out how to make our neural network work in cases where the \"8\" isn't perfectly centered."
      ]
    },
    {
      "metadata": {
        "id": "9-ApzkVko_cQ",
        "colab_type": "text"
      },
      "cell_type": "markdown",
      "source": [
        "## Brute force idea #1. searching with a sliding window\n",
        "\n",
        "We already created a really good program for finding an \"8\" centered in an image. What if we just scan all around the image for possible \"8\"s in smaller sections, one section at a time, until we find one?"
      ]
    },
    {
      "metadata": {
        "id": "RfiN7OtRptA3",
        "colab_type": "text"
      },
      "cell_type": "markdown",
      "source": [
        "<img src=\"https://cdn-images-1.medium.com/max/800/1*bGBijVuJnTRj8025et0mcQ.gif\">"
      ]
    },
    {
      "metadata": {
        "id": "2nyz2o1Ppw4s",
        "colab_type": "text"
      },
      "cell_type": "markdown",
      "source": [
        "This approach called a sliding window. It's the brute force solution. It works well in some limited cases, but it's really inefficient. You have to check the same image over and over looking for objects of different sizes. We can do better than this !"
      ]
    },
    {
      "metadata": {
        "id": "d7ZN2LfgqKYf",
        "colab_type": "text"
      },
      "cell_type": "markdown",
      "source": [
        "## Brute force idea # 2: more data and a deep neural net\n",
        "\n",
        "When we trained our network, we only showed it \"8\"s that were perfectly centered. What if we train it with more data, including \"8\"s in all different positions and sizes all around the image?\n",
        "\n",
        "We don't even need to collect new training data. We can just write a script to generate new images with \"8\"s in all kinds of different position in the image:"
      ]
    },
    {
      "metadata": {
        "id": "ctf2UTlSq9az",
        "colab_type": "text"
      },
      "cell_type": "markdown",
      "source": [
        "<img src=\"https://cdn-images-1.medium.com/max/800/1*biD9eS5eB6zXzieonNk-VQ.png\">"
      ]
    },
    {
      "metadata": {
        "id": "j_t9gm6qrCV0",
        "colab_type": "text"
      },
      "cell_type": "markdown",
      "source": [
        "We created Synthetic Training data by creating different versions of the training images we already had. This is a very useful technique!\n",
        "\n",
        "Using this technique, we can easily create an endless supply of training data. More data makes the problem harder for our neural network to solve, but we can compensate for that by making our network bigger and thus able to learn more complicated patterns. \n",
        "\n",
        "To make the network bigger, we just stack up layer upon layer of nodes:"
      ]
    },
    {
      "metadata": {
        "id": "CRXzSJS-sL1X",
        "colab_type": "text"
      },
      "cell_type": "markdown",
      "source": [
        "<img src=\"https://cdn-images-1.medium.com/max/800/1*wfmpsoFqWKC7VadjTJxwnQ.png\">"
      ]
    },
    {
      "metadata": {
        "id": "Gh9oZV28sPRQ",
        "colab_type": "text"
      },
      "cell_type": "markdown",
      "source": [
        "We call this a \"deep neural network \" because it has more layers than a traditional neural network.\n",
        "\n",
        "This idea has been around since the late 1960s. But until recently, training this large of a neural network was just too slow to be useful. But once we figured out how to use 3d graphics cards (which were designed to do matrix multiplication really fast) instead of normal computer processors, working with large neural networks suddenly became practical. In fact, the exact same NVIDIA geforce GTX 1080 video card that you use to play overwatch can be used to train neural networks incredibly quickly."
      ]
    },
    {
      "metadata": {
        "id": "6lZJ-GowtrQi",
        "colab_type": "text"
      },
      "cell_type": "markdown",
      "source": [
        "<img src=\"https://cdn-images-1.medium.com/max/800/1*DSbLJ2Ll7Ex0qW-lT5zY8A.png\">"
      ]
    },
    {
      "metadata": {
        "id": "tASoQkR0twA0",
        "colab_type": "text"
      },
      "cell_type": "markdown",
      "source": [
        "But even though we can make our neural network really big and train it quickly with a 3d graphics card, that still isn't going to get us all the way to a solution. We need to be smarter about how we process images into our neural network.\n",
        "\n",
        "Think about it. It doesn't make sense to train a network to recognize an \"8\" at the top of a picture separately from training it to recognize an \"8\" at the bottom of a picture as if those were two totally different objects. \n",
        "\n",
        " There should be some way to make the neural network smart enough to know that an \"8\" anywhere in the picture is the same thing without all that extra training . Luckily ... there is !\n",
        " \n",
        " "
      ]
    },
    {
      "metadata": {
        "id": "T0lQk2GFuqhn",
        "colab_type": "text"
      },
      "cell_type": "markdown",
      "source": [
        "## The solution is convolution\n",
        "\n",
        "As a human, you intuitively know that pictures have a hierarchy or conceptual structure. Consider this picture:"
      ]
    },
    {
      "metadata": {
        "id": "ZJIxJBffvAmL",
        "colab_type": "text"
      },
      "cell_type": "markdown",
      "source": [
        "<img src=\"https://cdn-images-1.medium.com/max/800/1*v_06o9d5u4k2lp9cTHQUtg.jpeg\">"
      ]
    },
    {
      "metadata": {
        "id": "R2o-dmv4vDqO",
        "colab_type": "text"
      },
      "cell_type": "markdown",
      "source": [
        "As a human , you instantly recognize the hierarchy in this picture:\n",
        "\n",
        "the ground is covered in grass and concrete\n",
        "\n",
        "there is a child\n",
        "\n",
        "the child is sitting on a bouncy horse\n",
        "\n",
        "the bouncy horse is on top ot the grass\n"
      ]
    },
    {
      "metadata": {
        "id": "Lfpo-kRevYHc",
        "colab_type": "text"
      },
      "cell_type": "markdown",
      "source": [
        "Most importantly, we recognize the idea of a child no matter what surface the child is on. we don't have to re-learn the idea of child for every possible surface it could appear on.\n",
        "\n",
        "But right now, our neural network can't do this. It thinks that an \"8\" in a different part of the image is an entirely different thing. It doesn't understand that moving an object around in the picture doesn't make it something different. This means it has to re-learn the identify of each object in every possible position. That sucks.\n",
        "\n",
        "We need to give our neural network understanding of translation invariance--an \"8\" is an \"8\" no matter where in the picture it shows up.\n",
        "\n",
        "we'll do this using a process called Convolution. The idea of convolution is inspired partly by computer science and partly by biology(i.e.mad acientists literally poking cat brains with weird probes to figure out how cats process images)."
      ]
    },
    {
      "metadata": {
        "id": "roayJqySxBjy",
        "colab_type": "text"
      },
      "cell_type": "markdown",
      "source": [
        "## How Convolution Works\n",
        "\n",
        "Instead of feeding entire images into our neural network as one grid of numbers , we're going to do something a lot smarter that takes advantage of the idea that an object is the same no matter where it appears in a picture.\n",
        "\n",
        "Here's how it's going to work, step by step--"
      ]
    },
    {
      "metadata": {
        "id": "_TfbLHARxcMG",
        "colab_type": "text"
      },
      "cell_type": "markdown",
      "source": [
        "## Step 1: Break the image into overlapping image tiles\n",
        "\n",
        "Similar to our sliding window search above, let's pass a sliding window over the entire original image and save each result as a separate, tiny picture tile:"
      ]
    },
    {
      "metadata": {
        "id": "Nd4ac90NxymC",
        "colab_type": "text"
      },
      "cell_type": "markdown",
      "source": [
        "<img src=\"https://cdn-images-1.medium.com/max/800/1*xS7EugfgQHk68iph7GHpQg.png\">"
      ]
    },
    {
      "metadata": {
        "id": "nJbOtpWgyLum",
        "colab_type": "text"
      },
      "cell_type": "markdown",
      "source": [
        "By doing this, we turned our original image into 77 equally-sized tiny image tiles.\n",
        "\n",
        "## Step 2: feed each image tile into a small neural network\n",
        "\n",
        "Earlier, we fed a single image into a neural network to see if it was an \"8\". We'll do the exact same thing here, but we'll do it for each individual image tile:"
      ]
    },
    {
      "metadata": {
        "id": "i2ZxRmamyr4d",
        "colab_type": "text"
      },
      "cell_type": "markdown",
      "source": [
        "<img src=\"https://cdn-images-1.medium.com/max/800/1*84-TdHvtAHkfnzwa1ZsTVg.png\">"
      ]
    },
    {
      "metadata": {
        "id": "YEOddbpwyvin",
        "colab_type": "text"
      },
      "cell_type": "markdown",
      "source": [
        "However , there's one big twist:We'll keep the same neural network weights for every single tile in the same original image. In other words , we are treating every image tile equally. If something interesting appears in any given tile, we'll mark that tile as interesting."
      ]
    },
    {
      "metadata": {
        "id": "ZN-Rpy4pzTrV",
        "colab_type": "text"
      },
      "cell_type": "markdown",
      "source": [
        "## Step 3: Save the results from each tile into a new array\n",
        "\n",
        "We don't want to lose track of the arrangement of the original tiles. So we save the result from processing each tile into a grid in the same arrangement as the original image. It looks like this:"
      ]
    },
    {
      "metadata": {
        "id": "GaXfkojYzq5K",
        "colab_type": "text"
      },
      "cell_type": "markdown",
      "source": [
        "<img src=\"https://cdn-images-1.medium.com/max/800/1*tpMqyjAFgsYWpvlNkZgFfw.png\">"
      ]
    },
    {
      "metadata": {
        "id": "xUkSz7i1zxzI",
        "colab_type": "text"
      },
      "cell_type": "markdown",
      "source": [
        "In other words, we've started with a large image and we ended with a slightly smaller array that records which sections of our original image were the most interesting."
      ]
    },
    {
      "metadata": {
        "id": "mZLucsyP0BOJ",
        "colab_type": "text"
      },
      "cell_type": "markdown",
      "source": [
        "## Step 4: Downsampling\n",
        "\n",
        "The result of Step 3 was an array that maps out which parts of the original image are the most interesting . But that array is still pretty big:"
      ]
    },
    {
      "metadata": {
        "id": "RD_VJTUW0TC9",
        "colab_type": "text"
      },
      "cell_type": "markdown",
      "source": [
        "<img src=\"https://cdn-images-1.medium.com/max/800/1*1WWTbW9yyEJ69TF1rsPv4g.png\">"
      ]
    },
    {
      "metadata": {
        "id": "RGTSMzSU0WEq",
        "colab_type": "text"
      },
      "cell_type": "markdown",
      "source": [
        "To reduce the size of the array, we downsample it using an algorithm called max pooling. It sounds fancy, but it isn't at all !\n",
        "\n",
        "we'll just look at each 2x2 square of the array and keep the biggest number:"
      ]
    },
    {
      "metadata": {
        "id": "_XPo390z0rqE",
        "colab_type": "text"
      },
      "cell_type": "markdown",
      "source": [
        "<img src=\"https://cdn-images-1.medium.com/max/800/1*xOAroFiw9X0WSkCwgcIO6Q.png\">"
      ]
    },
    {
      "metadata": {
        "id": "qpfx_0NR0uwD",
        "colab_type": "text"
      },
      "cell_type": "markdown",
      "source": [
        "The idea here is that if we found something interesting in any of the four input tiles that mekes up each 2x2 grid square, we'll just keep the most interesting bit. This reduces the size of our array while keeping the most important bits.\n",
        "\n",
        "## Final step: make a prediction\n",
        "\n",
        "So far, we've reduced a giant image down into a fairly small array. Guess what ? That array is just a bunch of numbers , so we can use that small array as input into another neural network. This final neural network will decide if the image is or isn't a match. To differentiate it from the convolution step, we call it a \"fully conneted \"network.\n",
        "\n",
        "So from start to finish, our whole five-step pipeline looks like this:"
      ]
    },
    {
      "metadata": {
        "id": "dwWXaMZR1qws",
        "colab_type": "text"
      },
      "cell_type": "markdown",
      "source": [
        "<img src=\"https://cdn-images-1.medium.com/max/800/1*tJ1Rkl5xw_5izEZXmNfh5Q.png\">"
      ]
    },
    {
      "metadata": {
        "id": "598HoF8S1uNG",
        "colab_type": "text"
      },
      "cell_type": "markdown",
      "source": [
        "## Adding even more steps\n",
        "\n",
        "Our image processing pipeline is a series of steps:convolution, max-pooling, and finally a fully-connected network.\n",
        "\n",
        "when solving problem in the real world ,these steps can be combined and stacked as many times as you want! You can have two, three or even ten convolution layers. You can throw in max pooling wherever you want to reduce the size of your data.\n",
        "\n",
        "The basic idea is to start with a large image and continually boil it down, step by step, until you finally have a single result. The more convolution steps you have , the more complicted features your network will be able to learn to recognize.\n",
        "\n",
        "For example, the first convolution step might learn to recognize sharp edges, the second convolution step might recognize beaks using it's knowledge of sharp edges, the third step might recognize entire birds using it's knowledge of beaks,etc.\n",
        "\n",
        "Here's what a more realistic deep convolutional network (like you would find in a research paper) looks like:"
      ]
    },
    {
      "metadata": {
        "id": "VEgmzBJu3Loh",
        "colab_type": "text"
      },
      "cell_type": "markdown",
      "source": [
        "<img src=\"https://cdn-images-1.medium.com/max/800/1*JSnKtzEgiHd4p6UlNv_C7w.png\">"
      ]
    },
    {
      "metadata": {
        "id": "quBA2bGv3Q1o",
        "colab_type": "text"
      },
      "cell_type": "markdown",
      "source": [
        "In this case, they start a 224x224 pixel image, apply convolution and max pooling twice, apply convolution 3 more times , apply max pooling and then have two fully-conneted layers. The end result is that the image is classified into one of 1000 categories!\n",
        "\n",
        "## Constucting the Right Network\n",
        "\n",
        "So how do you know which steps you need to combine to make your image classifier work?\n",
        "\n",
        "honestly, you have to answer this by doing a lot of experimentation and testing. You might have to train 100 networks before you find the optimal structure and parameters for the problem you are solving. Machine learning involves a lot of trial and error!"
      ]
    },
    {
      "metadata": {
        "id": "fEvemLmf4Tk5",
        "colab_type": "text"
      },
      "cell_type": "markdown",
      "source": [
        "## Building our Bird Classifier\n",
        "\n",
        "Now finally we know enough to write a program that can decide if a picture is a bird or not.\n",
        "\n",
        "As always, we need some data to get started. The free CIFAR10 data set contain 6000 pictures of birds and 52000 pictures of things that are not birds. But to get even more data we'll also add in the Galtech-UCSD Birds 200-2011 dataset that has another 12,000 bird pics.\n",
        "\n",
        "Here's a few of the birds from our combined dataset:"
      ]
    },
    {
      "metadata": {
        "id": "LX33IE6f5IoZ",
        "colab_type": "text"
      },
      "cell_type": "markdown",
      "source": [
        "<img src=\"https://cdn-images-1.medium.com/max/1200/1*r9I5D3NXCn8gnLOjahuSQA.png\">"
      ]
    },
    {
      "metadata": {
        "id": "ICv9sZZn5NC5",
        "colab_type": "text"
      },
      "cell_type": "markdown",
      "source": [
        "And here's some of the 52,000 non-bird images:"
      ]
    },
    {
      "metadata": {
        "id": "-vDaJmn15TUx",
        "colab_type": "text"
      },
      "cell_type": "markdown",
      "source": [
        "<img src=\"https://cdn-images-1.medium.com/max/1200/1*ODaXoLQY4-D7zqHrqeA4Uw.png\">"
      ]
    },
    {
      "metadata": {
        "id": "zj7ISUOS5Y_V",
        "colab_type": "text"
      },
      "cell_type": "markdown",
      "source": [
        "This data set will work fine for our purposes , but 72,000 low-res images is still pretty small for real-world applicaitons .  If you want Google-level performance, you need millions of large images. In machine learning , having more data is almost always more important that having better algorithms. Now you know why Google is so happy to offer you unlimited photo storage. They want your sweet, sweet data!\n",
        "\n",
        "To build our classifier, we'll use TFLearn. TFlearn is a wrapper around Google's tensorflow deep learning library that exposes a simplified API. It makes building convolutional neural networks as easy as writing a few lines of code to define the layers of our network.\n",
        "\n",
        "Here's the code to define and train the network:\n",
        "\n"
      ]
    },
    {
      "metadata": {
        "id": "i6j88QslmTPr",
        "colab_type": "code",
        "colab": {}
      },
      "cell_type": "code",
      "source": [
        "# -*- coding: utf-8 -*-\n",
        "\n",
        "\"\"\"\n",
        "Based on the tflearn example located here:\n",
        "https://github.com/tflearn/tflearn/blob/master/examples/images/convnet_cifar10.py\n",
        "\"\"\"\n",
        "from __future__ import division, print_function, absolute_import\n",
        "\n",
        "# Import tflearn and some helpers\n",
        "import tflearn\n",
        "from tflearn.data_utils import shuffle\n",
        "from tflearn.layers.core import input_data, dropout, fully_connected\n",
        "from tflearn.layers.conv import conv_2d, max_pool_2d\n",
        "from tflearn.layers.estimator import regression\n",
        "from tflearn.data_preprocessing import ImagePreprocessing\n",
        "from tflearn.data_augmentation import ImageAugmentation\n",
        "import pickle\n",
        "\n",
        "# Load the data set\n",
        "X, Y, X_test, Y_test = pickle.load(open(\"full_dataset.pkl\", \"rb\"))\n",
        "\n",
        "# Shuffle the data\n",
        "X, Y = shuffle(X, Y)\n",
        "\n",
        "# Make sure the data is normalized\n",
        "img_prep = ImagePreprocessing()\n",
        "img_prep.add_featurewise_zero_center()\n",
        "img_prep.add_featurewise_stdnorm()\n",
        "\n",
        "# Create extra synthetic training data by flipping, rotating and blurring the\n",
        "# images on our data set.\n",
        "img_aug = ImageAugmentation()\n",
        "img_aug.add_random_flip_leftright()\n",
        "img_aug.add_random_rotation(max_angle=25.)\n",
        "img_aug.add_random_blur(sigma_max=3.)\n",
        "\n",
        "# Define our network architecture:\n",
        "\n",
        "# Input is a 32x32 image with 3 color channels (red, green and blue)\n",
        "network = input_data(shape=[None, 32, 32, 3],\n",
        "                     data_preprocessing=img_prep,\n",
        "                     data_augmentation=img_aug)\n",
        "\n",
        "# Step 1: Convolution\n",
        "network = conv_2d(network, 32, 3, activation='relu')\n",
        "\n",
        "# Step 2: Max pooling\n",
        "network = max_pool_2d(network, 2)\n",
        "\n",
        "# Step 3: Convolution again\n",
        "network = conv_2d(network, 64, 3, activation='relu')\n",
        "\n",
        "# Step 4: Convolution yet again\n",
        "network = conv_2d(network, 64, 3, activation='relu')\n",
        "\n",
        "# Step 5: Max pooling again\n",
        "network = max_pool_2d(network, 2)\n",
        "\n",
        "# Step 6: Fully-connected 512 node neural network\n",
        "network = fully_connected(network, 512, activation='relu')\n",
        "\n",
        "# Step 7: Dropout - throw away some data randomly during training to prevent over-fitting\n",
        "network = dropout(network, 0.5)\n",
        "\n",
        "# Step 8: Fully-connected neural network with two outputs (0=isn't a bird, 1=is a bird) to make the final prediction\n",
        "network = fully_connected(network, 2, activation='softmax')\n",
        "\n",
        "# Tell tflearn how we want to train the network\n",
        "network = regression(network, optimizer='adam',\n",
        "                     loss='categorical_crossentropy',\n",
        "                     learning_rate=0.001)\n",
        "\n",
        "# Wrap the network in a model object\n",
        "model = tflearn.DNN(network, tensorboard_verbose=0, checkpoint_path='bird-classifier.tfl.ckpt')\n",
        "\n",
        "# Train it! We'll do 100 training passes and monitor it as it goes.\n",
        "model.fit(X, Y, n_epoch=100, shuffle=True, validation_set=(X_test, Y_test),\n",
        "          show_metric=True, batch_size=96,\n",
        "          snapshot_epoch=True,\n",
        "          run_id='bird-classifier')\n",
        "\n",
        "# Save model when training is complete to a file\n",
        "model.save(\"bird-classifier.tfl\")\n",
        "print(\"Network trained and saved as bird-classifier.tfl!\")"
      ],
      "execution_count": 0,
      "outputs": []
    },
    {
      "metadata": {
        "id": "9XVMGYV7mN35",
        "colab_type": "text"
      },
      "cell_type": "markdown",
      "source": [
        "If you are trianing with a good video card with enouth RAM(like an Nvidia GeForce GTX 980 ti or better), this will be done in less than an hour. If you are training with a normal cpu, it might take a lot longer.\n",
        "\n",
        "As it trains, the accuracy will increase. After the first pass, I got 75.4% accuracy. After just 10 passes, it was already up to 91.7%. After 50 or so passes, it capped out around 95.5% accuracy and additional training didn't help, so I stopped it there.\n",
        "\n",
        "Congrats! Our program can now recognize birds in images!"
      ]
    },
    {
      "metadata": {
        "id": "u6BpmAmZ7doK",
        "colab_type": "text"
      },
      "cell_type": "markdown",
      "source": [
        "##Testing our network\n",
        "\n",
        "Now that we have a trained neural network ,we can use it ! Here's a simmple script that takes in a single image file and predicts if it is a bird or not.\n",
        "\n",
        "But to really see how effective our network is, we need to test it with lots of images. The data set I created held back 15,000 images for validation. Whe i ran those 15,000 images throuth the network , it predicted the correct answer 95% of the time.\n",
        "\n",
        "That seems pretty good, right? well... it depends!"
      ]
    },
    {
      "metadata": {
        "id": "fD9KU3b28MJv",
        "colab_type": "text"
      },
      "cell_type": "markdown",
      "source": [
        "## How accurate is 95% accurate?\n",
        "\n",
        "Our network claims to be 95% accurate. But the devil is in the details. That could mean all sorts of different things. \n",
        "\n",
        "For example, what if 5% of our training images were birds and the other 95% were not birds? A program that guessed \"not a bird\" every single time would be 95% accurate ! But it would also be 100% useless.\n",
        "\n",
        "We need to look more closely at the numbers than just the overall accuracy. To judge how good a classification system really is, we need to look closely at how it failed, not just the percentage of the time that it failed.\n",
        "\n",
        "Instead of thinking about our predictions as \"right\" and \"wrong\",let's break them down into four separate categories--\n",
        "\n",
        "First , here are some of the birds that our network correctly identified as birds. Let's call these True Positives:"
      ]
    },
    {
      "metadata": {
        "id": "0758ULDU9XmZ",
        "colab_type": "text"
      },
      "cell_type": "markdown",
      "source": [
        "<img src=\"https://cdn-images-1.medium.com/max/1200/1*iuk7uONvXNfEDwAyED0HIQ.png\">"
      ]
    },
    {
      "metadata": {
        "id": "qE8Kz7Kg9afs",
        "colab_type": "text"
      },
      "cell_type": "markdown",
      "source": [
        "Second, here are images that our network correctly indentified as \"not a bird\". These are called True negatives:"
      ]
    },
    {
      "metadata": {
        "id": "bszr93iB9m4y",
        "colab_type": "text"
      },
      "cell_type": "markdown",
      "source": [
        "<img src=\"https://cdn-images-1.medium.com/max/1200/1*QZWiJpImtlmohA-6TQPsEg.png\">"
      ]
    },
    {
      "metadata": {
        "id": "rZQnVnSd9p3z",
        "colab_type": "text"
      },
      "cell_type": "markdown",
      "source": [
        "Third, here are some images that we thought were birds but were not really birds at all. These are our False Positives:"
      ]
    },
    {
      "metadata": {
        "id": "Wv0Soyse941A",
        "colab_type": "text"
      },
      "cell_type": "markdown",
      "source": [
        "<img src=\"https://cdn-images-1.medium.com/max/1200/1*UcKIK1Mxe29WB9Df1gembQ.png\">"
      ]
    },
    {
      "metadata": {
        "id": "oD644bS997ws",
        "colab_type": "text"
      },
      "cell_type": "markdown",
      "source": [
        "And finally, here are some images of birds that we didn't correctly recognize as birds. These are our False Negatives:"
      ]
    },
    {
      "metadata": {
        "id": "zKC3zYgt-HlQ",
        "colab_type": "text"
      },
      "cell_type": "markdown",
      "source": [
        "<img src=\"https://cdn-images-1.medium.com/max/1200/1*Ac9OnpayukliEJchRKiKFQ.png\">"
      ]
    },
    {
      "metadata": {
        "id": "rKYKJUxi-L2a",
        "colab_type": "text"
      },
      "cell_type": "markdown",
      "source": [
        "Using our validation set of 15,000 images, here's how many times our predictions fell into each category:"
      ]
    },
    {
      "metadata": {
        "id": "s46V5eCg-rJL",
        "colab_type": "text"
      },
      "cell_type": "markdown",
      "source": [
        "<img src=\"https://cdn-images-1.medium.com/max/800/1*lgSDQ4-Js3elXBpavIp6FA.png\">"
      ]
    },
    {
      "metadata": {
        "id": "PqQIuwO8-v4Z",
        "colab_type": "text"
      },
      "cell_type": "markdown",
      "source": [
        "Why do we break our results down like this? Because not all mistakes are created equal.\n",
        "\n",
        "Imageine if we were writing a program to detect cancer from an MRI image. If we were detecting cancer, we'd rather have false positives than false negatives. False negative would be the worse possible case-- that's when the program told someone they definitely didn't have cancer but they acutally did.\n",
        "\n",
        "Instead of just looking at overall accuracy, we calculate Precision and recall metrics. Precision and recall metrics give us a clearer picture of how well we did:"
      ]
    },
    {
      "metadata": {
        "id": "NwaVjUdD_gne",
        "colab_type": "text"
      },
      "cell_type": "markdown",
      "source": [
        "<img src=\"https://cdn-images-1.medium.com/max/800/1*T8SURWDvTTEY37yjUvu_pQ.png\">"
      ]
    },
    {
      "metadata": {
        "id": "JTeCqxJv_lFE",
        "colab_type": "text"
      },
      "cell_type": "markdown",
      "source": [
        "This tells us that 97% of the time we guessed \"Bird \", we were right! But it also tells us that we only found 90% of the acutal birds in the data set. In other words, we might not find every bird but we are pretty sure about it when we do find one!"
      ]
    },
    {
      "metadata": {
        "id": "jnbzWEAy_8QL",
        "colab_type": "text"
      },
      "cell_type": "markdown",
      "source": [
        "## Where to go from here\n",
        "\n",
        "Now that you know the basics of deep convolutional networks, you can try out some of the examples that come with tflearn to get your hands dirty with different neural network architecutures. It even comes with build-in data sets so you don't even have to find your won images.\n",
        "\n",
        "You also know enough now to start branching and learning about other areas of machine learning. Why not learn how to use slgorithms to train computers how to play Atari games next?\n"
      ]
    },
    {
      "metadata": {
        "id": "quS_VUe4BDrm",
        "colab_type": "text"
      },
      "cell_type": "markdown",
      "source": [
        "Sourse:https://medium.com/@ageitgey/machine-learning-is-fun-part-3-deep-learning-and-convolutional-neural-networks-f40359318721"
      ]
    }
  ]
}