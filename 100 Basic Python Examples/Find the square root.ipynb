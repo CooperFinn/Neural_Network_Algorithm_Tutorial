{
 "cells": [
  {
   "cell_type": "markdown",
   "metadata": {},
   "source": [
    "## Find the square root"
   ]
  },
  {
   "cell_type": "code",
   "execution_count": 1,
   "metadata": {},
   "outputs": [
    {
     "name": "stdout",
     "output_type": "stream",
     "text": [
      "The square root of 2 is1.4142135623730951\n"
     ]
    }
   ],
   "source": [
    "# find the square root\n",
    "num=2 \n",
    "num_sqrt=num**0.5\n",
    "print(\"The square root of {0} is{1}\".format(num,num_sqrt))"
   ]
  },
  {
   "cell_type": "code",
   "execution_count": 4,
   "metadata": {},
   "outputs": [
    {
     "name": "stdout",
     "output_type": "stream",
     "text": [
      "enter a number2\n",
      "The square root of 2.0 is1.4142135623730951\n"
     ]
    }
   ],
   "source": [
    "# take the input from the user\n",
    "num=float(input(\"enter a number\"))\n",
    "num_sqrt=num**0.5\n",
    "print(\"The square root of {0} is{1}\".format(num,num_sqrt))"
   ]
  },
  {
   "cell_type": "markdown",
   "metadata": {},
   "source": [
    "In this program, we store the number in sum and find the square root using the ** exponent operator.This program works for all positive real numbers. But for negative or complex numbers, it can be done as follows."
   ]
  },
  {
   "cell_type": "code",
   "execution_count": 6,
   "metadata": {},
   "outputs": [
    {
     "name": "stdout",
     "output_type": "stream",
     "text": [
      "The square root of (1+2j)is 1.272+0.786j\n"
     ]
    }
   ],
   "source": [
    "# Find the square root of real or complex numbers\n",
    "# Import the complex math module\n",
    "import cmath\n",
    "# change this value for a different result\n",
    "num=1+2j\n",
    "num_sqrt=cmath.sqrt(num)\n",
    "print(\"The square root of {0}is {1:0.3f}+{2:0.3f}j\".format(num,num_sqrt.real,num_sqrt.imag))"
   ]
  },
  {
   "cell_type": "code",
   "execution_count": 11,
   "metadata": {},
   "outputs": [
    {
     "name": "stdout",
     "output_type": "stream",
     "text": [
      "enter a number1+2j\n",
      "The square root of (1+2j)is 1.272+0.786j\n"
     ]
    }
   ],
   "source": [
    "import cmath\n",
    "num=eval(input(\"enter a number\"))\n",
    "num_sqrt=cmath.sqrt(num)\n",
    "print(\"The square root of {0}is {1:0.3f}+{2:0.3f}j\".format(num,num_sqrt.real,num_sqrt.imag))"
   ]
  },
  {
   "cell_type": "markdown",
   "metadata": {},
   "source": [
    "In this program, we use the sqrt()function in the cmath module.Notice that we used the eval()function instead of float()to convert complex number as well.Also notice the way in which the output is formated."
   ]
  }
 ],
 "metadata": {
  "kernelspec": {
   "display_name": "Python 3",
   "language": "python",
   "name": "python3"
  },
  "language_info": {
   "codemirror_mode": {
    "name": "ipython",
    "version": 3
   },
   "file_extension": ".py",
   "mimetype": "text/x-python",
   "name": "python",
   "nbconvert_exporter": "python",
   "pygments_lexer": "ipython3",
   "version": "3.7.1"
  }
 },
 "nbformat": 4,
 "nbformat_minor": 2
}
