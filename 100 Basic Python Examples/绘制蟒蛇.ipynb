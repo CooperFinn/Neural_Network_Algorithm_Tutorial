{
 "cells": [
  {
   "cell_type": "code",
   "execution_count": 1,
   "metadata": {},
   "outputs": [],
   "source": [
    "import turtle as t\n",
    "t.setup(800,800,0,0)\n",
    "t.penup()\n",
    "t.fd(-300)\n",
    "t.pendown()\n",
    "t.pensize(10)\n",
    "t.pencolor(\"red\")\n",
    "t.seth(-45)\n",
    "for i in range(5):\n",
    "    t.circle(40,90)\n",
    "    t.circle(-40,90)\n",
    "t.circle(40,45)\n",
    "t.fd(40)\n",
    "t.circle(16,180)\n",
    "t.fd(40*2/3)\n",
    "t.done()"
   ]
  },
  {
   "cell_type": "code",
   "execution_count": 1,
   "metadata": {},
   "outputs": [],
   "source": [
    "\"\"\"\n",
    "from turtle import*#引入turtle库\n",
    "from turtle import()#引入turtle库\n",
    "import turtle#引入turtle库\n",
    "import turtle as t #引入turtle库\n",
    "t.setup(width,height,startx,starty) #设置窗体大小及位置\n",
    "t.goto(x,y) #绝对坐标系中海龟走的路线\n",
    "t.fd(d)#向前\n",
    "t.bk(d)#向后\n",
    "t.left(angle)#向左转\n",
    "t.right(angle)#向右转\n",
    "t.circle(r.angle)#海龟左侧画圆\n",
    "t.seth(angle) #改变海龟的行进方向\n",
    "t.colormode(mode)\n",
    "t.penup()#抬笔\n",
    "t.pendown()#下笔\n",
    "t.pensize(width)#笔大小\n",
    "t.pencolor(\"purple\") or t.pencolor(R,G,B)#笔颜色\n",
    "\"\"\""
   ]
  },
  {
   "cell_type": "code",
   "execution_count": null,
   "metadata": {},
   "outputs": [],
   "source": []
  },
  {
   "cell_type": "code",
   "execution_count": null,
   "metadata": {},
   "outputs": [],
   "source": []
  }
 ],
 "metadata": {
  "kernelspec": {
   "display_name": "Python 3",
   "language": "python",
   "name": "python3"
  },
  "language_info": {
   "codemirror_mode": {
    "name": "ipython",
    "version": 3
   },
   "file_extension": ".py",
   "mimetype": "text/x-python",
   "name": "python",
   "nbconvert_exporter": "python",
   "pygments_lexer": "ipython3",
   "version": "3.7.1"
  }
 },
 "nbformat": 4,
 "nbformat_minor": 2
}
