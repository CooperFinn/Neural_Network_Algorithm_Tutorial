{
 "cells": [
  {
   "cell_type": "markdown",
   "metadata": {},
   "source": [
    "## 计算进退步倍数"
   ]
  },
  {
   "cell_type": "code",
   "execution_count": 6,
   "metadata": {},
   "outputs": [
    {
     "name": "stdout",
     "output_type": "stream",
     "text": [
      "一年进退步倍数为：4.63\n"
     ]
    }
   ],
   "source": [
    "#一年265天，周一到周五进步1%，周六到周日退步1%，计算一年后进退步倍数。\n",
    "dayup=1.0\n",
    "dayfactor=0.01\n",
    "for i in range(365):\n",
    "    if i%7 in [0,6]:#周六周日\n",
    "        dayup=dayup*(1-dayfactor)\n",
    "    else:#周一到周五\n",
    "        dayup=dayup*(1+dayfactor)\n",
    "print(\"一年进退步倍数为：{0:0.2f}\".format(dayup))\n",
    "    "
   ]
  }
 ],
 "metadata": {
  "kernelspec": {
   "display_name": "Python 3",
   "language": "python",
   "name": "python3"
  },
  "language_info": {
   "codemirror_mode": {
    "name": "ipython",
    "version": 3
   },
   "file_extension": ".py",
   "mimetype": "text/x-python",
   "name": "python",
   "nbconvert_exporter": "python",
   "pygments_lexer": "ipython3",
   "version": "3.7.1"
  }
 },
 "nbformat": 4,
 "nbformat_minor": 2
}
