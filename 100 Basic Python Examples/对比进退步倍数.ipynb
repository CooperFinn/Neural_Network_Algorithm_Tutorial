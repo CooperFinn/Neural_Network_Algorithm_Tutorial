{
 "cells": [
  {
   "cell_type": "markdown",
   "metadata": {},
   "source": [
    "## 对比进退步倍数"
   ]
  },
  {
   "cell_type": "code",
   "execution_count": 2,
   "metadata": {},
   "outputs": [
    {
     "name": "stdout",
     "output_type": "stream",
     "text": [
      "小红周一到周五需要进步：0.019\n"
     ]
    }
   ],
   "source": [
    "#小明每天进步1%，小红周一到周五进步,周六到周日退步1%，计算一年中小红需要进步多少才能赶上小明。\n",
    "def dayup(dayfactor):#定义小红进步倍数函数\n",
    "    dayup=1\n",
    "    for i in range(365):\n",
    "        if i%7 in [0,6]:#周六周日\n",
    "            dayup=dayup*(1-0.01)\n",
    "        else:#周一到周五\n",
    "            dayup=dayup*(1+dayfactor)\n",
    "    return dayup\n",
    "dayfactor=0.01#小红起始进步倍数赋值为0.01\n",
    "while dayup(dayfactor)<37.78:#while循环，知道接近小明的时候停止循环。\n",
    "    dayfactor+=0.001\n",
    "print(\"小红周一到周五需要进步：{0:0.3f}\".format(dayfactor))\n",
    "    "
   ]
  }
 ],
 "metadata": {
  "kernelspec": {
   "display_name": "Python 3",
   "language": "python",
   "name": "python3"
  },
  "language_info": {
   "codemirror_mode": {
    "name": "ipython",
    "version": 3
   },
   "file_extension": ".py",
   "mimetype": "text/x-python",
   "name": "python",
   "nbconvert_exporter": "python",
   "pygments_lexer": "ipython3",
   "version": "3.7.1"
  }
 },
 "nbformat": 4,
 "nbformat_minor": 2
}
