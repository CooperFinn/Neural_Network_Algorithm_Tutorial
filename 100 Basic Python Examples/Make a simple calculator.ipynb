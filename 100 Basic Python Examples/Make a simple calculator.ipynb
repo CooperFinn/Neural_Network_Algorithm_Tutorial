{
 "cells": [
  {
   "cell_type": "markdown",
   "metadata": {},
   "source": [
    "## Make a simple calculator"
   ]
  },
  {
   "cell_type": "markdown",
   "metadata": {},
   "source": [
    "In this exmaple, we will learn to create a simple calculator that can add, subtract,multipy or divide depending upon the input from the user."
   ]
  },
  {
   "cell_type": "code",
   "execution_count": 14,
   "metadata": {},
   "outputs": [
    {
     "name": "stdout",
     "output_type": "stream",
     "text": [
      "select operation:\n",
      " 1.add\n",
      " 2.subtract \n",
      " 3.multiply \n",
      " 4.divide\n",
      "enter your choice(1/2/3/4):4\n",
      "enter your first number:1\n",
      "enter your second number:10000000000000\n",
      "1.0 / 10000000000000.0 = 1e-13\n"
     ]
    }
   ],
   "source": [
    "# make a simple calculator\n",
    "\n",
    "# 1.this function adds two numbers\n",
    "def add(x,y):\n",
    "    return x+y\n",
    "# 2.this function subtracts two numbers\n",
    "def subtract(x,y):\n",
    "    return x-y\n",
    "# 3.this function multiplies two numbers\n",
    "def multiply(x,y):\n",
    "    return x*y\n",
    "# 4.this function divides two numbers\n",
    "def divide(x,y):\n",
    "    return x/y\n",
    "print(\"select operation:\\n 1.add\\n 2.subtract \\n 3.multiply \\n 4.divide\")\n",
    "# 5.take input from the user\n",
    "choice=input(\"enter your choice(1/2/3/4):\")\n",
    "num1=float(input(\"enter your first number:\"))\n",
    "num2=float(input(\"enter your second number:\"))\n",
    "# 6.calculate\n",
    "if choice==\"1\":\n",
    "    print(num1,\"+\",num2,\"=\",add(num1,num2))\n",
    "elif choice==\"2\":\n",
    "    print(num1,\"-\",num2,\"=\",subtract(num1,num2))\n",
    "elif choice==\"3\":\n",
    "    print(num1,\"*\",num2,\"=\",multiply(num1,num2))\n",
    "elif choice==\"4\":\n",
    "    print(num1,\"/\",num2,\"=\",divide(num1,num2))\n",
    "else:\n",
    "    print(\"invalid input\")"
   ]
  },
  {
   "cell_type": "markdown",
   "metadata": {},
   "source": [
    "We ask the user to choose the desired operation.Option 1, 2, 3 and 4 are valid.Two numbers are taken and an <strong>if...elif...else</strong> branching is used to execute a particular section.User-defined functions <strong>add(), subtract(), multiply()and divide()</strong> evaluate respective operations."
   ]
  }
 ],
 "metadata": {
  "kernelspec": {
   "display_name": "Python 3",
   "language": "python",
   "name": "python3"
  },
  "language_info": {
   "codemirror_mode": {
    "name": "ipython",
    "version": 3
   },
   "file_extension": ".py",
   "mimetype": "text/x-python",
   "name": "python",
   "nbconvert_exporter": "python",
   "pygments_lexer": "ipython3",
   "version": "3.7.1"
  }
 },
 "nbformat": 4,
 "nbformat_minor": 2
}
