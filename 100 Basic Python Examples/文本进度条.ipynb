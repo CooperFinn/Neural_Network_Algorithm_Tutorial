{
 "cells": [
  {
   "cell_type": "markdown",
   "metadata": {},
   "source": [
    "## 方法一"
   ]
  },
  {
   "cell_type": "code",
   "execution_count": 21,
   "metadata": {},
   "outputs": [
    {
     "name": "stdout",
     "output_type": "stream",
     "text": [
      "执行开始\n",
      "  0%[->..........]\n",
      " 10%[*->.........]\n",
      " 20%[**->........]\n",
      " 30%[***->.......]\n",
      " 40%[****->......]\n",
      " 50%[*****->.....]\n",
      " 60%[******->....]\n",
      " 70%[*******->...]\n",
      " 80%[********->..]\n",
      " 90%[*********->.]\n",
      "100%[**********->]\n",
      "执行结束\n"
     ]
    }
   ],
   "source": [
    "#写文本进度条\n",
    "import time\n",
    "scale=10\n",
    "print(\"执行开始\")\n",
    "for i in range(scale+1):\n",
    "    a='*'* i\n",
    "    b='.'* (scale-i)\n",
    "    c=(i/scale)*100\n",
    "    print(\"{:3.0f}%[{}->{}]\".format(c,a,b))\n",
    "    time.sleep(1)\n",
    "print(\"执行结束\")"
   ]
  },
  {
   "cell_type": "markdown",
   "metadata": {},
   "source": [
    "## 方法二"
   ]
  },
  {
   "cell_type": "code",
   "execution_count": 20,
   "metadata": {},
   "outputs": [
    {
     "name": "stdout",
     "output_type": "stream",
     "text": [
      "-----------执行开始----------\n",
      "100%[**************************************************->]5.24s\n",
      "-----------执行结束----------\n"
     ]
    }
   ],
   "source": [
    "import time\n",
    "scale=50\n",
    "print(\"执行开始\".center(scale//2,\"-\"))\n",
    "start=time.perf_counter()\n",
    "for i in range(scale+1):\n",
    "    a='*'* i\n",
    "    b='.'*(scale-i)\n",
    "    c=(i/scale)*100\n",
    "    dur=time.perf_counter()-start\n",
    "    print(\"\\r{:^3.0f}%[{}->{}]{:.2f}s\".format(c,a,b,dur),end=\"\")\n",
    "    time.sleep(0.1)\n",
    "print(\"\\n\"+\"执行结束\".center(scale//2,'-'))"
   ]
  }
 ],
 "metadata": {
  "kernelspec": {
   "display_name": "Python 3",
   "language": "python",
   "name": "python3"
  },
  "language_info": {
   "codemirror_mode": {
    "name": "ipython",
    "version": 3
   },
   "file_extension": ".py",
   "mimetype": "text/x-python",
   "name": "python",
   "nbconvert_exporter": "python",
   "pygments_lexer": "ipython3",
   "version": "3.7.1"
  }
 },
 "nbformat": 4,
 "nbformat_minor": 2
}
