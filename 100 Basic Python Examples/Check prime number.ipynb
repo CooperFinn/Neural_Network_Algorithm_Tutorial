{
 "cells": [
  {
   "cell_type": "markdown",
   "metadata": {},
   "source": [
    "## Check prime number"
   ]
  },
  {
   "cell_type": "markdown",
   "metadata": {},
   "source": [
    "A positive integer greater than 1 which has no other factors except 1 and the number itself is called a prime number. 2,3,5,7 etc.are prime numbers as they don't have any other factors.But 6 is not prime since ,2*3=6."
   ]
  },
  {
   "cell_type": "code",
   "execution_count": 24,
   "metadata": {},
   "outputs": [
    {
     "name": "stdout",
     "output_type": "stream",
     "text": [
      "enter a number:123456789\n",
      "123456789 is not a prime number,because 3 times 41152263 is 123456789 .\n"
     ]
    }
   ],
   "source": [
    "num=eval(input(\"enter a number:\"))\n",
    "if num>1:\n",
    "    for i in range(2,num):\n",
    "        if num%i==0:\n",
    "            print(num,\"is not a prime number,because\",i,\"times\",num//i,\"is\",num,\".\")\n",
    "            break\n",
    "    else:\n",
    "        print(num,\" is a prime number\")\n",
    "else:\n",
    "    print(num,\"is not a prime number\")"
   ]
  },
  {
   "cell_type": "markdown",
   "metadata": {},
   "source": [
    "In this program, variable num is checked if it's prime or not. Numbers less than or equal to 1 are not prime numbers.Hence, we only proceed if the num is greater than 1.We check if num is exactly divisible by any number from 2 to num-1.If we find a factor in that range, the number is not prime.Else the number is prime."
   ]
  },
  {
   "cell_type": "code",
   "execution_count": null,
   "metadata": {},
   "outputs": [],
   "source": []
  }
 ],
 "metadata": {
  "kernelspec": {
   "display_name": "Python 3",
   "language": "python",
   "name": "python3"
  },
  "language_info": {
   "codemirror_mode": {
    "name": "ipython",
    "version": 3
   },
   "file_extension": ".py",
   "mimetype": "text/x-python",
   "name": "python",
   "nbconvert_exporter": "python",
   "pygments_lexer": "ipython3",
   "version": "3.7.1"
  }
 },
 "nbformat": 4,
 "nbformat_minor": 2
}
