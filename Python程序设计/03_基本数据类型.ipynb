{
  "nbformat": 4,
  "nbformat_minor": 0,
  "metadata": {
    "colab": {
      "name": "03_基本数据类型.ipynb",
      "version": "0.3.2",
      "provenance": [],
      "collapsed_sections": [],
      "include_colab_link": true
    },
    "kernelspec": {
      "name": "python3",
      "display_name": "Python 3"
    }
  },
  "cells": [
    {
      "cell_type": "markdown",
      "metadata": {
        "id": "view-in-github",
        "colab_type": "text"
      },
      "source": [
        "<a href=\"https://colab.research.google.com/github/CooperFinn/Python-Tutorial/blob/master/Python%E7%A8%8B%E5%BA%8F%E8%AE%BE%E8%AE%A1/03_%E5%9F%BA%E6%9C%AC%E6%95%B0%E6%8D%AE%E7%B1%BB%E5%9E%8B.ipynb\" target=\"_parent\"><img src=\"https://colab.research.google.com/assets/colab-badge.svg\" alt=\"Open In Colab\"/></a>"
      ]
    },
    {
      "metadata": {
        "id": "0iUaD9ql3VZS",
        "colab_type": "text"
      },
      "cell_type": "markdown",
      "source": [
        "<h1 align=center><font size = 5>基本数据类型</font></h1>"
      ]
    },
    {
      "metadata": {
        "id": "6qSY-dU92vZn",
        "colab_type": "text"
      },
      "cell_type": "markdown",
      "source": [
        "## 目录\n",
        "\n",
        "<div class=\"alert alert-block alert-info\" style=\"margin-top: 20px\">\n",
        "\n",
        "1. [数字](#2)<br>\n",
        "2. [实例3:天天向上的力量](#6) <br>\n",
        "3. [字符串](#8) <br>\n",
        "4. [模块2:time库](#10) <br>\n",
        "5. [实例4:文本进步条](#12) <br> \n",
        "</div>\n",
        "<hr>"
      ]
    },
    {
      "metadata": {
        "id": "4CTHcJ8e3azH",
        "colab_type": "text"
      },
      "cell_type": "markdown",
      "source": [
        "##1.数字"
      ]
    },
    {
      "metadata": {
        "id": "BWDjHQhS6htS",
        "colab_type": "text"
      },
      "cell_type": "markdown",
      "source": [
        "整数、浮点数、复数、数值运算操作符、数值运算函数"
      ]
    },
    {
      "metadata": {
        "id": "CckfSGC73Q-G",
        "colab_type": "code",
        "outputId": "0e3773eb-c9c1-40c2-ac85-db10a811eaa7",
        "colab": {
          "base_uri": "https://localhost:8080/",
          "height": 54
        }
      },
      "cell_type": "code",
      "source": [
        "pow(6,666)"
      ],
      "execution_count": 0,
      "outputs": [
        {
          "output_type": "execute_result",
          "data": {
            "text/plain": [
              "177309806357755465270499427328598301776288968306075410151885112575756027539778209314850999852445333091203575172280395689214341071142311799945944795749206487224435664711586155446695783530381869261940579191212338095792283942630165267180235014754878622816388898950208360661204545460054710039966583620720703499070583619219756147969379415147383218476051784215338153642534248184239668587526354555162441056191517103281698310461707618482703994245002903843491150719636915674602477294467393397773059407237966516507939097024659456"
            ]
          },
          "metadata": {
            "tags": []
          },
          "execution_count": 1
        }
      ]
    },
    {
      "metadata": {
        "id": "feYSMKTP709c",
        "colab_type": "text"
      },
      "cell_type": "markdown",
      "source": [
        "二进制：0b010,-0B010\n",
        "\n",
        "八进制：0o123,-0O123\n",
        "\n",
        "十进制：999，-999\n",
        "\n",
        "十六进制：0x9a,-0X89\n",
        "\n"
      ]
    },
    {
      "metadata": {
        "id": "PK4Yc1l67buw",
        "colab_type": "code",
        "outputId": "9ba9f4f2-b42f-454f-c050-ec7131d18ed6",
        "colab": {
          "base_uri": "https://localhost:8080/",
          "height": 34
        }
      },
      "cell_type": "code",
      "source": [
        "print(0.1+0.2)"
      ],
      "execution_count": 0,
      "outputs": [
        {
          "output_type": "stream",
          "text": [
            "0.30000000000000004\n"
          ],
          "name": "stdout"
        }
      ]
    },
    {
      "metadata": {
        "id": "MMSR7akM9vnx",
        "colab_type": "code",
        "outputId": "ec4d2e7b-668b-4c6f-92f5-15ff1b9eb247",
        "colab": {
          "base_uri": "https://localhost:8080/",
          "height": 34
        }
      },
      "cell_type": "code",
      "source": [
        "print(round(0.1+0.2,2))#round(x,d):对x四舍五入，d是小数截取位数"
      ],
      "execution_count": 0,
      "outputs": [
        {
          "output_type": "stream",
          "text": [
            "0.3\n"
          ],
          "name": "stdout"
        }
      ]
    },
    {
      "metadata": {
        "id": "cx2ifkWK9kc0",
        "colab_type": "code",
        "outputId": "8a90f58f-89b0-4c8b-ab3f-f2b51e5f097e",
        "colab": {
          "base_uri": "https://localhost:8080/",
          "height": 51
        }
      },
      "cell_type": "code",
      "source": [
        "print(4.3e-3)\n",
        "print(9.6E5)"
      ],
      "execution_count": 0,
      "outputs": [
        {
          "output_type": "stream",
          "text": [
            "0.0043\n",
            "960000.0\n"
          ],
          "name": "stdout"
        }
      ]
    },
    {
      "metadata": {
        "id": "Dox9Nuy9AywM",
        "colab_type": "code",
        "outputId": "ad0cc0b0-9820-4bbe-a732-d312f2921723",
        "colab": {
          "base_uri": "https://localhost:8080/",
          "height": 51
        }
      },
      "cell_type": "code",
      "source": [
        "z=1.23e-4+5.6e+89j\n",
        "print(z.real)#获得实部\n",
        "print(z.imag)#获得虚部"
      ],
      "execution_count": 0,
      "outputs": [
        {
          "output_type": "stream",
          "text": [
            "0.000123\n",
            "5.6e+89\n"
          ],
          "name": "stdout"
        }
      ]
    },
    {
      "metadata": {
        "id": "EI_KclvBCJub",
        "colab_type": "code",
        "outputId": "9f06b158-98e0-4ea6-a3ce-9634732a1215",
        "colab": {
          "base_uri": "https://localhost:8080/",
          "height": 238
        }
      },
      "cell_type": "code",
      "source": [
        "print(10+3)\n",
        "print(10-3)\n",
        "print(10*3)\n",
        "print(10/3)\n",
        "print(10//3)\n",
        "print(10%3)\n",
        "print(10**3)\n",
        "print(10>3)\n",
        "print(10<3)\n",
        "print(10==3)\n",
        "print(10>=3)\n",
        "print(10<=3)\n",
        "print(10!=3)"
      ],
      "execution_count": 0,
      "outputs": [
        {
          "output_type": "stream",
          "text": [
            "13\n",
            "7\n",
            "30\n",
            "3.3333333333333335\n",
            "3\n",
            "1\n",
            "1000\n",
            "True\n",
            "False\n",
            "False\n",
            "True\n",
            "False\n",
            "True\n"
          ],
          "name": "stdout"
        }
      ]
    },
    {
      "metadata": {
        "id": "C1LdxUDyCu0X",
        "colab_type": "code",
        "outputId": "2453b830-e907-4a5a-ccf0-3339879e262e",
        "colab": {
          "base_uri": "https://localhost:8080/",
          "height": 34
        }
      },
      "cell_type": "code",
      "source": [
        "x=3.1415\n",
        "x**=3\n",
        "print(x)"
      ],
      "execution_count": 0,
      "outputs": [
        {
          "output_type": "stream",
          "text": [
            "31.003533398375005\n"
          ],
          "name": "stdout"
        }
      ]
    },
    {
      "metadata": {
        "id": "0LfzsY66D1t4",
        "colab_type": "code",
        "outputId": "5d3b42db-4eb5-41d1-8fb5-8dc5032a5d15",
        "colab": {
          "base_uri": "https://localhost:8080/",
          "height": 34
        }
      },
      "cell_type": "code",
      "source": [
        "abs(-10)#绝对值"
      ],
      "execution_count": 0,
      "outputs": [
        {
          "output_type": "execute_result",
          "data": {
            "text/plain": [
              "10"
            ]
          },
          "metadata": {
            "tags": []
          },
          "execution_count": 34
        }
      ]
    },
    {
      "metadata": {
        "id": "8cWYYOfOE9mo",
        "colab_type": "code",
        "outputId": "9e68609a-752f-4006-ecb8-12997ddf3965",
        "colab": {
          "base_uri": "https://localhost:8080/",
          "height": 34
        }
      },
      "cell_type": "code",
      "source": [
        "divmod(10,3)#商余（x//y,x%y）"
      ],
      "execution_count": 0,
      "outputs": [
        {
          "output_type": "execute_result",
          "data": {
            "text/plain": [
              "(3, 1)"
            ]
          },
          "metadata": {
            "tags": []
          },
          "execution_count": 35
        }
      ]
    },
    {
      "metadata": {
        "id": "FoFXCQHHFLxT",
        "colab_type": "code",
        "outputId": "979d0d5b-55f2-41be-d32d-b28ee2eb069d",
        "colab": {
          "base_uri": "https://localhost:8080/",
          "height": 34
        }
      },
      "cell_type": "code",
      "source": [
        "#pow(x,y[,z])幂余，（x**y）%z,[]表示参数z可省略\n",
        "pow(3,pow(3,99),100)"
      ],
      "execution_count": 0,
      "outputs": [
        {
          "output_type": "execute_result",
          "data": {
            "text/plain": [
              "87"
            ]
          },
          "metadata": {
            "tags": []
          },
          "execution_count": 36
        }
      ]
    },
    {
      "metadata": {
        "id": "4pUVHGxUGBR2",
        "colab_type": "code",
        "outputId": "8b885f1f-ad1f-4dda-f268-d5b587a2cb59",
        "colab": {
          "base_uri": "https://localhost:8080/",
          "height": 34
        }
      },
      "cell_type": "code",
      "source": [
        "#round(x[,d])#四舍五入，d是保留小数位数，默认值为0\n",
        "round(-10.123,3)"
      ],
      "execution_count": 0,
      "outputs": [
        {
          "output_type": "execute_result",
          "data": {
            "text/plain": [
              "-10.123"
            ]
          },
          "metadata": {
            "tags": []
          },
          "execution_count": 38
        }
      ]
    },
    {
      "metadata": {
        "id": "VCJ-GOTLGhPi",
        "colab_type": "code",
        "outputId": "8893564e-90c2-4dd5-e698-cd7f86db5799",
        "colab": {
          "base_uri": "https://localhost:8080/",
          "height": 34
        }
      },
      "cell_type": "code",
      "source": [
        "#max(x1,x2...xn) 取最大值\n",
        "max(1,8,4,9)"
      ],
      "execution_count": 0,
      "outputs": [
        {
          "output_type": "execute_result",
          "data": {
            "text/plain": [
              "9"
            ]
          },
          "metadata": {
            "tags": []
          },
          "execution_count": 39
        }
      ]
    },
    {
      "metadata": {
        "id": "ekx1zmKnGsuZ",
        "colab_type": "code",
        "outputId": "2dd278a1-6730-4997-efe6-a3817fd341f3",
        "colab": {
          "base_uri": "https://localhost:8080/",
          "height": 34
        }
      },
      "cell_type": "code",
      "source": [
        "#min(x1,x2...xn) 取最小值\n",
        "min(1,9,4)"
      ],
      "execution_count": 0,
      "outputs": [
        {
          "output_type": "execute_result",
          "data": {
            "text/plain": [
              "1"
            ]
          },
          "metadata": {
            "tags": []
          },
          "execution_count": 40
        }
      ]
    },
    {
      "metadata": {
        "id": "OF6p3q3KG2M4",
        "colab_type": "code",
        "outputId": "09017cf5-6388-4828-9a00-e3ebf1f6dca4",
        "colab": {
          "base_uri": "https://localhost:8080/",
          "height": 34
        }
      },
      "cell_type": "code",
      "source": [
        "print(int(99.9))"
      ],
      "execution_count": 0,
      "outputs": [
        {
          "output_type": "stream",
          "text": [
            "99\n"
          ],
          "name": "stdout"
        }
      ]
    },
    {
      "metadata": {
        "id": "lrAySFQzJKW_",
        "colab_type": "code",
        "outputId": "9b4493b3-0856-473c-eae6-195f0eccc45d",
        "colab": {
          "base_uri": "https://localhost:8080/",
          "height": 34
        }
      },
      "cell_type": "code",
      "source": [
        "int('99')#整数"
      ],
      "execution_count": 0,
      "outputs": [
        {
          "output_type": "execute_result",
          "data": {
            "text/plain": [
              "99"
            ]
          },
          "metadata": {
            "tags": []
          },
          "execution_count": 51
        }
      ]
    },
    {
      "metadata": {
        "id": "sfo3kz9sIf6j",
        "colab_type": "code",
        "outputId": "2317a53d-39c9-470f-be56-c457d932f5b9",
        "colab": {
          "base_uri": "https://localhost:8080/",
          "height": 34
        }
      },
      "cell_type": "code",
      "source": [
        "float(1.2)#浮点数"
      ],
      "execution_count": 0,
      "outputs": [
        {
          "output_type": "execute_result",
          "data": {
            "text/plain": [
              "1.2"
            ]
          },
          "metadata": {
            "tags": []
          },
          "execution_count": 42
        }
      ]
    },
    {
      "metadata": {
        "id": "DFcGlCuLIxIR",
        "colab_type": "code",
        "outputId": "0450c770-9ed5-492c-e301-da2a91374d9f",
        "colab": {
          "base_uri": "https://localhost:8080/",
          "height": 34
        }
      },
      "cell_type": "code",
      "source": [
        "complex(4)#复数"
      ],
      "execution_count": 0,
      "outputs": [
        {
          "output_type": "execute_result",
          "data": {
            "text/plain": [
              "(4+0j)"
            ]
          },
          "metadata": {
            "tags": []
          },
          "execution_count": 52
        }
      ]
    },
    {
      "metadata": {
        "id": "bZfbNINBJ09Y",
        "colab_type": "text"
      },
      "cell_type": "markdown",
      "source": [
        "##2.实例3:天天向上的力量"
      ]
    },
    {
      "metadata": {
        "id": "AySZlOTYJWba",
        "colab_type": "code",
        "outputId": "e680400f-868d-4bfe-85d3-496039477cb0",
        "colab": {
          "base_uri": "https://localhost:8080/",
          "height": 51
        }
      },
      "cell_type": "code",
      "source": [
        "#天天向上的力量1\n",
        "dayup=pow(1.001,365)\n",
        "daydown=pow(0.999,365)\n",
        "print(\"每天进步退步0.1%\\n天天向上:{:.2f},天天向下:{:.2f}\".format(dayup,daydown))"
      ],
      "execution_count": 0,
      "outputs": [
        {
          "output_type": "stream",
          "text": [
            "每天进步退步0.1%\n",
            "天天向上:1.44,天天向下:0.69\n"
          ],
          "name": "stdout"
        }
      ]
    },
    {
      "metadata": {
        "id": "e1B258hzK2QM",
        "colab_type": "code",
        "outputId": "42ebf657-0b6d-4141-876c-0208c3b55d7f",
        "colab": {
          "base_uri": "https://localhost:8080/",
          "height": 51
        }
      },
      "cell_type": "code",
      "source": [
        "#天天向上的力量2\n",
        "dayfactor=0.01\n",
        "dayup=pow(1+dayfactor,365)\n",
        "daydown=pow(1-dayfactor,365)\n",
        "print(\"每天进步退步1%\\n天天向上:{:.2f},天天向下:{:.2f}\".format(dayup,daydown))"
      ],
      "execution_count": 0,
      "outputs": [
        {
          "output_type": "stream",
          "text": [
            "每天进步退步1%\n",
            "天天向上:37.78,天天向下:0.03\n"
          ],
          "name": "stdout"
        }
      ]
    },
    {
      "metadata": {
        "id": "ZLN5lQAzMTLJ",
        "colab_type": "code",
        "outputId": "54b79682-e4db-4674-ab56-4c47eff10635",
        "colab": {
          "base_uri": "https://localhost:8080/",
          "height": 34
        }
      },
      "cell_type": "code",
      "source": [
        "#天天向上的力量3:周一到周五向上，周六周日向下\n",
        "dayup=1.0\n",
        "dayfactor=0.01\n",
        "for i in range(365):\n",
        "  if i%7 in[6,0]:\n",
        "    dayup=dayup*(1-dayfactor)\n",
        "  else:\n",
        "    dayup=dayup*(1+dayfactor)\n",
        "print(\"工作日的力量:{:.2f}\".format(dayup))"
      ],
      "execution_count": 0,
      "outputs": [
        {
          "output_type": "stream",
          "text": [
            "工作日的力量:4.63\n"
          ],
          "name": "stdout"
        }
      ]
    },
    {
      "metadata": {
        "id": "DnARRABMO55f",
        "colab_type": "code",
        "outputId": "e01d19a1-e787-493a-a08d-23e593b74a7a",
        "colab": {
          "base_uri": "https://localhost:8080/",
          "height": 34
        }
      },
      "cell_type": "code",
      "source": [
        "#天天向上的力量4：\n",
        "#A一年365天，每天进步1%；B一年365天，每周工作5天休息2天，休息日下降1%。B要多努力才能与A取得相同的成绩？\n",
        "#试错法\n",
        "def dayup(df):\n",
        "  dayup=1\n",
        "  for i in range(365):\n",
        "    if i%7 in[6,0]:\n",
        "      dayup=dayup*(1-0.01)\n",
        "    else:\n",
        "      dayup=dayup*(1+df)\n",
        "  return dayup\n",
        "dayfactor=0.01\n",
        "while dayup(dayfactor)<37.78:\n",
        "  dayfactor+=0.001\n",
        "print(\"B工作日需要努力:{:3f}\".format(dayfactor))"
      ],
      "execution_count": 0,
      "outputs": [
        {
          "output_type": "stream",
          "text": [
            "B工作日需要努力:0.019000\n"
          ],
          "name": "stdout"
        }
      ]
    },
    {
      "metadata": {
        "id": "oxvBl9E2Ps-F",
        "colab_type": "text"
      },
      "cell_type": "markdown",
      "source": [
        "##3.字符串"
      ]
    },
    {
      "metadata": {
        "id": "lMiXp85nPujT",
        "colab_type": "code",
        "outputId": "f7178b79-bb34-4c03-e810-07c1fe3f98c3",
        "colab": {
          "base_uri": "https://localhost:8080/",
          "height": 34
        }
      },
      "cell_type": "code",
      "source": [
        "\"我是谁？我在哪儿？我要到哪里去？\"[1:3] #切片[M:N:K]，M开头N结尾K步长"
      ],
      "execution_count": 0,
      "outputs": [
        {
          "output_type": "execute_result",
          "data": {
            "text/plain": [
              "'我是谁'"
            ]
          },
          "metadata": {
            "tags": []
          },
          "execution_count": 71
        }
      ]
    },
    {
      "metadata": {
        "id": "1yc8o4rAUnc0",
        "colab_type": "code",
        "outputId": "1e90990e-54a0-484f-bdeb-b6b9e53b2b2e",
        "colab": {
          "base_uri": "https://localhost:8080/",
          "height": 34
        }
      },
      "cell_type": "code",
      "source": [
        "\"我是谁？我在哪儿？我要到哪里去？\"[:3]"
      ],
      "execution_count": 0,
      "outputs": [
        {
          "output_type": "execute_result",
          "data": {
            "text/plain": [
              "'我是谁'"
            ]
          },
          "metadata": {
            "tags": []
          },
          "execution_count": 72
        }
      ]
    },
    {
      "metadata": {
        "id": "j4q4pm-YVWmX",
        "colab_type": "code",
        "outputId": "0bb0c5fd-12cd-4a7c-f46d-67174f4205e2",
        "colab": {
          "base_uri": "https://localhost:8080/",
          "height": 34
        }
      },
      "cell_type": "code",
      "source": [
        "\"我是谁？我在哪儿？我要到哪里去？\"[:]"
      ],
      "execution_count": 0,
      "outputs": [
        {
          "output_type": "execute_result",
          "data": {
            "text/plain": [
              "'我是谁？我在哪儿？我要到哪里去？'"
            ]
          },
          "metadata": {
            "tags": []
          },
          "execution_count": 73
        }
      ]
    },
    {
      "metadata": {
        "id": "y1_5_7s5VY5F",
        "colab_type": "code",
        "outputId": "16c03422-9331-4c81-d419-5b45f4fac4f8",
        "colab": {
          "base_uri": "https://localhost:8080/",
          "height": 34
        }
      },
      "cell_type": "code",
      "source": [
        "\"我是谁？我在哪儿？我要到哪里去？\"[2:10:2]"
      ],
      "execution_count": 0,
      "outputs": [
        {
          "output_type": "execute_result",
          "data": {
            "text/plain": [
              "'谁我哪？'"
            ]
          },
          "metadata": {
            "tags": []
          },
          "execution_count": 77
        }
      ]
    },
    {
      "metadata": {
        "id": "IQ3M-SyTVdo2",
        "colab_type": "code",
        "outputId": "7b9d42c3-38ea-4ad9-8829-c8894759e602",
        "colab": {
          "base_uri": "https://localhost:8080/",
          "height": 34
        }
      },
      "cell_type": "code",
      "source": [
        "\"这里有个双引号\\\"\"  #转义字符：反斜杠\\,\\n换行，\\b回退，\\r光标移动到本行首"
      ],
      "execution_count": 0,
      "outputs": [
        {
          "output_type": "execute_result",
          "data": {
            "text/plain": [
              "'这里有个双引号\"'"
            ]
          },
          "metadata": {
            "tags": []
          },
          "execution_count": 78
        }
      ]
    },
    {
      "metadata": {
        "id": "8hLXs97yWDQe",
        "colab_type": "code",
        "outputId": "30641c78-ff82-4ac8-d1d4-5900c9f20c1f",
        "colab": {
          "base_uri": "https://localhost:8080/",
          "height": 34
        }
      },
      "cell_type": "code",
      "source": [
        "\"连接\"+\"字符\""
      ],
      "execution_count": 0,
      "outputs": [
        {
          "output_type": "execute_result",
          "data": {
            "text/plain": [
              "'连接字符'"
            ]
          },
          "metadata": {
            "tags": []
          },
          "execution_count": 84
        }
      ]
    },
    {
      "metadata": {
        "id": "gmbc3IK8WsoG",
        "colab_type": "code",
        "outputId": "2884f2e1-0bd2-4af9-87f4-6caa71713495",
        "colab": {
          "base_uri": "https://localhost:8080/",
          "height": 34
        }
      },
      "cell_type": "code",
      "source": [
        "\"倍数\"*3"
      ],
      "execution_count": 0,
      "outputs": [
        {
          "output_type": "execute_result",
          "data": {
            "text/plain": [
              "'倍数倍数倍数'"
            ]
          },
          "metadata": {
            "tags": []
          },
          "execution_count": 85
        }
      ]
    },
    {
      "metadata": {
        "id": "vWWMKhnCXoH_",
        "colab_type": "code",
        "outputId": "2865591d-67b9-4b07-8a7e-9fbc9953cc7d",
        "colab": {
          "base_uri": "https://localhost:8080/",
          "height": 34
        }
      },
      "cell_type": "code",
      "source": [
        "'h' in 'hello'"
      ],
      "execution_count": 0,
      "outputs": [
        {
          "output_type": "execute_result",
          "data": {
            "text/plain": [
              "True"
            ]
          },
          "metadata": {
            "tags": []
          },
          "execution_count": 86
        }
      ]
    },
    {
      "metadata": {
        "id": "bAyuYFr8Xxik",
        "colab_type": "code",
        "outputId": "a1ab207e-c9e3-4dec-f4ad-5df60bec85f5",
        "colab": {
          "base_uri": "https://localhost:8080/",
          "height": 71
        }
      },
      "cell_type": "code",
      "source": [
        "#实例8:获取星期字符串\n",
        "weekstr='一二三四五六日'\n",
        "weekid=eval(input('请输入星期数字(1-7):'))\n",
        "print('您输入的是星期'+weekstr[weekid-1])"
      ],
      "execution_count": 0,
      "outputs": [
        {
          "output_type": "stream",
          "text": [
            "请输入星期数字(1-7):5\n",
            "您输入的是星期五\n"
          ],
          "name": "stdout"
        }
      ]
    },
    {
      "metadata": {
        "id": "tLBMRfKYZCY1",
        "colab_type": "code",
        "outputId": "4fae7a63-5c81-4478-b4b0-cc7c0784dc53",
        "colab": {
          "base_uri": "https://localhost:8080/",
          "height": 34
        }
      },
      "cell_type": "code",
      "source": [
        "#len(x)计算字符串长度\n",
        "len('hello你好123')"
      ],
      "execution_count": 0,
      "outputs": [
        {
          "output_type": "execute_result",
          "data": {
            "text/plain": [
              "10"
            ]
          },
          "metadata": {
            "tags": []
          },
          "execution_count": 88
        }
      ]
    },
    {
      "metadata": {
        "id": "-SRL1BCSZe_m",
        "colab_type": "code",
        "outputId": "44939098-a122-4174-c727-b9ac3c2110f9",
        "colab": {
          "base_uri": "https://localhost:8080/",
          "height": 34
        }
      },
      "cell_type": "code",
      "source": [
        "#str(x):将任意类型x转换成字符串\n",
        "str(1.23)"
      ],
      "execution_count": 0,
      "outputs": [
        {
          "output_type": "execute_result",
          "data": {
            "text/plain": [
              "'1.23'"
            ]
          },
          "metadata": {
            "tags": []
          },
          "execution_count": 92
        }
      ]
    },
    {
      "metadata": {
        "id": "iTbIfIbdamHf",
        "colab_type": "code",
        "outputId": "c43adc81-f8f7-4228-fa92-670d3f9513ef",
        "colab": {
          "base_uri": "https://localhost:8080/",
          "height": 34
        }
      },
      "cell_type": "code",
      "source": [
        "str([1,2,3])"
      ],
      "execution_count": 0,
      "outputs": [
        {
          "output_type": "execute_result",
          "data": {
            "text/plain": [
              "'[1, 2, 3]'"
            ]
          },
          "metadata": {
            "tags": []
          },
          "execution_count": 93
        }
      ]
    },
    {
      "metadata": {
        "id": "vvfeGOH9ayBE",
        "colab_type": "code",
        "outputId": "b985f9dd-8daf-4b39-cff4-cc492acacb85",
        "colab": {
          "base_uri": "https://localhost:8080/",
          "height": 34
        }
      },
      "cell_type": "code",
      "source": [
        "#hex(x)或oct(x):将整数x转换成八进制或十六进制\n",
        "hex(520)"
      ],
      "execution_count": 0,
      "outputs": [
        {
          "output_type": "execute_result",
          "data": {
            "text/plain": [
              "'0x208'"
            ]
          },
          "metadata": {
            "tags": []
          },
          "execution_count": 94
        }
      ]
    },
    {
      "metadata": {
        "id": "X_U_mj8nbNBd",
        "colab_type": "code",
        "outputId": "5c026519-5cb6-493e-d8de-cced5d9c0739",
        "colab": {
          "base_uri": "https://localhost:8080/",
          "height": 34
        }
      },
      "cell_type": "code",
      "source": [
        "oct(520)"
      ],
      "execution_count": 0,
      "outputs": [
        {
          "output_type": "execute_result",
          "data": {
            "text/plain": [
              "'0o1010'"
            ]
          },
          "metadata": {
            "tags": []
          },
          "execution_count": 95
        }
      ]
    },
    {
      "metadata": {
        "id": "vfQu5-qYbPDX",
        "colab_type": "code",
        "outputId": "9a88682e-29fd-4a62-f68e-386e20aa43ac",
        "colab": {
          "base_uri": "https://localhost:8080/",
          "height": 34
        }
      },
      "cell_type": "code",
      "source": [
        "#chr(u):unicode编码--->字符\n",
        "\"1+1=2\"+chr(10004)"
      ],
      "execution_count": 0,
      "outputs": [
        {
          "output_type": "execute_result",
          "data": {
            "text/plain": [
              "'1+1=2✔'"
            ]
          },
          "metadata": {
            "tags": []
          },
          "execution_count": 96
        }
      ]
    },
    {
      "metadata": {
        "id": "7KnmLyRBbtvw",
        "colab_type": "code",
        "outputId": "37151988-9733-4d91-cd53-ba93a4acbd0f",
        "colab": {
          "base_uri": "https://localhost:8080/",
          "height": 34
        }
      },
      "cell_type": "code",
      "source": [
        "#ord(x):字符--->unicode编码\n",
        "'¥的unicode值是：'+str(ord(\"¥\"))"
      ],
      "execution_count": 0,
      "outputs": [
        {
          "output_type": "execute_result",
          "data": {
            "text/plain": [
              "'¥的unicode值是：165'"
            ]
          },
          "metadata": {
            "tags": []
          },
          "execution_count": 99
        }
      ]
    },
    {
      "metadata": {
        "id": "fXoDyWnwcrAT",
        "colab_type": "code",
        "outputId": "b7f56ef1-cc32-4502-c2be-44e532211229",
        "colab": {
          "base_uri": "https://localhost:8080/",
          "height": 51
        }
      },
      "cell_type": "code",
      "source": [
        "#str.lower():转换为小写\n",
        "print(\"aBcDeFg\".upper())\n",
        "#str.upper():转换为大写\n",
        "print(\"aBcDeFg\".lower())"
      ],
      "execution_count": 0,
      "outputs": [
        {
          "output_type": "stream",
          "text": [
            "ABCDEFG\n",
            "abcdefg\n"
          ],
          "name": "stdout"
        }
      ]
    },
    {
      "metadata": {
        "id": "5eZ-ij-GeJ3y",
        "colab_type": "code",
        "outputId": "ba261613-1bf3-4e0a-9cf8-c1589a24e987",
        "colab": {
          "base_uri": "https://localhost:8080/",
          "height": 34
        }
      },
      "cell_type": "code",
      "source": [
        "#str.split(sep=None):返回一个被分割的列表\n",
        "\"a,b,c,ddfg\".split(\",\")"
      ],
      "execution_count": 0,
      "outputs": [
        {
          "output_type": "execute_result",
          "data": {
            "text/plain": [
              "['a', 'b', 'c', 'ddfg']"
            ]
          },
          "metadata": {
            "tags": []
          },
          "execution_count": 104
        }
      ]
    },
    {
      "metadata": {
        "id": "cMavlrMnejUz",
        "colab_type": "code",
        "outputId": "84ef124c-4dd7-4784-9743-3b3b3523ad20",
        "colab": {
          "base_uri": "https://localhost:8080/",
          "height": 34
        }
      },
      "cell_type": "code",
      "source": [
        "#str.count(sub):返回子串sub在str中出现的次数\n",
        "'a,aaple a day'.count('a')"
      ],
      "execution_count": 0,
      "outputs": [
        {
          "output_type": "execute_result",
          "data": {
            "text/plain": [
              "5"
            ]
          },
          "metadata": {
            "tags": []
          },
          "execution_count": 105
        }
      ]
    },
    {
      "metadata": {
        "id": "gveMCNnafMm8",
        "colab_type": "code",
        "outputId": "ee696097-0133-479d-c03d-d8b777518630",
        "colab": {
          "base_uri": "https://localhost:8080/",
          "height": 34
        }
      },
      "cell_type": "code",
      "source": [
        "#str.replace(old,new)\n",
        "'python '.replace('n','n.org')"
      ],
      "execution_count": 0,
      "outputs": [
        {
          "output_type": "execute_result",
          "data": {
            "text/plain": [
              "'python.org '"
            ]
          },
          "metadata": {
            "tags": []
          },
          "execution_count": 107
        }
      ]
    },
    {
      "metadata": {
        "id": "uLUDW9NcfpTx",
        "colab_type": "code",
        "outputId": "45c4ff74-38d5-455b-d994-956e38f0d382",
        "colab": {
          "base_uri": "https://localhost:8080/",
          "height": 34
        }
      },
      "cell_type": "code",
      "source": [
        "#str.center(width[,fillchar]):居中\n",
        "'python'.center(20,'=')"
      ],
      "execution_count": 0,
      "outputs": [
        {
          "output_type": "execute_result",
          "data": {
            "text/plain": [
              "'=======python======='"
            ]
          },
          "metadata": {
            "tags": []
          },
          "execution_count": 108
        }
      ]
    },
    {
      "metadata": {
        "id": "SANBOGYegPkq",
        "colab_type": "code",
        "outputId": "acdf4a06-27b7-49e0-cc91-e444f29e9544",
        "colab": {
          "base_uri": "https://localhost:8080/",
          "height": 34
        }
      },
      "cell_type": "code",
      "source": [
        "#str.strip(chars):从str中去掉其左侧和右侧chars中列出的字符\n",
        "'= python= '.strip(' =np')"
      ],
      "execution_count": 0,
      "outputs": [
        {
          "output_type": "execute_result",
          "data": {
            "text/plain": [
              "'ytho'"
            ]
          },
          "metadata": {
            "tags": []
          },
          "execution_count": 109
        }
      ]
    },
    {
      "metadata": {
        "id": "qWSS0OI5g63Z",
        "colab_type": "code",
        "outputId": "2753b678-db31-4f6c-8966-7fb67cb954c9",
        "colab": {
          "base_uri": "https://localhost:8080/",
          "height": 34
        }
      },
      "cell_type": "code",
      "source": [
        "#str.join(iter):在iter变量除最后元素外每个元素后增加一个str\n",
        "','.join('12345')"
      ],
      "execution_count": 0,
      "outputs": [
        {
          "output_type": "execute_result",
          "data": {
            "text/plain": [
              "'1,2,3,4,5'"
            ]
          },
          "metadata": {
            "tags": []
          },
          "execution_count": 110
        }
      ]
    },
    {
      "metadata": {
        "id": "2AIx0dzohdiE",
        "colab_type": "code",
        "outputId": "f20d77e4-337d-4d2d-feeb-17da236a7b24",
        "colab": {
          "base_uri": "https://localhost:8080/",
          "height": 34
        }
      },
      "cell_type": "code",
      "source": [
        "'{}：计算机{}的CPU占用率为{}%'.format('2018-10-10','c',10)"
      ],
      "execution_count": 0,
      "outputs": [
        {
          "output_type": "execute_result",
          "data": {
            "text/plain": [
              "'2018-10-10：计算机c的CPU占用率为10%'"
            ]
          },
          "metadata": {
            "tags": []
          },
          "execution_count": 111
        }
      ]
    },
    {
      "metadata": {
        "id": "cNzANDDeiXg_",
        "colab_type": "code",
        "outputId": "44d3ddc0-a7c3-4ee4-e5ef-65d8547c37c5",
        "colab": {
          "base_uri": "https://localhost:8080/",
          "height": 34
        }
      },
      "cell_type": "code",
      "source": [
        "'{0:=^20}'.format('python')#：<填充><对齐><宽度><千分号><.精度><类型>"
      ],
      "execution_count": 0,
      "outputs": [
        {
          "output_type": "execute_result",
          "data": {
            "text/plain": [
              "'=======python======='"
            ]
          },
          "metadata": {
            "tags": []
          },
          "execution_count": 112
        }
      ]
    },
    {
      "metadata": {
        "id": "7FxFnEdGjptp",
        "colab_type": "code",
        "outputId": "d5d51cb5-6941-4e5d-c3b9-32fc0da95bf2",
        "colab": {
          "base_uri": "https://localhost:8080/",
          "height": 34
        }
      },
      "cell_type": "code",
      "source": [
        "'{0:*<20}'.format('python')"
      ],
      "execution_count": 0,
      "outputs": [
        {
          "output_type": "execute_result",
          "data": {
            "text/plain": [
              "'python**************'"
            ]
          },
          "metadata": {
            "tags": []
          },
          "execution_count": 113
        }
      ]
    },
    {
      "metadata": {
        "id": "EOk3WCKeke3v",
        "colab_type": "code",
        "outputId": "964277be-f1a6-4470-83e4-91d1b859319a",
        "colab": {
          "base_uri": "https://localhost:8080/",
          "height": 34
        }
      },
      "cell_type": "code",
      "source": [
        "'{0:,.2f}'.format(12345.6789)#逗号为千位分隔符，.2为浮点数小数精度或字符串最大输出长度，f为浮点数。"
      ],
      "execution_count": 0,
      "outputs": [
        {
          "output_type": "execute_result",
          "data": {
            "text/plain": [
              "'12,345.68'"
            ]
          },
          "metadata": {
            "tags": []
          },
          "execution_count": 115
        }
      ]
    },
    {
      "metadata": {
        "id": "i2H5WjAelBep",
        "colab_type": "code",
        "outputId": "340485c8-eeb1-44e1-bdda-04f96f9f3050",
        "colab": {
          "base_uri": "https://localhost:8080/",
          "height": 34
        }
      },
      "cell_type": "code",
      "source": [
        "'{0:b},{0:c},{0:d},{0:o},{0:x},{0:X}'.format(520)#b二进制，c为unicode编码，d十进制，o八进制，x十六进制，X十六进制"
      ],
      "execution_count": 0,
      "outputs": [
        {
          "output_type": "execute_result",
          "data": {
            "text/plain": [
              "'1000001000,Ȉ,520,1010,208,208'"
            ]
          },
          "metadata": {
            "tags": []
          },
          "execution_count": 117
        }
      ]
    },
    {
      "metadata": {
        "id": "DAcq-8MtmGoT",
        "colab_type": "code",
        "outputId": "122ca7a8-047e-45b0-9f83-50719a740d05",
        "colab": {
          "base_uri": "https://localhost:8080/",
          "height": 34
        }
      },
      "cell_type": "code",
      "source": [
        "'{0:e},{0:E},{0:f},{0:%}'.format(520)#e科学计数法，E科学计数法，f非科学计数法，%百分号"
      ],
      "execution_count": 0,
      "outputs": [
        {
          "output_type": "execute_result",
          "data": {
            "text/plain": [
              "'5.200000e+02,5.200000E+02,520.000000,52000.000000%'"
            ]
          },
          "metadata": {
            "tags": []
          },
          "execution_count": 119
        }
      ]
    },
    {
      "metadata": {
        "id": "1dZ6Ep56m0Oi",
        "colab_type": "code",
        "outputId": "22c47335-a2cb-4dbd-8381-2428fffc2b86",
        "colab": {
          "base_uri": "https://localhost:8080/",
          "height": 34
        }
      },
      "cell_type": "code",
      "source": [
        "'{0:b}'.format(18616658358)"
      ],
      "execution_count": 0,
      "outputs": [
        {
          "output_type": "execute_result",
          "data": {
            "text/plain": [
              "'10001010101101000111010100110110110'"
            ]
          },
          "metadata": {
            "tags": []
          },
          "execution_count": 122
        }
      ]
    },
    {
      "metadata": {
        "id": "kDAnOZSOn1OL",
        "colab_type": "text"
      },
      "cell_type": "markdown",
      "source": [
        "##模块2.time库"
      ]
    },
    {
      "metadata": {
        "id": "kvenGnkRnXRF",
        "colab_type": "code",
        "colab": {}
      },
      "cell_type": "code",
      "source": [
        "#时间获取：time()ctime()gmtime()\n",
        "#时间格式化:strftime()strptime()\n",
        "#程序计时：sleep()perf_counter()"
      ],
      "execution_count": 0,
      "outputs": []
    },
    {
      "metadata": {
        "id": "3G9iBdLnEWW5",
        "colab_type": "code",
        "outputId": "85020e21-a395-48c6-c034-25b86900a589",
        "colab": {
          "base_uri": "https://localhost:8080/",
          "height": 34
        }
      },
      "cell_type": "code",
      "source": [
        "import time\n",
        "time.time()"
      ],
      "execution_count": 0,
      "outputs": [
        {
          "output_type": "execute_result",
          "data": {
            "text/plain": [
              "1551319865.3184495"
            ]
          },
          "metadata": {
            "tags": []
          },
          "execution_count": 11
        }
      ]
    },
    {
      "metadata": {
        "id": "8rU5Yv28Myyv",
        "colab_type": "code",
        "outputId": "fd14e9ad-a0f7-4d14-934d-86902d3d9695",
        "colab": {
          "base_uri": "https://localhost:8080/",
          "height": 34
        }
      },
      "cell_type": "code",
      "source": [
        "time.ctime()"
      ],
      "execution_count": 0,
      "outputs": [
        {
          "output_type": "execute_result",
          "data": {
            "text/plain": [
              "'Thu Feb 28 02:11:08 2019'"
            ]
          },
          "metadata": {
            "tags": []
          },
          "execution_count": 12
        }
      ]
    },
    {
      "metadata": {
        "id": "U84bwfb7M2ea",
        "colab_type": "code",
        "outputId": "b7d58efb-d46f-43a5-859a-ac1b7a50c501",
        "colab": {
          "base_uri": "https://localhost:8080/",
          "height": 54
        }
      },
      "cell_type": "code",
      "source": [
        "time.gmtime()"
      ],
      "execution_count": 0,
      "outputs": [
        {
          "output_type": "execute_result",
          "data": {
            "text/plain": [
              "time.struct_time(tm_year=2019, tm_mon=2, tm_mday=28, tm_hour=2, tm_min=11, tm_sec=13, tm_wday=3, tm_yday=59, tm_isdst=0)"
            ]
          },
          "metadata": {
            "tags": []
          },
          "execution_count": 13
        }
      ]
    },
    {
      "metadata": {
        "id": "E3MsGsmRJtxN",
        "colab_type": "code",
        "outputId": "49a3b712-54eb-4388-8150-87b8d8cb7a5d",
        "colab": {
          "base_uri": "https://localhost:8080/",
          "height": 34
        }
      },
      "cell_type": "code",
      "source": [
        "t=time.gmtime()\n",
        "time.strftime('%Y-%m-%d %H:%M:%S',t)"
      ],
      "execution_count": 0,
      "outputs": [
        {
          "output_type": "execute_result",
          "data": {
            "text/plain": [
              "'2019-02-28 02:23:47'"
            ]
          },
          "metadata": {
            "tags": []
          },
          "execution_count": 15
        }
      ]
    },
    {
      "metadata": {
        "id": "tjLl8oCWPaDw",
        "colab_type": "code",
        "outputId": "5eb35600-0930-4b17-a473-def8f0b8e66a",
        "colab": {
          "base_uri": "https://localhost:8080/",
          "height": 54
        }
      },
      "cell_type": "code",
      "source": [
        "timestr='2019-02-27 17:56:30'\n",
        "time.strptime(timestr,'%Y-%m-%d %H:%M:%S')"
      ],
      "execution_count": 0,
      "outputs": [
        {
          "output_type": "execute_result",
          "data": {
            "text/plain": [
              "time.struct_time(tm_year=2019, tm_mon=2, tm_mday=27, tm_hour=17, tm_min=56, tm_sec=30, tm_wday=2, tm_yday=58, tm_isdst=-1)"
            ]
          },
          "metadata": {
            "tags": []
          },
          "execution_count": 17
        }
      ]
    },
    {
      "metadata": {
        "id": "wHTOrcHGPxrz",
        "colab_type": "code",
        "outputId": "1ca90bb8-252a-410c-cdaa-d2248433d22a",
        "colab": {
          "base_uri": "https://localhost:8080/",
          "height": 34
        }
      },
      "cell_type": "code",
      "source": [
        "start=time.perf_counter()\n",
        "end=time.perf_counter()\n",
        "end-start"
      ],
      "execution_count": 0,
      "outputs": [
        {
          "output_type": "execute_result",
          "data": {
            "text/plain": [
              "1.9341999859534553e-05"
            ]
          },
          "metadata": {
            "tags": []
          },
          "execution_count": 18
        }
      ]
    },
    {
      "metadata": {
        "id": "Rd6Q7dv5QqVW",
        "colab_type": "code",
        "outputId": "66432c38-d5a7-4cf4-9253-c744020b7493",
        "colab": {
          "base_uri": "https://localhost:8080/",
          "height": 34
        }
      },
      "cell_type": "code",
      "source": [
        "#休眠时间s\n",
        "def wait():\n",
        "  time.sleep(5.20)\n",
        "wait()\n",
        "print(1+1)"
      ],
      "execution_count": 0,
      "outputs": [
        {
          "output_type": "stream",
          "text": [
            "2\n"
          ],
          "name": "stdout"
        }
      ]
    },
    {
      "metadata": {
        "id": "PuZ7t_GURYiV",
        "colab_type": "text"
      },
      "cell_type": "markdown",
      "source": [
        "##实例4.文本进度条"
      ]
    },
    {
      "metadata": {
        "id": "-adFsZHiRcLQ",
        "colab_type": "code",
        "outputId": "ecc5bb3e-c092-4785-d257-213298e4f821",
        "colab": {
          "base_uri": "https://localhost:8080/",
          "height": 238
        }
      },
      "cell_type": "code",
      "source": [
        "import time\n",
        "scale=10\n",
        "print('-----执行开始-----')\n",
        "for i in range(scale+1):\n",
        "  a='*'*i\n",
        "  b='.'*(scale-i)\n",
        "  c=(i/scale)*100\n",
        "  print('{:^3.0f}%[{}->{}]'.format(c,a,b))\n",
        "  time.sleep(1)\n",
        "print('-----执行结束-----')"
      ],
      "execution_count": 0,
      "outputs": [
        {
          "output_type": "stream",
          "text": [
            "-----执行开始-----\n",
            " 0 %[->..........]\n",
            "10 %[*->.........]\n",
            "20 %[**->........]\n",
            "30 %[***->.......]\n",
            "40 %[****->......]\n",
            "50 %[*****->.....]\n",
            "60 %[******->....]\n",
            "70 %[*******->...]\n",
            "80 %[********->..]\n",
            "90 %[*********->.]\n",
            "100%[**********->]\n",
            "-----执行结束-----\n"
          ],
          "name": "stdout"
        }
      ]
    },
    {
      "metadata": {
        "id": "cbOxneXmSR8t",
        "colab_type": "code",
        "outputId": "1c268343-7778-4569-a309-29408c0c3d5e",
        "colab": {
          "base_uri": "https://localhost:8080/",
          "height": 34
        }
      },
      "cell_type": "code",
      "source": [
        "import time\n",
        "for i in range(101):\n",
        "  print(\"\\r{:3}%\".format(i),end=\"\")\n",
        "  time.sleep(0.1)"
      ],
      "execution_count": 0,
      "outputs": [
        {
          "output_type": "stream",
          "text": [
            "100%"
          ],
          "name": "stdout"
        }
      ]
    },
    {
      "metadata": {
        "id": "4msXoXYSUPOb",
        "colab_type": "code",
        "outputId": "d4bdba70-c2b9-43df-dc7e-96faf7de7558",
        "colab": {
          "base_uri": "https://localhost:8080/",
          "height": 68
        }
      },
      "cell_type": "code",
      "source": [
        "import time\n",
        "scale=50\n",
        "print('执行开始'.center(scale//2,'-'))\n",
        "start=time.perf_counter()\n",
        "for i in range(scale+1):\n",
        "  a='*'*i\n",
        "  b='.'*(scale-i)\n",
        "  c=(i/scale)*100\n",
        "  dur=time.perf_counter()-start\n",
        "  print('\\r{:^3.0f}%[{}->{}]{:.2f}s'.format(c,a,b,dur),end='')\n",
        "  time.sleep(0.5)\n",
        "print('\\n'+'执行结束'.center(scale//2,'-'))"
      ],
      "execution_count": 0,
      "outputs": [
        {
          "output_type": "stream",
          "text": [
            "-----------执行开始----------\n",
            "100%[**************************************************->]25.04s\n",
            "-----------执行结束----------\n"
          ],
          "name": "stdout"
        }
      ]
    },
    {
      "metadata": {
        "id": "D8V09WZx2q8z",
        "colab_type": "code",
        "colab": {}
      },
      "cell_type": "code",
      "source": [
        ""
      ],
      "execution_count": 0,
      "outputs": []
    }
  ]
}