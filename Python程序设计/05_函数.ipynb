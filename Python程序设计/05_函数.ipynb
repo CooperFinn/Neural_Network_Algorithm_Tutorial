{
  "nbformat": 4,
  "nbformat_minor": 0,
  "metadata": {
    "colab": {
      "name": "05_函数.ipynb",
      "version": "0.3.2",
      "provenance": [],
      "collapsed_sections": [],
      "include_colab_link": true
    },
    "kernelspec": {
      "name": "python3",
      "display_name": "Python 3"
    }
  },
  "cells": [
    {
      "cell_type": "markdown",
      "metadata": {
        "id": "view-in-github",
        "colab_type": "text"
      },
      "source": [
        "<a href=\"https://colab.research.google.com/github/CooperFinn/Python-Tutorial/blob/master/Python%E7%A8%8B%E5%BA%8F%E8%AE%BE%E8%AE%A1/05_%E5%87%BD%E6%95%B0.ipynb\" target=\"_parent\"><img src=\"https://colab.research.google.com/assets/colab-badge.svg\" alt=\"Open In Colab\"/></a>"
      ]
    },
    {
      "metadata": {
        "id": "Q85IxDgXlO6p",
        "colab_type": "text"
      },
      "cell_type": "markdown",
      "source": [
        "<h1 align=center><font size = 5>函数</font></h1>"
      ]
    },
    {
      "metadata": {
        "id": "oPIWtsOHlXrQ",
        "colab_type": "text"
      },
      "cell_type": "markdown",
      "source": [
        "## 目录\n",
        "\n",
        "<div class=\"alert alert-block alert-info\" style=\"margin-top: 20px\">\n",
        "\n",
        "1. [函数的定义](#2)<br>\n",
        "2. [实例7:七段数码管绘制](#6) <br>\n",
        "3. [代码复用与函数递归](#8) <br>\n",
        "4. [模块4:pyinstaller库](#10) <br>\n",
        "5. [实例8:科赫雪花小包裹](#10) <br>\n",
        "</div>\n",
        "<hr>"
      ]
    },
    {
      "metadata": {
        "id": "lz2Zp8IXmHYu",
        "colab_type": "text"
      },
      "cell_type": "markdown",
      "source": [
        "##1.函数的定义与使用"
      ]
    },
    {
      "metadata": {
        "id": "JAx_nDKmlLPN",
        "colab_type": "code",
        "colab": {}
      },
      "cell_type": "code",
      "source": [
        "#定义函数\n",
        "def fact(n):\n",
        "  s=1\n",
        "  for i in range(1,n+1):\n",
        "    s*=i\n",
        "  return s"
      ],
      "execution_count": 0,
      "outputs": []
    },
    {
      "metadata": {
        "id": "AMgOjFmpmKf7",
        "colab_type": "code",
        "colab": {}
      },
      "cell_type": "code",
      "source": [
        "#调用函数\n",
        "fact(10)"
      ],
      "execution_count": 0,
      "outputs": []
    },
    {
      "metadata": {
        "id": "vd4CG0sfm4Cv",
        "colab_type": "code",
        "colab": {}
      },
      "cell_type": "code",
      "source": [
        "def fact():\n",
        "  print('无参数')"
      ],
      "execution_count": 0,
      "outputs": []
    },
    {
      "metadata": {
        "id": "S1n7d4O0m4ID",
        "colab_type": "code",
        "colab": {}
      },
      "cell_type": "code",
      "source": [
        "#非可选参数放括号前面\n",
        "def fact(n,m=1): #参数m默认为1\n",
        "  s=1\n",
        "  for i in range(1,n+1):\n",
        "    s*=i\n",
        "  return s//m"
      ],
      "execution_count": 0,
      "outputs": []
    },
    {
      "metadata": {
        "id": "vX1864uSm4M2",
        "colab_type": "code",
        "colab": {}
      },
      "cell_type": "code",
      "source": [
        "fact(5)"
      ],
      "execution_count": 0,
      "outputs": []
    },
    {
      "metadata": {
        "id": "wWH77zVyoI8X",
        "colab_type": "code",
        "colab": {}
      },
      "cell_type": "code",
      "source": [
        "fact(5,6)"
      ],
      "execution_count": 0,
      "outputs": []
    },
    {
      "metadata": {
        "id": "2db_8yguoJBg",
        "colab_type": "code",
        "colab": {}
      },
      "cell_type": "code",
      "source": [
        "#不确定参数用*表示\n",
        "def fact(n,*b): #星号为可变参数\n",
        "  s=1\n",
        "  for i in range(1,n+1):\n",
        "    s*=i\n",
        "  for item in b:\n",
        "    s*=item\n",
        "  return s"
      ],
      "execution_count": 0,
      "outputs": []
    },
    {
      "metadata": {
        "id": "rZNzm5YfoJFv",
        "colab_type": "code",
        "colab": {}
      },
      "cell_type": "code",
      "source": [
        "fact(10,3)"
      ],
      "execution_count": 0,
      "outputs": []
    },
    {
      "metadata": {
        "id": "7hGD2WJGoJKv",
        "colab_type": "code",
        "colab": {}
      },
      "cell_type": "code",
      "source": [
        "fact(10,3,5,7)"
      ],
      "execution_count": 0,
      "outputs": []
    },
    {
      "metadata": {
        "id": "qBIc96MkoJQI",
        "colab_type": "code",
        "colab": {}
      },
      "cell_type": "code",
      "source": [
        "fact(n=5,m=10)"
      ],
      "execution_count": 0,
      "outputs": []
    },
    {
      "metadata": {
        "id": "Rj0Hg2eSoJV5",
        "colab_type": "code",
        "colab": {}
      },
      "cell_type": "code",
      "source": [
        "#全局变量，局部变量\n",
        "n,s=10,100 #n,s是全局变量\n",
        "def fact(n):#fact()函数中的n是局部变量\n",
        "  s=1#fact()函数中的s是局部变量\n",
        "  for i in range(1,n+1):\n",
        "    s*=i\n",
        "  return s\n",
        "print(fact(n),s)#n和s是全局变量\n"
      ],
      "execution_count": 0,
      "outputs": []
    },
    {
      "metadata": {
        "id": "sN0n02ntoJbk",
        "colab_type": "code",
        "colab": {}
      },
      "cell_type": "code",
      "source": [
        "#把局部变量变为全局变量\n",
        "n,s=10,100 \n",
        "def fact(n):\n",
        "  global s #声明此处s是全局变量\n",
        "  for i in range(1,n+1):\n",
        "    s*=i\n",
        "  return s\n",
        "print(fact(n),s)"
      ],
      "execution_count": 0,
      "outputs": []
    },
    {
      "metadata": {
        "id": "0ohD8j0_oJgg",
        "colab_type": "code",
        "colab": {}
      },
      "cell_type": "code",
      "source": [
        "#局部变量为组合数据类型且未创建，等同于全局变量\n",
        "ls=['F','f']\n",
        "def func(a):\n",
        "  ls.append(a)\n",
        "  return\n",
        "func('C')\n",
        "print(ls)"
      ],
      "execution_count": 0,
      "outputs": []
    },
    {
      "metadata": {
        "id": "FT7dkOEYoJn2",
        "colab_type": "code",
        "colab": {}
      },
      "cell_type": "code",
      "source": [
        "\"\"\"lambda函数\n",
        "<函数名>=lambda<参数>:<表达式> 等价于 def<函数名>(<参数>):\n",
        "                                     <函数体>\n",
        "                                     return<返回值>\n",
        "\"\"\""
      ],
      "execution_count": 0,
      "outputs": []
    },
    {
      "metadata": {
        "id": "fDPPI72rsNyx",
        "colab_type": "code",
        "colab": {}
      },
      "cell_type": "code",
      "source": [
        "f=lambda x,y: x+y"
      ],
      "execution_count": 0,
      "outputs": []
    },
    {
      "metadata": {
        "id": "a-ObtpZisN3d",
        "colab_type": "code",
        "colab": {}
      },
      "cell_type": "code",
      "source": [
        "f(10,15)"
      ],
      "execution_count": 0,
      "outputs": []
    },
    {
      "metadata": {
        "id": "-fmwD0TRsN7p",
        "colab_type": "code",
        "colab": {}
      },
      "cell_type": "code",
      "source": [
        "f=lambda:'lambda函数'\n",
        "f()"
      ],
      "execution_count": 0,
      "outputs": []
    },
    {
      "metadata": {
        "id": "pChY_S1Zu4kC",
        "colab_type": "text"
      },
      "cell_type": "markdown",
      "source": [
        "##2.实例7:七段数码管绘制"
      ]
    },
    {
      "metadata": {
        "id": "OG0LKYBNsOAU",
        "colab_type": "code",
        "colab": {}
      },
      "cell_type": "code",
      "source": [
        "#导入turtle库和time库\n",
        "import turtle,time\n",
        "#绘制间隔\n",
        "def drawgap():\n",
        "  turtle.penup()\n",
        "  turtle.fd(5)\n",
        "#定义绘制一条线的函数\n",
        "def drawline(draw):\n",
        "  drawgap()\n",
        "  turtle.pendown() if draw else turtle.penup()\n",
        "  turtle.fd(40)\n",
        "  drawgap()\n",
        "  turtle.right(90)\n",
        "#绘制七条线\n",
        "def drawdigit(digit):\n",
        "  drawline(True) if digit in [2,3,4,5,6,8,9] else drawline(False)\n",
        "  drawline(True) if digit in [0,1,3,4,5,6,7,8,9] else drawline(False)\n",
        "  drawline(True) if digit in [0,2,3,5,6,8,9] else drawline(False)\n",
        "  drawline(True) if digit in [0,2,6,8] else drawline(False)\n",
        "  turtle.left(90)\n",
        "  drawline(True) if digit in [0,4,5,6,8,9] else drawline(False)\n",
        "  drawline(True) if digit in [0,2,3,5,6,7,8,9] else drawline(False)\n",
        "  drawline(True) if digit in [0,1,2,3,4,7,8,9] else drawline(False)\n",
        "  turtle.left(180)\n",
        "  #回到初始位置\n",
        "  turtle.penup()\n",
        "  turtle.fd(20)\n",
        "#获取要输出的数字,date为日期，格式为'%Y-%m=%d+'\n",
        "def drawdate(date):\n",
        "  turtle.pencolor('red')\n",
        "  for i in date:\n",
        "    if i==\"-\":\n",
        "      turtle.write('年',font=('Arial',18,'normal'))\n",
        "      turtle.pencolor('green')\n",
        "      turtle.fd(40)\n",
        "    elif i=='=':\n",
        "      turtle.write('月',font=('Arial',18,'normal'))\n",
        "      turtle.pencolor('blue')\n",
        "      turtle.fd(40)\n",
        "    elif i=='+':\n",
        "      \n",
        "      turtle.write('日',font=('Arial',18,'normal'))\n",
        "    else:\n",
        "      drawdigit(eval(i))#通过eval()函数将数字变成整数\n",
        "#定义主函数\n",
        "def main():\n",
        "  turtle.setup(800,350,200,200)\n",
        "  turtle.penup()\n",
        "  turtle.fd(-300)\n",
        "  turtle.pensize(5)\n",
        "  drawdate(time.strftime('%Y-%m=%d+',time.gmtime()))\n",
        "  turtle.hideturtle()\n",
        "  turtle.done()\n",
        "#调用主函数\n",
        "main()"
      ],
      "execution_count": 0,
      "outputs": []
    },
    {
      "metadata": {
        "id": "k9F3KAWj7MFS",
        "colab_type": "text"
      },
      "cell_type": "markdown",
      "source": [
        "##3.代码复用与函数递归"
      ]
    },
    {
      "metadata": {
        "id": "iSSdFK_CsOFh",
        "colab_type": "code",
        "colab": {}
      },
      "cell_type": "code",
      "source": [
        "#定义阶乘函数\n",
        "def fact(n):\n",
        "  if n==0:\n",
        "    return 1\n",
        "  else:\n",
        "    return n*fact(n-1)"
      ],
      "execution_count": 0,
      "outputs": []
    },
    {
      "metadata": {
        "id": "Sqsrh66bsONK",
        "colab_type": "code",
        "colab": {}
      },
      "cell_type": "code",
      "source": [
        "#递归调用\n",
        "fact(5)"
      ],
      "execution_count": 0,
      "outputs": []
    },
    {
      "metadata": {
        "id": "40lYFzwdsOSw",
        "colab_type": "code",
        "colab": {}
      },
      "cell_type": "code",
      "source": [
        "def rvs(s):\n",
        "  if s=='':\n",
        "    return s\n",
        "  else:\n",
        "    return rvs(s[1:]+s[0])"
      ],
      "execution_count": 0,
      "outputs": []
    },
    {
      "metadata": {
        "id": "RA-6aBTIm4Rn",
        "colab_type": "code",
        "colab": {}
      },
      "cell_type": "code",
      "source": [
        "#斐波那契数列\n",
        "def f(n):\n",
        "  if n==1 or n==2:\n",
        "    return 1\n",
        "  else:\n",
        "    return f(n-1)+f(n-2)"
      ],
      "execution_count": 0,
      "outputs": []
    },
    {
      "metadata": {
        "id": "NVeHsP0Pm4Ws",
        "colab_type": "code",
        "colab": {}
      },
      "cell_type": "code",
      "source": [
        "#汉诺塔\n",
        "count=0\n",
        "def hanoi(n,src,dst,mid):\n",
        "  global count\n",
        "  if n==1:\n",
        "    print('{}:{}->{}'.format(1,src,dst))\n",
        "    count+=1\n",
        "  else:\n",
        "    hanoi(n-1,src,mid,dst)\n",
        "    print('{}:{}->{}'.format(n,src,dst))\n",
        "    count+=1\n",
        "    hanoi(n-1,mid,dst,src)"
      ],
      "execution_count": 0,
      "outputs": []
    },
    {
      "metadata": {
        "id": "zAQ55xSrm4mB",
        "colab_type": "code",
        "colab": {}
      },
      "cell_type": "code",
      "source": [
        "hanoi(3,\"A\",\"C\",\"B\")"
      ],
      "execution_count": 0,
      "outputs": []
    },
    {
      "metadata": {
        "id": "Utcfb0mJCJAL",
        "colab_type": "code",
        "colab": {}
      },
      "cell_type": "code",
      "source": [
        "print(count)"
      ],
      "execution_count": 0,
      "outputs": []
    },
    {
      "metadata": {
        "id": "uaqUs-OFFRRE",
        "colab_type": "text"
      },
      "cell_type": "markdown",
      "source": [
        "##4.模块4:pyinstaller库"
      ]
    },
    {
      "metadata": {
        "id": "kq7d0SJ5Fo9C",
        "colab_type": "text"
      },
      "cell_type": "markdown",
      "source": [
        "将.py文件转换为exe等文件\n",
        "\n",
        "命令：pyinstaller -F<文件名>.py"
      ]
    },
    {
      "metadata": {
        "id": "0i-LbiYaJ67A",
        "colab_type": "text"
      },
      "cell_type": "markdown",
      "source": [
        "##5.实例8:科赫曲线"
      ]
    },
    {
      "metadata": {
        "id": "7GKFvZCZCJEM",
        "colab_type": "code",
        "colab": {}
      },
      "cell_type": "code",
      "source": [
        "import turtle\n",
        "def koch(size,n):\n",
        "  if n==0:\n",
        "    turtle.fd(size)\n",
        "  else:\n",
        "    for angle in [0,60,-120,60]:\n",
        "      turtle.left(angle)\n",
        "      koch(size/3,n-1)\n",
        "def main():\n",
        "  turtle.setup(800,400)\n",
        "  turtle.penup()\n",
        "  turtle.goto(-300,-50)\n",
        "  turtle.pendown()\n",
        "  turtle.pensize(2)\n",
        "  koch(600,4)#4阶科赫曲线\n",
        "  turtle.hideturtle()\n",
        "main()"
      ],
      "execution_count": 0,
      "outputs": []
    },
    {
      "metadata": {
        "id": "TSqE19JXCJIZ",
        "colab_type": "code",
        "colab": {}
      },
      "cell_type": "code",
      "source": [
        "import turtle\n",
        "def koch(size,n):\n",
        "  if n==0:\n",
        "    turtle.fd(size)\n",
        "  else:\n",
        "    for angle in [0,60,-120,60]:\n",
        "      turtle.left(angle)\n",
        "      koch(size/3,n-1)\n",
        "def main():\n",
        "  turtle.setup(800,800)\n",
        "  turtle.penup()\n",
        "  turtle.goto(-200,100)\n",
        "  turtle.pendown()\n",
        "  turtle.pensize(2)\n",
        "  level=3\n",
        "  koch(400,level)\n",
        "  turtle.right(120)\n",
        "  koch(400,level)\n",
        "  turtle.right(120)\n",
        "  koch(400,level)\n",
        "  turtle.hideturtle()\n",
        "  turtle.done()\n",
        "main()"
      ],
      "execution_count": 0,
      "outputs": []
    },
    {
      "metadata": {
        "id": "uD5GPtFMTChv",
        "colab_type": "text"
      },
      "cell_type": "markdown",
      "source": [
        "打包：pyinstaller -i curve.ico -F <文件名.py>"
      ]
    }
  ]
}