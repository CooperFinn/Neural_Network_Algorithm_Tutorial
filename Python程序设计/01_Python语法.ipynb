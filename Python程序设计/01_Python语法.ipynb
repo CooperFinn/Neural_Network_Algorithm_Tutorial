{
  "nbformat": 4,
  "nbformat_minor": 0,
  "metadata": {
    "colab": {
      "name": "01.Python语法.ipynb",
      "version": "0.3.2",
      "provenance": [],
      "collapsed_sections": [],
      "include_colab_link": true
    },
    "kernelspec": {
      "name": "python3",
      "display_name": "Python 3"
    }
  },
  "cells": [
    {
      "cell_type": "markdown",
      "metadata": {
        "id": "view-in-github",
        "colab_type": "text"
      },
      "source": [
        "<a href=\"https://colab.research.google.com/github/CooperFinn/Python-Tutorial/blob/master/Python%E7%A8%8B%E5%BA%8F%E8%AE%BE%E8%AE%A1/01_Python%E8%AF%AD%E6%B3%95.ipynb\" target=\"_parent\"><img src=\"https://colab.research.google.com/assets/colab-badge.svg\" alt=\"Open In Colab\"/></a>"
      ]
    },
    {
      "metadata": {
        "id": "c08fPJLj5Hg6",
        "colab_type": "text"
      },
      "cell_type": "markdown",
      "source": [
        "<h1 align=center><font size = 5>Python语法</font></h1>"
      ]
    },
    {
      "metadata": {
        "id": "wxhnR1TK5QaO",
        "colab_type": "text"
      },
      "cell_type": "markdown",
      "source": [
        "## 目录\n",
        "\n",
        "<div class=\"alert alert-block alert-info\" style=\"margin-top: 20px\">\n",
        "\n",
        "1. [基本方法](#2)<br>\n",
        "2. [开发环境配置](#6) <br>\n",
        "3. [编程实例](#8) <br>\n",
        "4. [基本语法](#10) <br>\n",
        "</div>\n",
        "<hr>"
      ]
    },
    {
      "metadata": {
        "id": "vNLe3Hro5yhF",
        "colab_type": "text"
      },
      "cell_type": "markdown",
      "source": [
        "##1.基本方法"
      ]
    },
    {
      "metadata": {
        "id": "rxSyQuq56FVV",
        "colab_type": "text"
      },
      "cell_type": "markdown",
      "source": [
        "第1步：分析问题的计算部分；\n",
        "\n",
        "第2步：划分IPO（input输入,process处理,output输出）；\n",
        "\n",
        "第3步：设计算法；\n",
        "\n",
        "第4步：编写程序；\n",
        "\n",
        "第5步：调试程序；\n",
        "\n",
        "第6步：升级维护。"
      ]
    },
    {
      "metadata": {
        "id": "uZ69tfIk8ZI9",
        "colab_type": "text"
      },
      "cell_type": "markdown",
      "source": [
        "##2.开发环境配置"
      ]
    },
    {
      "metadata": {
        "id": "nPcgRHZ4_fEG",
        "colab_type": "text"
      },
      "cell_type": "markdown",
      "source": [
        "下载：https://www.python.org\n",
        "\n",
        "安装：add python to PATH"
      ]
    },
    {
      "metadata": {
        "id": "H_WBzItgABNv",
        "colab_type": "text"
      },
      "cell_type": "markdown",
      "source": [
        "##3.编程实例"
      ]
    },
    {
      "metadata": {
        "id": "wz-Y2B3-4TjJ",
        "colab_type": "code",
        "colab": {}
      },
      "cell_type": "code",
      "source": [
        "# 实例1:计算圆的面积\n",
        "r=25\n",
        "area=3.1415*r*r\n",
        "print(area)\n",
        "print('{:.2f}F'.format(area))"
      ],
      "execution_count": 0,
      "outputs": []
    },
    {
      "metadata": {
        "id": "fe0rcgLoBWus",
        "colab_type": "code",
        "colab": {}
      },
      "cell_type": "code",
      "source": [
        "# 实例2:绘制同切圆\n",
        "import turtle\n",
        "turtle.pensize(2)\n",
        "turtle.circle(10)\n",
        "turtle.circle(40)\n",
        "turtle.circle(80)\n",
        "turtle.circle(160)"
      ],
      "execution_count": 0,
      "outputs": []
    },
    {
      "metadata": {
        "id": "Ca3kqOdiCPma",
        "colab_type": "code",
        "colab": {}
      },
      "cell_type": "code",
      "source": [
        "# 实例3:绘制五角星\n",
        "from turtle import*\n",
        "color('red','red')\n",
        "begin_fill()\n",
        "for i in range(5):\n",
        "  fd(200)\n",
        "  rt(144)\n",
        "end_fill()\n",
        "done()"
      ],
      "execution_count": 0,
      "outputs": []
    },
    {
      "metadata": {
        "id": "cNZrSNtXGBoU",
        "colab_type": "code",
        "outputId": "616ac84e-8fbe-482d-945a-5418bc44379b",
        "colab": {
          "base_uri": "https://localhost:8080/",
          "height": 71
        }
      },
      "cell_type": "code",
      "source": [
        "# 实例4.温度转换：\n",
        "\n",
        "#第1步：分析计算部分：转换温度值\n",
        "\n",
        "#第2步：输入F(C)，处理C=(F-32)/1.8(F=C*1.8+32)，输出F(C)\n",
        "\n",
        "#第3步：编程\n",
        "\n",
        "TempStr=input('请输入带有符号的温度值：（如：520C）')\n",
        "if TempStr[-1] in ['F','f']:\n",
        "  C=(eval(TempStr[0:-1])-32)/1.8\n",
        "  print('转换后的温度是{:.2f}C'.format(C))\n",
        "elif Temstr[-1] in ['C','c']:\n",
        "  F=1.8*eval(TempStr[0:-1])+32\n",
        "  print('转换后的温度是{:.2f}F'.format(F))\n",
        "else:\n",
        "  print('输入格式有误')"
      ],
      "execution_count": 0,
      "outputs": [
        {
          "output_type": "stream",
          "text": [
            "请输入带有符号的温度值：55F\n",
            "转换后的温度是12.78C\n"
          ],
          "name": "stdout"
        }
      ]
    },
    {
      "metadata": {
        "id": "bMBgzsNKKsmL",
        "colab_type": "text"
      },
      "cell_type": "markdown",
      "source": [
        "##4.基本语法"
      ]
    },
    {
      "metadata": {
        "id": "Qo3wgEDHKxcp",
        "colab_type": "text"
      },
      "cell_type": "markdown",
      "source": [
        "变量、赋值、命名、缩进、注释、保留字、数据类型、字符串、整数、浮点数、列表、赋值语句、分支语句、循环语句、函数、输入函数、输出函数、评估函数......"
      ]
    }
  ]
}