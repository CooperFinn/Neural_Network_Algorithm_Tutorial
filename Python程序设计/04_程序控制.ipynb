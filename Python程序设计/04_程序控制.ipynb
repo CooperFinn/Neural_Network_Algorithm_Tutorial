{
  "nbformat": 4,
  "nbformat_minor": 0,
  "metadata": {
    "colab": {
      "name": "04_程序控制.ipynb",
      "version": "0.3.2",
      "provenance": [],
      "collapsed_sections": [],
      "include_colab_link": true
    },
    "kernelspec": {
      "name": "python3",
      "display_name": "Python 3"
    }
  },
  "cells": [
    {
      "cell_type": "markdown",
      "metadata": {
        "id": "view-in-github",
        "colab_type": "text"
      },
      "source": [
        "<a href=\"https://colab.research.google.com/github/CooperFinn/Python-Tutorial/blob/master/Python%E7%A8%8B%E5%BA%8F%E8%AE%BE%E8%AE%A1/04_%E7%A8%8B%E5%BA%8F%E6%8E%A7%E5%88%B6.ipynb\" target=\"_parent\"><img src=\"https://colab.research.google.com/assets/colab-badge.svg\" alt=\"Open In Colab\"/></a>"
      ]
    },
    {
      "metadata": {
        "id": "C4Mrf2nH-2me",
        "colab_type": "text"
      },
      "cell_type": "markdown",
      "source": [
        "<h1 align=center><font size = 5>程序控制</font></h1>"
      ]
    },
    {
      "metadata": {
        "id": "QmQZx3vj-5IC",
        "colab_type": "text"
      },
      "cell_type": "markdown",
      "source": [
        "## 目录\n",
        "\n",
        "<div class=\"alert alert-block alert-info\" style=\"margin-top: 20px\">\n",
        "\n",
        "1. [分支结构](#2)<br>\n",
        "2. [实例5:身体质量指数](#6) <br>\n",
        "3. [循环结构](#8) <br>\n",
        "4. [模块3:random库](#10) <br>\n",
        "5. [实例6:计算圆周率](#6) <br>\n",
        "</div>\n",
        "<hr>"
      ]
    },
    {
      "metadata": {
        "id": "LuM0zgYk_4hA",
        "colab_type": "text"
      },
      "cell_type": "markdown",
      "source": [
        "##1.分支结构"
      ]
    },
    {
      "metadata": {
        "id": "lY_28ych-fOT",
        "colab_type": "code",
        "outputId": "6cd29494-ba8c-4ce4-cbdb-2372859849ae",
        "colab": {
          "base_uri": "https://localhost:8080/",
          "height": 51
        }
      },
      "cell_type": "code",
      "source": [
        "#单分支结构\n",
        "guess=eval(input())\n",
        "if guess==20:\n",
        "  print('您猜对了')"
      ],
      "execution_count": 0,
      "outputs": [
        {
          "output_type": "stream",
          "text": [
            "20\n",
            "您猜对了\n"
          ],
          "name": "stdout"
        }
      ]
    },
    {
      "metadata": {
        "id": "ypLIqLg7A4c1",
        "colab_type": "code",
        "outputId": "8b36cbe9-7532-47db-88bd-60d4e765baf6",
        "colab": {
          "base_uri": "https://localhost:8080/",
          "height": 51
        }
      },
      "cell_type": "code",
      "source": [
        "#二分支结构1\n",
        "guess=eval(input())\n",
        "if guess==20:\n",
        "  print('您猜对了')\n",
        "else:\n",
        "  print('您猜错了')"
      ],
      "execution_count": 0,
      "outputs": [
        {
          "output_type": "stream",
          "text": [
            "19\n",
            "您猜错了\n"
          ],
          "name": "stdout"
        }
      ]
    },
    {
      "metadata": {
        "id": "DJgc25xiBRcR",
        "colab_type": "code",
        "outputId": "99624c44-7411-445a-9e79-cba922c251c3",
        "colab": {
          "base_uri": "https://localhost:8080/",
          "height": 51
        }
      },
      "cell_type": "code",
      "source": [
        "#二分支结构2\n",
        "guess=eval(input())\n",
        "print(\"您猜{}了\".format(\"对\"if guess==20 else\"错\"))"
      ],
      "execution_count": 0,
      "outputs": [
        {
          "output_type": "stream",
          "text": [
            "20\n",
            "您猜对了\n"
          ],
          "name": "stdout"
        }
      ]
    },
    {
      "metadata": {
        "id": "UghcnsJ1DZHb",
        "colab_type": "code",
        "outputId": "636d67df-c46f-4795-c24f-4631875471ca",
        "colab": {
          "base_uri": "https://localhost:8080/",
          "height": 51
        }
      },
      "cell_type": "code",
      "source": [
        "# and or not\n",
        "guess=eval(input())\n",
        "if guess>20 or guess<20:\n",
        "  print('您猜错了')\n",
        "else:\n",
        "  print('您猜对了')"
      ],
      "execution_count": 0,
      "outputs": [
        {
          "output_type": "stream",
          "text": [
            "19\n",
            "您猜错了\n"
          ],
          "name": "stdout"
        }
      ]
    },
    {
      "metadata": {
        "id": "bx8h4kJFERgp",
        "colab_type": "code",
        "colab": {}
      },
      "cell_type": "code",
      "source": [
        "#异常处理\n",
        "try:\n",
        "  num=eval(input('请输入一个整数:'))\n",
        "  print(num**2)\n",
        "except NameError:\n",
        "  print('名字异常')\n",
        "else:\n",
        "  print(\"不发生异常时执行\")\n",
        "finally:\n",
        "  print('一定执行')"
      ],
      "execution_count": 0,
      "outputs": []
    },
    {
      "metadata": {
        "id": "FGysa26VGXe2",
        "colab_type": "text"
      },
      "cell_type": "markdown",
      "source": [
        "##2.实例5:身体质量指数"
      ]
    },
    {
      "metadata": {
        "id": "XcoSYlD_EpYu",
        "colab_type": "code",
        "outputId": "724fa33a-577a-4081-bce2-28e43677576a",
        "colab": {
          "base_uri": "https://localhost:8080/",
          "height": 88
        }
      },
      "cell_type": "code",
      "source": [
        "#国际国内BMI指数\n",
        "height,weight=eval(input('请输入身高（米）和体重（公斤），并用逗号隔开：'))\n",
        "bmi=weight/pow(height,2)\n",
        "print('BMI数值为：{:.2f}'.format(bmi))\n",
        "who,nat='',''\n",
        "if bmi<18.5:\n",
        "  who,nat='偏瘦','偏瘦'\n",
        "elif 18.5<=bmi<24:\n",
        "  who,nat='正常','正常'\n",
        "elif 24<=bmi<25:\n",
        "  who,nat='正常','偏胖'\n",
        "elif 25<=bmi<28:\n",
        "  who,nat='偏胖','偏胖'\n",
        "elif 28<=bmi<30:\n",
        "  who,nat='偏胖','肥胖'\n",
        "print('国际：{},国内：{}'.format(who,nat))"
      ],
      "execution_count": 0,
      "outputs": [
        {
          "output_type": "stream",
          "text": [
            "请输入身高（米）和体重（公斤），并用逗号隔开：2,100\n",
            "BMI数值为：25.00\n",
            "国际：偏胖,国内：偏胖\n"
          ],
          "name": "stdout"
        }
      ]
    },
    {
      "metadata": {
        "id": "GtsJV7LvKRRy",
        "colab_type": "text"
      },
      "cell_type": "markdown",
      "source": [
        "##3.循环结构"
      ]
    },
    {
      "metadata": {
        "id": "p5faWnaYJP_h",
        "colab_type": "code",
        "outputId": "eef94b07-c6be-4ab8-a55b-97e45093ef80",
        "colab": {
          "base_uri": "https://localhost:8080/",
          "height": 85
        }
      },
      "cell_type": "code",
      "source": [
        "#for 循环\n",
        "#for i in range(M,N,K): #从M到N-1，以K为步长\n",
        "#  print(i)\n",
        "for i in range(1,20,5):\n",
        "  print(i)"
      ],
      "execution_count": 0,
      "outputs": [
        {
          "output_type": "stream",
          "text": [
            "1\n",
            "6\n",
            "11\n",
            "16\n"
          ],
          "name": "stdout"
        }
      ]
    },
    {
      "metadata": {
        "id": "Iy5rd8ELLpfF",
        "colab_type": "code",
        "outputId": "c5fec68c-a470-49fd-e03a-9ae899200e88",
        "colab": {
          "base_uri": "https://localhost:8080/",
          "height": 34
        }
      },
      "cell_type": "code",
      "source": [
        "for c in 'python':\n",
        "  print(c,end=',')"
      ],
      "execution_count": 0,
      "outputs": [
        {
          "output_type": "stream",
          "text": [
            "p,y,t,h,o,n,"
          ],
          "name": "stdout"
        }
      ]
    },
    {
      "metadata": {
        "id": "4HF-awvDMtg2",
        "colab_type": "code",
        "outputId": "fb6270c4-1d64-43c6-f655-ea94a7fbad12",
        "colab": {
          "base_uri": "https://localhost:8080/",
          "height": 34
        }
      },
      "cell_type": "code",
      "source": [
        "for item in [123,'py',456]:\n",
        "  print(item,end=',')"
      ],
      "execution_count": 0,
      "outputs": [
        {
          "output_type": "stream",
          "text": [
            "123,py,456,"
          ],
          "name": "stdout"
        }
      ]
    },
    {
      "metadata": {
        "id": "G7PbVSk7NBQv",
        "colab_type": "code",
        "colab": {}
      },
      "cell_type": "code",
      "source": [
        "#文件\n",
        "for line in fi:\n",
        "  print(line)"
      ],
      "execution_count": 0,
      "outputs": []
    },
    {
      "metadata": {
        "id": "cW0p7YZINkxW",
        "colab_type": "code",
        "outputId": "4911ee8c-6df1-4725-dfb8-4cb4b4f535fe",
        "colab": {
          "base_uri": "https://localhost:8080/",
          "height": 68
        }
      },
      "cell_type": "code",
      "source": [
        "#while 循环\n",
        "a=3\n",
        "while a>0:\n",
        "  a=a-1\n",
        "  print(a)"
      ],
      "execution_count": 0,
      "outputs": [
        {
          "output_type": "stream",
          "text": [
            "2\n",
            "1\n",
            "0\n"
          ],
          "name": "stdout"
        }
      ]
    },
    {
      "metadata": {
        "id": "ldEqXWaBOCaC",
        "colab_type": "code",
        "outputId": "b4014d11-9e47-473f-8ce9-d0fd50cbdc88",
        "colab": {
          "base_uri": "https://localhost:8080/",
          "height": 34
        }
      },
      "cell_type": "code",
      "source": [
        "for c in 'python':\n",
        "  if c=='t':\n",
        "    continue #结束当次循环\n",
        "  print(c,end='')"
      ],
      "execution_count": 0,
      "outputs": [
        {
          "output_type": "stream",
          "text": [
            "pyhon"
          ],
          "name": "stdout"
        }
      ]
    },
    {
      "metadata": {
        "id": "eiomg8VEO2ER",
        "colab_type": "code",
        "outputId": "c8c6e192-3d63-4583-cfd4-1d215d86aeac",
        "colab": {
          "base_uri": "https://localhost:8080/",
          "height": 34
        }
      },
      "cell_type": "code",
      "source": [
        "for c in 'python':\n",
        "  if c=='t':\n",
        "    break #结束整个循环\n",
        "  print(c,end='')"
      ],
      "execution_count": 0,
      "outputs": [
        {
          "output_type": "stream",
          "text": [
            "py"
          ],
          "name": "stdout"
        }
      ]
    },
    {
      "metadata": {
        "id": "VAMk838cXiVA",
        "colab_type": "code",
        "colab": {}
      },
      "cell_type": "code",
      "source": [
        "s='python'\n",
        "while s !='':\n",
        "  for c in s:\n",
        "    print(c,end='')\n",
        "  s=s[:-1]"
      ],
      "execution_count": 0,
      "outputs": []
    },
    {
      "metadata": {
        "id": "N2NaF06naDTf",
        "colab_type": "code",
        "colab": {}
      },
      "cell_type": "code",
      "source": [
        "s='python'\n",
        "while s !='':\n",
        "  for c in s:\n",
        "    if c=='t':\n",
        "      break\n",
        "    print(c,end='')\n",
        "  s=s[:-1]"
      ],
      "execution_count": 0,
      "outputs": []
    },
    {
      "metadata": {
        "id": "GTWUaV3haQG7",
        "colab_type": "code",
        "colab": {}
      },
      "cell_type": "code",
      "source": [
        "for c in 'python':\n",
        "  if c=='t':\n",
        "    continue\n",
        "  print(c,end='')\n",
        "else:\n",
        "  print('正常退出')"
      ],
      "execution_count": 0,
      "outputs": []
    },
    {
      "metadata": {
        "id": "xhH8JUKOaz9r",
        "colab_type": "code",
        "colab": {}
      },
      "cell_type": "code",
      "source": [
        "for c in 'python':\n",
        "  if c=='t':\n",
        "    break\n",
        "  print(c,end='')\n",
        "else:\n",
        "  print('正常退出')"
      ],
      "execution_count": 0,
      "outputs": []
    },
    {
      "metadata": {
        "id": "eoJ6BUaabiNj",
        "colab_type": "text"
      },
      "cell_type": "markdown",
      "source": [
        "##4.模块3:random库"
      ]
    },
    {
      "metadata": {
        "id": "3HZiqR-lbgJk",
        "colab_type": "code",
        "colab": {}
      },
      "cell_type": "code",
      "source": [
        "import random as r\n",
        "r.seed(10)#产生种子10对应的序列\n",
        "r.random()#生成0-1之间的随机小数"
      ],
      "execution_count": 0,
      "outputs": []
    },
    {
      "metadata": {
        "id": "lOCrPtnxbgOq",
        "colab_type": "code",
        "colab": {}
      },
      "cell_type": "code",
      "source": [
        "r.random()#生成0-1之间的随机小数"
      ],
      "execution_count": 0,
      "outputs": []
    },
    {
      "metadata": {
        "id": "WiUdBYD4bgT7",
        "colab_type": "code",
        "colab": {}
      },
      "cell_type": "code",
      "source": [
        "r.seed(10)#产生种子10对应的序列\n",
        "r.random()#生成0-1之间的随机小数"
      ],
      "execution_count": 0,
      "outputs": []
    },
    {
      "metadata": {
        "id": "OTab_bllbgZL",
        "colab_type": "code",
        "colab": {}
      },
      "cell_type": "code",
      "source": [
        "r.randint(10,100)#生成10到100之间的随机整数"
      ],
      "execution_count": 0,
      "outputs": []
    },
    {
      "metadata": {
        "id": "SAj0uNjFbgeY",
        "colab_type": "code",
        "colab": {}
      },
      "cell_type": "code",
      "source": [
        "r.randrange(10,100,10)#生成10到100之间的随机整数，步长为10"
      ],
      "execution_count": 0,
      "outputs": []
    },
    {
      "metadata": {
        "id": "ryupUlyJbgkG",
        "colab_type": "code",
        "colab": {}
      },
      "cell_type": "code",
      "source": [
        "r.getrandbits(16)#生成16个比特长的随机整数"
      ],
      "execution_count": 0,
      "outputs": []
    },
    {
      "metadata": {
        "id": "Wsoevz7Wbgwq",
        "colab_type": "code",
        "colab": {}
      },
      "cell_type": "code",
      "source": [
        "r.uniform(10,100)#生成10到100之间的随机小数"
      ],
      "execution_count": 0,
      "outputs": []
    },
    {
      "metadata": {
        "id": "dDIaXhMLd864",
        "colab_type": "code",
        "colab": {}
      },
      "cell_type": "code",
      "source": [
        "r.choice([1,2,3,4,5,6,7,8,9])#从列表中随机选取一个元素"
      ],
      "execution_count": 0,
      "outputs": []
    },
    {
      "metadata": {
        "id": "72Soio4dd9Aq",
        "colab_type": "code",
        "colab": {}
      },
      "cell_type": "code",
      "source": [
        "#打乱序列\n",
        "s=[1,2,3,4,5,6,7,8,9]\n",
        "r.shuffle(s)\n",
        "print(s)"
      ],
      "execution_count": 0,
      "outputs": []
    },
    {
      "metadata": {
        "id": "-ZmYP8C_exAE",
        "colab_type": "text"
      },
      "cell_type": "markdown",
      "source": [
        "##5.实例6:计算圆周率"
      ]
    },
    {
      "metadata": {
        "id": "4DJkG2Bgd9Ga",
        "colab_type": "code",
        "colab": {}
      },
      "cell_type": "code",
      "source": [
        "pi=0\n",
        "n=100\n",
        "for k in range(n):\n",
        "  pi+=1/pow(16,k)*(4/(8*k+1)-2/(8*k+4)-1/(8*k+5)-1/(8*k+6))\n",
        "print('圆周率是:{}'.format(pi))"
      ],
      "execution_count": 0,
      "outputs": []
    },
    {
      "metadata": {
        "id": "UaIzAa88eepf",
        "colab_type": "code",
        "outputId": "6eb50f8e-b07a-4ea0-b265-8d61d9cd3d0e",
        "colab": {
          "base_uri": "https://localhost:8080/",
          "height": 51
        }
      },
      "cell_type": "code",
      "source": [
        "#蒙特卡罗方法\n",
        "from random import random\n",
        "from time import perf_counter\n",
        "DARTS=1000*1000\n",
        "hits=0.0\n",
        "start=perf_counter()\n",
        "for i in range(1,DARTS+1):\n",
        "  x,y=random(),random()\n",
        "  dist=pow(x**2+y**2,0.5)\n",
        "  if dist<=1.0:\n",
        "    hits=hits+1\n",
        "pi=4*(hits/DARTS)\n",
        "print('圆周率是:{}'.format(pi))\n",
        "print('运行时间是：{:.5f}s'.format(perf_counter()-start))"
      ],
      "execution_count": 0,
      "outputs": [
        {
          "output_type": "stream",
          "text": [
            "圆周率是:3.141144\n",
            "运行时间是：0.67252s\n"
          ],
          "name": "stdout"
        }
      ]
    },
    {
      "metadata": {
        "id": "dcCWQeeZjuos",
        "colab_type": "code",
        "colab": {}
      },
      "cell_type": "code",
      "source": [
        ""
      ],
      "execution_count": 0,
      "outputs": []
    }
  ]
}