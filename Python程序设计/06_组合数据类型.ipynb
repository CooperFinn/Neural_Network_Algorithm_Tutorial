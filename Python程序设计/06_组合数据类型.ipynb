{
  "nbformat": 4,
  "nbformat_minor": 0,
  "metadata": {
    "colab": {
      "name": "06_组合数据类型.ipynb",
      "version": "0.3.2",
      "provenance": [],
      "collapsed_sections": [],
      "include_colab_link": true
    },
    "kernelspec": {
      "name": "python3",
      "display_name": "Python 3"
    }
  },
  "cells": [
    {
      "cell_type": "markdown",
      "metadata": {
        "id": "view-in-github",
        "colab_type": "text"
      },
      "source": [
        "<a href=\"https://colab.research.google.com/github/CooperFinn/Python-Tutorial/blob/master/Python%E7%A8%8B%E5%BA%8F%E8%AE%BE%E8%AE%A1/06_%E7%BB%84%E5%90%88%E6%95%B0%E6%8D%AE%E7%B1%BB%E5%9E%8B.ipynb\" target=\"_parent\"><img src=\"https://colab.research.google.com/assets/colab-badge.svg\" alt=\"Open In Colab\"/></a>"
      ]
    },
    {
      "metadata": {
        "id": "op69Jg4ZVimW",
        "colab_type": "text"
      },
      "cell_type": "markdown",
      "source": [
        "<h1 align=center><font size = 5>组合数据类型</font></h1>"
      ]
    },
    {
      "metadata": {
        "id": "-9REdv5AVnp9",
        "colab_type": "text"
      },
      "cell_type": "markdown",
      "source": [
        "## 目录\n",
        "\n",
        "<div class=\"alert alert-block alert-info\" style=\"margin-top: 20px\">\n",
        "\n",
        "1. [集合](#2)<br>\n",
        "2. [序列：列表、元组](#6) <br>\n",
        "3. [实例9:基本统计值](#8) <br>\n",
        "4. [字典](#10) <br>\n",
        "5. [模块5:jieba库](#10) <br>\n",
        "6. [实例10：文本词频统计](#10) <br>\n",
        "</div>\n",
        "<hr>"
      ]
    },
    {
      "metadata": {
        "id": "AYPOLDRWWEWr",
        "colab_type": "text"
      },
      "cell_type": "markdown",
      "source": [
        "##1.集合"
      ]
    },
    {
      "metadata": {
        "id": "cnYk6dz3VXvb",
        "colab_type": "code",
        "outputId": "352ff23c-8f85-4f98-85d2-19141d09e185",
        "colab": {
          "base_uri": "https://localhost:8080/",
          "height": 102
        }
      },
      "cell_type": "code",
      "source": [
        "#并S|T,差S-T,交S&T,补S^T\n",
        "A={'p','y',123}\n",
        "B=set('pypy123')\n",
        "print(B)\n",
        "print(A-B)\n",
        "print(A&B)\n",
        "print(A|B)\n",
        "print(A^B)"
      ],
      "execution_count": 0,
      "outputs": [
        {
          "output_type": "stream",
          "text": [
            "{'2', 'p', 'y', '3', '1'}\n",
            "{123}\n",
            "{'y', 'p'}\n",
            "{'2', 'p', 'y', '3', '1', 123}\n",
            "{'2', '1', 123, '3'}\n"
          ],
          "name": "stdout"
        }
      ]
    },
    {
      "metadata": {
        "id": "uooddeCOXou5",
        "colab_type": "code",
        "colab": {}
      },
      "cell_type": "code",
      "source": [
        "#s.add(x) s增加x\n",
        "#s.discard(x) s中移除x\n",
        "#s.remove(x) s中移除x，如果x不在s中，会产生keyerror异常\n",
        "#s.clear() 移除s中所有元素\n",
        "#s.pop() 随机返回s的一个元素，更新s,若s为空产生keyerror异常\n",
        "#s.copy() 返回s的一个副本\n",
        "#len(s)\n",
        "#x in s\n",
        "#x not in s\n",
        "#set(x)"
      ],
      "execution_count": 0,
      "outputs": []
    },
    {
      "metadata": {
        "id": "fDMafCabYudm",
        "colab_type": "code",
        "outputId": "0b7b1324-ba6d-45fe-9d4b-ca9951fa98db",
        "colab": {
          "base_uri": "https://localhost:8080/",
          "height": 34
        }
      },
      "cell_type": "code",
      "source": [
        "A={'p','y',123}\n",
        "for item in A:\n",
        "  print(item,end=\"\")"
      ],
      "execution_count": 0,
      "outputs": [
        {
          "output_type": "stream",
          "text": [
            "123yp"
          ],
          "name": "stdout"
        }
      ]
    },
    {
      "metadata": {
        "id": "7rWMqd7FY-iT",
        "colab_type": "code",
        "colab": {}
      },
      "cell_type": "code",
      "source": [
        "try:\n",
        "  while True:\n",
        "    print(A.pop(),end=\"\")\n",
        "  except:\n",
        "    pass"
      ],
      "execution_count": 0,
      "outputs": []
    },
    {
      "metadata": {
        "id": "nEn-h0b9ZVpq",
        "colab_type": "code",
        "outputId": "19c4f2f5-f28d-4020-9de0-9f014b8d0acd",
        "colab": {
          "base_uri": "https://localhost:8080/",
          "height": 34
        }
      },
      "cell_type": "code",
      "source": [
        "'p' in {'p','y',123}"
      ],
      "execution_count": 0,
      "outputs": [
        {
          "output_type": "execute_result",
          "data": {
            "text/plain": [
              "True"
            ]
          },
          "metadata": {
            "tags": []
          },
          "execution_count": 5
        }
      ]
    },
    {
      "metadata": {
        "id": "zP2BrM2mZwpm",
        "colab_type": "code",
        "outputId": "7638bcf0-06d8-47ec-9d87-7e629116051c",
        "colab": {
          "base_uri": "https://localhost:8080/",
          "height": 34
        }
      },
      "cell_type": "code",
      "source": [
        "{'p','y'}>={'p','y',123}"
      ],
      "execution_count": 0,
      "outputs": [
        {
          "output_type": "execute_result",
          "data": {
            "text/plain": [
              "False"
            ]
          },
          "metadata": {
            "tags": []
          },
          "execution_count": 6
        }
      ]
    },
    {
      "metadata": {
        "id": "dXLyqivNZ481",
        "colab_type": "code",
        "outputId": "35cea218-9c68-461e-af2f-f8f8bca56793",
        "colab": {
          "base_uri": "https://localhost:8080/",
          "height": 34
        }
      },
      "cell_type": "code",
      "source": [
        "#数据去重\n",
        "ls=['p','p','y','y',123]\n",
        "s=set(ls)\n",
        "lt=list(s)\n",
        "lt"
      ],
      "execution_count": 0,
      "outputs": [
        {
          "output_type": "execute_result",
          "data": {
            "text/plain": [
              "[123, 'y', 'p']"
            ]
          },
          "metadata": {
            "tags": []
          },
          "execution_count": 7
        }
      ]
    },
    {
      "metadata": {
        "id": "n6sWQtgmgQhD",
        "colab_type": "text"
      },
      "cell_type": "markdown",
      "source": [
        "##2.序列：列表、元组"
      ]
    },
    {
      "metadata": {
        "id": "f8euK6wjaMIH",
        "colab_type": "code",
        "colab": {}
      },
      "cell_type": "code",
      "source": [
        "\"\"\"\n",
        "x in s\n",
        "x not in s\n",
        "s+t\n",
        "s*n或n*s\n",
        "s[i]\n",
        "s[i:j:k]\n",
        "\"\"\""
      ],
      "execution_count": 0,
      "outputs": []
    },
    {
      "metadata": {
        "id": "7bWGqeSthcsV",
        "colab_type": "code",
        "outputId": "6aaaad32-90b9-4a5b-828b-b58f68d22b5b",
        "colab": {
          "base_uri": "https://localhost:8080/",
          "height": 34
        }
      },
      "cell_type": "code",
      "source": [
        "ls=['python',123,'.io']\n",
        "ls[::-1]"
      ],
      "execution_count": 0,
      "outputs": [
        {
          "output_type": "execute_result",
          "data": {
            "text/plain": [
              "['.io', 123, 'python']"
            ]
          },
          "metadata": {
            "tags": []
          },
          "execution_count": 8
        }
      ]
    },
    {
      "metadata": {
        "id": "yea-WD2thsa-",
        "colab_type": "code",
        "outputId": "6a0b1bdf-b88b-4008-8e22-9a03965bddd0",
        "colab": {
          "base_uri": "https://localhost:8080/",
          "height": 34
        }
      },
      "cell_type": "code",
      "source": [
        "s='python123.io'\n",
        "ls[::-1]"
      ],
      "execution_count": 0,
      "outputs": [
        {
          "output_type": "execute_result",
          "data": {
            "text/plain": [
              "['.io', 123, 'python']"
            ]
          },
          "metadata": {
            "tags": []
          },
          "execution_count": 9
        }
      ]
    },
    {
      "metadata": {
        "id": "OThKXI9bh60e",
        "colab_type": "code",
        "outputId": "34d17b2b-c169-4a65-8005-48578ca8153b",
        "colab": {
          "base_uri": "https://localhost:8080/",
          "height": 34
        }
      },
      "cell_type": "code",
      "source": [
        "len(s)"
      ],
      "execution_count": 0,
      "outputs": [
        {
          "output_type": "execute_result",
          "data": {
            "text/plain": [
              "12"
            ]
          },
          "metadata": {
            "tags": []
          },
          "execution_count": 10
        }
      ]
    },
    {
      "metadata": {
        "id": "4liJyU6ZiI30",
        "colab_type": "code",
        "outputId": "7ce35cea-03e3-4b51-9fc8-b13763d0f140",
        "colab": {
          "base_uri": "https://localhost:8080/",
          "height": 34
        }
      },
      "cell_type": "code",
      "source": [
        "min(s)"
      ],
      "execution_count": 0,
      "outputs": [
        {
          "output_type": "execute_result",
          "data": {
            "text/plain": [
              "'.'"
            ]
          },
          "metadata": {
            "tags": []
          },
          "execution_count": 11
        }
      ]
    },
    {
      "metadata": {
        "id": "udNlug66iK5Y",
        "colab_type": "code",
        "outputId": "e068bf2c-c2bf-41c9-bac0-625c535c1fb4",
        "colab": {
          "base_uri": "https://localhost:8080/",
          "height": 34
        }
      },
      "cell_type": "code",
      "source": [
        "max(s)"
      ],
      "execution_count": 0,
      "outputs": [
        {
          "output_type": "execute_result",
          "data": {
            "text/plain": [
              "'y'"
            ]
          },
          "metadata": {
            "tags": []
          },
          "execution_count": 12
        }
      ]
    },
    {
      "metadata": {
        "id": "aXJ8ja13iM80",
        "colab_type": "code",
        "colab": {}
      },
      "cell_type": "code",
      "source": [
        "s.index(2)#返回序列s从i开始到j位置中第一次出现元素x的位置"
      ],
      "execution_count": 0,
      "outputs": []
    },
    {
      "metadata": {
        "id": "R_GOzB_qijtI",
        "colab_type": "code",
        "colab": {}
      },
      "cell_type": "code",
      "source": [
        "s.count(3)# 返回s中出现x的总次数"
      ],
      "execution_count": 0,
      "outputs": []
    },
    {
      "metadata": {
        "id": "0S_mSzxGi0PF",
        "colab_type": "code",
        "colab": {}
      },
      "cell_type": "code",
      "source": [
        "ls=['cat','dog','tiger',1024]\n",
        "lt=ls\n",
        "lt"
      ],
      "execution_count": 0,
      "outputs": []
    },
    {
      "metadata": {
        "id": "SJQhn19YkHyL",
        "colab_type": "code",
        "colab": {}
      },
      "cell_type": "code",
      "source": [
        "\"\"\"\n",
        "ls[i]=x替换列表ls第i元素为x\n",
        "ls[i:j:k]=lt用列表lt替换ls切片后所对应元素子列表\n",
        "del ls[i]删除列表中ls中第i元素\n",
        "del ls[i:j:k]删除列表ls中第i到j以k为步长的元素\n",
        "ls+=lt更新列表ls， 将列表lt元素增加到列表ls中\n",
        "ls*=n更新列表ls，使其元素重复n次\n",
        "\"\"\""
      ],
      "execution_count": 0,
      "outputs": []
    },
    {
      "metadata": {
        "id": "lM0N0CJPlNon",
        "colab_type": "code",
        "colab": {}
      },
      "cell_type": "code",
      "source": [
        "ls=['cat','dog','tiger',1024]\n",
        "ls[1:2]=[1,2,3,4]"
      ],
      "execution_count": 0,
      "outputs": []
    },
    {
      "metadata": {
        "id": "crJ1A-h0lk4f",
        "colab_type": "code",
        "colab": {}
      },
      "cell_type": "code",
      "source": [
        "del ls[::3]"
      ],
      "execution_count": 0,
      "outputs": []
    },
    {
      "metadata": {
        "id": "C1Ewpxfkl8-N",
        "colab_type": "code",
        "outputId": "3834b0f7-2714-4d76-d81a-3cc6ce7c9667",
        "colab": {
          "base_uri": "https://localhost:8080/",
          "height": 34
        }
      },
      "cell_type": "code",
      "source": [
        "ls*2"
      ],
      "execution_count": 0,
      "outputs": [
        {
          "output_type": "execute_result",
          "data": {
            "text/plain": [
              "['python', 123, '.io', 'python', 123, '.io']"
            ]
          },
          "metadata": {
            "tags": []
          },
          "execution_count": 13
        }
      ]
    },
    {
      "metadata": {
        "id": "f_cyB_Mml_4d",
        "colab_type": "code",
        "colab": {}
      },
      "cell_type": "code",
      "source": [
        "\"\"\"增删改查\n",
        "ls.append(x)\n",
        "ls.clear()\n",
        "ls.copy(x)\n",
        "ls.insert(i,x)\n",
        "ls.pop(i)\n",
        "ls.remove(x)\n",
        "ls.reverse(x)\"\"\""
      ],
      "execution_count": 0,
      "outputs": []
    },
    {
      "metadata": {
        "id": "EuciJHtwmXaI",
        "colab_type": "code",
        "colab": {}
      },
      "cell_type": "code",
      "source": [
        "ls=['cat','dog','tiger',1024]\n",
        "ls.append(1234)"
      ],
      "execution_count": 0,
      "outputs": []
    },
    {
      "metadata": {
        "id": "ngehQYaWmc_T",
        "colab_type": "code",
        "colab": {}
      },
      "cell_type": "code",
      "source": [
        "ls.insert(3,'human')"
      ],
      "execution_count": 0,
      "outputs": []
    },
    {
      "metadata": {
        "id": "hBKuqCSgmfxn",
        "colab_type": "code",
        "colab": {}
      },
      "cell_type": "code",
      "source": [
        "ls.reverse()"
      ],
      "execution_count": 0,
      "outputs": []
    },
    {
      "metadata": {
        "id": "uHGT3S_dm4pX",
        "colab_type": "code",
        "colab": {}
      },
      "cell_type": "code",
      "source": [
        "#定义一个空列表lt\n",
        "lt=[]\n",
        "#向lt中新增5个元素\n",
        "lt+=[1,2,3,4,5]\n",
        "#修改第2个元素\n",
        "lt[2]=6\n",
        "#第2个位置增加一个元素\n",
        "lt.insert(2,7)\n",
        "#第1个位置删除一个元素\n",
        "del lt[1]\n",
        "#删除lt中第1-3位置元素\n",
        "del lt[1:4]\n",
        "#判断lt中是否包含数字0\n",
        "0 in lt\n",
        "#向lt新增数字0\n",
        "lt.append(0)\n",
        "#返回数字0所在lt中的索引\n",
        "lt.index(0)\n",
        "#lt的长度\n",
        "len(lt)\n",
        "#lt中最大元素\n",
        "max(lt)\n",
        "#清空lt\n",
        "lt.clear()"
      ],
      "execution_count": 0,
      "outputs": []
    },
    {
      "metadata": {
        "id": "obtMexhwt5c_",
        "colab_type": "text"
      },
      "cell_type": "markdown",
      "source": [
        "##3. 实例9:基本统计值"
      ]
    },
    {
      "metadata": {
        "id": "yiDEGTJYvVPs",
        "colab_type": "text"
      },
      "cell_type": "markdown",
      "source": [
        "总个数:len()\n",
        "\n",
        "求和:for ...in\n",
        "\n",
        "平均值:求和/总个数\n",
        "\n",
        "方差：各数据与平均数差的评分的和的平均数\n",
        "\n",
        "中位数：排序，然后。。。奇数找中间1各，偶数找中间2各取平均"
      ]
    },
    {
      "metadata": {
        "id": "zXx4o8xKo4Zp",
        "colab_type": "code",
        "colab": {}
      },
      "cell_type": "code",
      "source": [
        "def getnum():\n",
        "  nums=[]\n",
        "  inumstr=input('请输入数字（回车退出）：')\n",
        "  while inumstr !='':\n",
        "    nums.append(eval(inumstr))\n",
        "    inumstr=input('请输入数字（回车退出）：')\n",
        "  return nums"
      ],
      "execution_count": 0,
      "outputs": []
    },
    {
      "metadata": {
        "id": "1Rk8fBfZ3HEn",
        "colab_type": "code",
        "outputId": "d2476d96-76e5-4a9a-a3c0-38d897543cde",
        "colab": {
          "base_uri": "https://localhost:8080/",
          "height": 139
        }
      },
      "cell_type": "code",
      "source": [
        "getnum()"
      ],
      "execution_count": 0,
      "outputs": [
        {
          "output_type": "stream",
          "text": [
            "请输入数字（回车退出）：5\n",
            "请输入数字（回车退出）：8\n",
            "请输入数字（回车退出）：67\n",
            "请输入数字（回车退出）：777\n",
            "请输入数字（回车退出）：\n"
          ],
          "name": "stdout"
        },
        {
          "output_type": "execute_result",
          "data": {
            "text/plain": [
              "[5, 8, 67, 777]"
            ]
          },
          "metadata": {
            "tags": []
          },
          "execution_count": 20
        }
      ]
    },
    {
      "metadata": {
        "id": "_utQJzTp3xS_",
        "colab_type": "code",
        "colab": {}
      },
      "cell_type": "code",
      "source": [
        "#计算平均值\n",
        "def mean(numbers):\n",
        "  s=0.0\n",
        "  for num in numbers:\n",
        "    s=s+sum\n",
        "  return s/len(numbers)\n",
        "\n"
      ],
      "execution_count": 0,
      "outputs": []
    },
    {
      "metadata": {
        "id": "di36MVAg4kOB",
        "colab_type": "code",
        "colab": {}
      },
      "cell_type": "code",
      "source": [
        "#计算方差\n",
        "def dev(numbers,mean):\n",
        "  sdev=0.0\n",
        "  for num in numbers:\n",
        "    sdev=sdev+(num-mean)**2\n",
        "  return pow(sdev/(len(numbers)-1),0.5)"
      ],
      "execution_count": 0,
      "outputs": []
    },
    {
      "metadata": {
        "id": "whDKIISF5kg0",
        "colab_type": "code",
        "colab": {}
      },
      "cell_type": "code",
      "source": [
        "#计算中位数\n",
        "def median(numbers):\n",
        "  sorted(numbers)\n",
        "  size=len(numbers)\n",
        "  if size%2==0:\n",
        "    med=(numbers[size//2-1]+numbers[size//2]/2)\n",
        "  else:\n",
        "    med=numbers[size//2]\n",
        "  return med"
      ],
      "execution_count": 0,
      "outputs": []
    },
    {
      "metadata": {
        "id": "sW6zVsjJ5krs",
        "colab_type": "code",
        "colab": {}
      },
      "cell_type": "code",
      "source": [
        "n=getnum()\n",
        "m=mean()\n",
        "print('平均值:{},方差:{:.2},中位数:{}'.format(m,dev(n,m),median(n)))"
      ],
      "execution_count": 0,
      "outputs": []
    },
    {
      "metadata": {
        "id": "ktzcjMgM5kwI",
        "colab_type": "code",
        "colab": {}
      },
      "cell_type": "code",
      "source": [
        ""
      ],
      "execution_count": 0,
      "outputs": []
    },
    {
      "metadata": {
        "id": "aCHMfwbk9yF2",
        "colab_type": "text"
      },
      "cell_type": "markdown",
      "source": [
        "##4.字典"
      ]
    },
    {
      "metadata": {
        "id": "2aQwzT3U90cb",
        "colab_type": "code",
        "outputId": "942e8b7e-7e57-4fac-b9b8-63aec18acefb",
        "colab": {
          "base_uri": "https://localhost:8080/",
          "height": 34
        }
      },
      "cell_type": "code",
      "source": [
        "d={'中国':'北京','美国':'华盛顿','法国':'巴黎'}\n",
        "d['中国']"
      ],
      "execution_count": 0,
      "outputs": [
        {
          "output_type": "execute_result",
          "data": {
            "text/plain": [
              "'北京'"
            ]
          },
          "metadata": {
            "tags": []
          },
          "execution_count": 26
        }
      ]
    },
    {
      "metadata": {
        "id": "5CykDJRd_cf1",
        "colab_type": "code",
        "outputId": "6269dfb0-9d29-4a5a-b857-f3ad71ec263d",
        "colab": {
          "base_uri": "https://localhost:8080/",
          "height": 34
        }
      },
      "cell_type": "code",
      "source": [
        "'中国' in d"
      ],
      "execution_count": 0,
      "outputs": [
        {
          "output_type": "execute_result",
          "data": {
            "text/plain": [
              "True"
            ]
          },
          "metadata": {
            "tags": []
          },
          "execution_count": 27
        }
      ]
    },
    {
      "metadata": {
        "id": "eQTsW2vYAHBU",
        "colab_type": "code",
        "outputId": "88019b2e-c66f-49eb-e6c6-cbbcd3465f10",
        "colab": {
          "base_uri": "https://localhost:8080/",
          "height": 34
        }
      },
      "cell_type": "code",
      "source": [
        "d.keys()"
      ],
      "execution_count": 0,
      "outputs": [
        {
          "output_type": "execute_result",
          "data": {
            "text/plain": [
              "dict_keys(['中国', '美国', '法国'])"
            ]
          },
          "metadata": {
            "tags": []
          },
          "execution_count": 28
        }
      ]
    },
    {
      "metadata": {
        "id": "YsuUIQ1qAItj",
        "colab_type": "code",
        "outputId": "98889372-0636-4728-a3e5-0feedd1e35e3",
        "colab": {
          "base_uri": "https://localhost:8080/",
          "height": 34
        }
      },
      "cell_type": "code",
      "source": [
        "d.values()"
      ],
      "execution_count": 0,
      "outputs": [
        {
          "output_type": "execute_result",
          "data": {
            "text/plain": [
              "dict_values(['北京', '华盛顿', '巴黎'])"
            ]
          },
          "metadata": {
            "tags": []
          },
          "execution_count": 29
        }
      ]
    },
    {
      "metadata": {
        "id": "_9F_EaOkAKSx",
        "colab_type": "code",
        "outputId": "24c67c1f-85b0-45b9-fd15-7aec9f176c22",
        "colab": {
          "base_uri": "https://localhost:8080/",
          "height": 34
        }
      },
      "cell_type": "code",
      "source": [
        "d.get('中国','伊斯兰堡')"
      ],
      "execution_count": 0,
      "outputs": [
        {
          "output_type": "execute_result",
          "data": {
            "text/plain": [
              "'北京'"
            ]
          },
          "metadata": {
            "tags": []
          },
          "execution_count": 30
        }
      ]
    },
    {
      "metadata": {
        "id": "MAa6lblQARII",
        "colab_type": "code",
        "outputId": "d3af2c18-0ad1-4f7e-b2d0-66ed372e68b3",
        "colab": {
          "base_uri": "https://localhost:8080/",
          "height": 34
        }
      },
      "cell_type": "code",
      "source": [
        "d.pop('中国')\n",
        "d"
      ],
      "execution_count": 0,
      "outputs": [
        {
          "output_type": "execute_result",
          "data": {
            "text/plain": [
              "{'法国': '巴黎', '美国': '华盛顿'}"
            ]
          },
          "metadata": {
            "tags": []
          },
          "execution_count": 31
        }
      ]
    },
    {
      "metadata": {
        "id": "3A0a0pOOAWKC",
        "colab_type": "code",
        "outputId": "b5dd830e-f9c2-4328-ecd1-9181bdde7be2",
        "colab": {
          "base_uri": "https://localhost:8080/",
          "height": 34
        }
      },
      "cell_type": "code",
      "source": [
        "d.popitem()"
      ],
      "execution_count": 0,
      "outputs": [
        {
          "output_type": "execute_result",
          "data": {
            "text/plain": [
              "('法国', '巴黎')"
            ]
          },
          "metadata": {
            "tags": []
          },
          "execution_count": 32
        }
      ]
    },
    {
      "metadata": {
        "id": "71559xO-AYkO",
        "colab_type": "code",
        "colab": {}
      },
      "cell_type": "code",
      "source": [
        "d.clear()\n"
      ],
      "execution_count": 0,
      "outputs": []
    },
    {
      "metadata": {
        "id": "xsl7VKNaAa0Z",
        "colab_type": "code",
        "outputId": "8b8ea538-2d83-427c-dc3d-bdce5786f3f0",
        "colab": {
          "base_uri": "https://localhost:8080/",
          "height": 34
        }
      },
      "cell_type": "code",
      "source": [
        "len(d)"
      ],
      "execution_count": 0,
      "outputs": [
        {
          "output_type": "execute_result",
          "data": {
            "text/plain": [
              "0"
            ]
          },
          "metadata": {
            "tags": []
          },
          "execution_count": 34
        }
      ]
    },
    {
      "metadata": {
        "id": "o8lvZorsAr0x",
        "colab_type": "code",
        "colab": {}
      },
      "cell_type": "code",
      "source": [
        "#定义空字典d\n",
        "d={}\n",
        "#向d新增2各键值对元素\n",
        "d['a']=1\n",
        "d['b']=2\n",
        "#修改第2各元素\n",
        "d['b']=3\n",
        "#判断字符'c'是否是d的键\n",
        "'c'in d\n",
        "#计算d的长度\n",
        "len(d)\n",
        "#清空d\n",
        "d.clear()"
      ],
      "execution_count": 0,
      "outputs": []
    },
    {
      "metadata": {
        "id": "7G-SiXNbC-QJ",
        "colab_type": "text"
      },
      "cell_type": "markdown",
      "source": [
        "##5.模块5:jieba库"
      ]
    },
    {
      "metadata": {
        "id": "UcTivr4cBea0",
        "colab_type": "code",
        "outputId": "b3393af7-e596-48b1-e820-7766e6fa7e09",
        "colab": {
          "base_uri": "https://localhost:8080/",
          "height": 102
        }
      },
      "cell_type": "code",
      "source": [
        "import jieba\n",
        "jieba.lcut('中国是一个伟大的国家')"
      ],
      "execution_count": 0,
      "outputs": [
        {
          "output_type": "stream",
          "text": [
            "Building prefix dict from the default dictionary ...\n",
            "Dumping model to file cache /tmp/jieba.cache\n",
            "Loading model cost 1.039 seconds.\n",
            "Prefix dict has been built succesfully.\n"
          ],
          "name": "stderr"
        },
        {
          "output_type": "execute_result",
          "data": {
            "text/plain": [
              "['中国', '是', '一个', '伟大', '的', '国家']"
            ]
          },
          "metadata": {
            "tags": []
          },
          "execution_count": 24
        }
      ]
    },
    {
      "metadata": {
        "id": "tRZHHHe-DBKx",
        "colab_type": "code",
        "outputId": "cb6af568-f4d3-493c-a4bc-bff7a0427669",
        "colab": {
          "base_uri": "https://localhost:8080/",
          "height": 34
        }
      },
      "cell_type": "code",
      "source": [
        "jieba.lcut('中国是一个伟大的国家',cut_all=True)"
      ],
      "execution_count": 0,
      "outputs": [
        {
          "output_type": "execute_result",
          "data": {
            "text/plain": [
              "['中国', '国是', '一个', '伟大', '的', '国家']"
            ]
          },
          "metadata": {
            "tags": []
          },
          "execution_count": 25
        }
      ]
    },
    {
      "metadata": {
        "id": "KywqBQrUDxbB",
        "colab_type": "code",
        "outputId": "f8d16f35-fed1-4373-af7b-3ebcec57b674",
        "colab": {
          "base_uri": "https://localhost:8080/",
          "height": 34
        }
      },
      "cell_type": "code",
      "source": [
        "jieba.lcut_for_search('中华人民共和国是伟大的')#搜索引擎模式"
      ],
      "execution_count": 0,
      "outputs": [
        {
          "output_type": "execute_result",
          "data": {
            "text/plain": [
              "['中华', '华人', '人民', '共和', '共和国', '中华人民共和国', '是', '伟大', '的']"
            ]
          },
          "metadata": {
            "tags": []
          },
          "execution_count": 36
        }
      ]
    },
    {
      "metadata": {
        "id": "KgywAP4yFYtk",
        "colab_type": "text"
      },
      "cell_type": "markdown",
      "source": [
        "##6.实例10:文本词频统计"
      ]
    },
    {
      "metadata": {
        "id": "wiL7qQ7SEtbf",
        "colab_type": "code",
        "colab": {}
      },
      "cell_type": "code",
      "source": [
        "#英文\n",
        "def getText():\n",
        "  txt=open('.txt','r').read()\n",
        "  txt=txt.lower()\n",
        "  for ch in '!@#$%^&*(),./;[]-=\\<>?:\"{}|_+`~\"':\n",
        "      txt=txt.replace(ch,'')\n",
        "  return txt\n",
        "hamletTxt=getText()\n",
        "words=hamletTxt.split()\n",
        "counts={}\n",
        "for word in words:\n",
        "  counts[word]=counts.get(word,0)+1\n",
        "items=list(counts.items())\n",
        "items.sort(key=lambda x:x[1],reverse=True)\n",
        "for i in range(10):\n",
        "  word,count=items[i]\n",
        "  print('{0:<10}{1:>5}'.format(word,count))"
      ],
      "execution_count": 0,
      "outputs": []
    },
    {
      "metadata": {
        "id": "A_VEnHtOJLnC",
        "colab_type": "code",
        "colab": {}
      },
      "cell_type": "code",
      "source": [
        "#中文\n",
        "import jieba\n",
        "txt=open('threekingdoms.txt','r',encoding='utf-8').read()\n",
        "excludes={'将军','却说','荆州','二人','不可','不能','如此'}\n",
        "words=jieba.lcut(txt)\n",
        "counts={}\n",
        "for word in words:\n",
        "  if len(word)==1:\n",
        "    continue\n",
        "  elif word=='诸葛亮' or word =='孔明曰':\n",
        "    rword='孔明'\n",
        "  elif word=='关公'or word=='云长':\n",
        "    rword='关羽'\n",
        "  elif word=='玄德'or word=='玄德曰':\n",
        "    rword=\"刘备\"\n",
        "  elif word=='孟德'or word=='丞相':\n",
        "    rword='曹操'\n",
        "  else:\n",
        "    rword=word\n",
        "    counts[word]=counts.get(word,0)+1\n",
        "  for word in excludes:\n",
        "    del counts[word]\n",
        "  items=list(counts.items())\n",
        "  items.sort(key=lambda x:x[1],reverse=True)\n",
        "  for i in range(15):\n",
        "    word,count=items[i]\n",
        "    print('{0:<10}{1:>5}'.format(word,count))"
      ],
      "execution_count": 0,
      "outputs": []
    }
  ]
}