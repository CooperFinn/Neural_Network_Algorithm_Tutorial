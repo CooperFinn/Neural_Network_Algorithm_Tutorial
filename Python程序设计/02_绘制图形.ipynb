{
  "nbformat": 4,
  "nbformat_minor": 0,
  "metadata": {
    "colab": {
      "name": "02_绘制图形.ipynb",
      "version": "0.3.2",
      "provenance": [],
      "collapsed_sections": [],
      "include_colab_link": true
    },
    "kernelspec": {
      "name": "python3",
      "display_name": "Python 3"
    }
  },
  "cells": [
    {
      "cell_type": "markdown",
      "metadata": {
        "id": "view-in-github",
        "colab_type": "text"
      },
      "source": [
        "<a href=\"https://colab.research.google.com/github/CooperFinn/Python-Tutorial/blob/master/Python%E7%A8%8B%E5%BA%8F%E8%AE%BE%E8%AE%A1/02_%E7%BB%98%E5%88%B6%E5%9B%BE%E5%BD%A2.ipynb\" target=\"_parent\"><img src=\"https://colab.research.google.com/assets/colab-badge.svg\" alt=\"Open In Colab\"/></a>"
      ]
    },
    {
      "metadata": {
        "id": "RWkVyLsFRRf5",
        "colab_type": "text"
      },
      "cell_type": "markdown",
      "source": [
        "<h1 align=center><font size = 5>绘制图形</font></h1>"
      ]
    },
    {
      "metadata": {
        "id": "9Ms-RxrzSGfK",
        "colab_type": "text"
      },
      "cell_type": "markdown",
      "source": [
        "## 目录\n",
        "\n",
        "<div class=\"alert alert-block alert-info\" style=\"margin-top: 20px\">\n",
        "\n",
        "1. [人工智能时代](#2)<br>\n",
        "2. [实例2:绘制蟒蛇](#6) <br>\n",
        "3. [模块1:turtle库](#8) <br>\n",
        "4. [turtle语法](#10) <br>\n",
        "</div>\n",
        "<hr>"
      ]
    },
    {
      "metadata": {
        "id": "OwX3peEYSoUz",
        "colab_type": "text"
      },
      "cell_type": "markdown",
      "source": [
        "##1.人工智能时代"
      ]
    },
    {
      "metadata": {
        "id": "A26NkjeCSsu6",
        "colab_type": "text"
      },
      "cell_type": "markdown",
      "source": [
        "编程语言：Basic,C,C++,C#,CSS,Fortran,Go,HTML,Java,Javascript,Lisp,Lua,Matlab,Object C, Pascal,Perl,PHP,PostScript,Python,Ruby,Scala,SQL,Swift,VBA,VB.NET,Verilog,VHDL,Visual Basic"
      ]
    },
    {
      "metadata": {
        "id": "I8ro3YlnVkrC",
        "colab_type": "text"
      },
      "cell_type": "markdown",
      "source": [
        "机器语言：\n",
        "\n",
        "汇编语言：\n",
        "\n",
        "高级语言：\n",
        "\n",
        "超级语言："
      ]
    },
    {
      "metadata": {
        "id": "x8jsPaSnWihy",
        "colab_type": "text"
      },
      "cell_type": "markdown",
      "source": [
        "##2.实例2:绘制蟒蛇"
      ]
    },
    {
      "metadata": {
        "id": "306akzvERQ1U",
        "colab_type": "code",
        "colab": {}
      },
      "cell_type": "code",
      "source": [
        "# 实例5:绘制蟒蛇\n",
        "\n",
        "import turtle as t\n",
        "t.setup(650,350,200,200)\n",
        "t.penup()\n",
        "t.fd(-250)\n",
        "t.pendown()\n",
        "t.pensize(25)\n",
        "t.pencolor('purple')\n",
        "t.seth(-40)\n",
        "for i in range(4):\n",
        "  t.circle(40,80)\n",
        "  t.circle(-40,80)\n",
        "t.circle(40,80/2)\n",
        "t.fd(40)\n",
        "t.circle(16,180)\n",
        "t.fd(40*2/3)\n",
        "t.done()"
      ],
      "execution_count": 0,
      "outputs": []
    },
    {
      "metadata": {
        "id": "ijknC9pLXk18",
        "colab_type": "text"
      },
      "cell_type": "markdown",
      "source": [
        "##3.模块1:turtle库"
      ]
    },
    {
      "metadata": {
        "id": "CYOH40mPhNRE",
        "colab_type": "code",
        "colab": {}
      },
      "cell_type": "code",
      "source": [
        "inline turtle\n",
        "#实例6:绘制Z形\n",
        "import turtle as t\n",
        "t.left(45)\n",
        "t.fd(150)\n",
        "t.right(135)\n",
        "t.fd(300)\n",
        "t.left(135)\n",
        "t.fd(150)"
      ],
      "execution_count": 0,
      "outputs": []
    },
    {
      "metadata": {
        "id": "ikruo3ngkEYt",
        "colab_type": "text"
      },
      "cell_type": "markdown",
      "source": [
        "##4.turtle语法"
      ]
    },
    {
      "metadata": {
        "id": "qGD4whDxkG1y",
        "colab_type": "code",
        "colab": {}
      },
      "cell_type": "code",
      "source": [
        "# 导入turtle库\n",
        "import turtle as t\n",
        "# 设置窗体的大小及位置\n",
        "t.setup(650,350,200,200)# setup(宽度width,高度height,X起始点startx,Y起始点starty)\n",
        "#运动控制函数\n",
        "t.fd(d)#海龟向前走直线，距离为d像素\n",
        "t.goto(x,y)#到坐标（x,y）\n",
        "t.circle(r,extent=None)#根据半径r绘制extent角度的弧形\n",
        "#方向控制函数\n",
        "t.seth(angle)#改变方向，走绝对角度\n",
        "t.left(angle)#海龟向左转，走相对角度\n",
        "t.right(angle)#海龟向右转，走相对角度\n",
        "#循环语句与range()函数\n",
        "for i in range(4):\n",
        "  t.circle(40,80)\n",
        "  t.circle(-40,80)\n",
        "#画笔函数\n",
        "t.penup()#抬起画笔\n",
        "t.pendown()#落下画笔\n",
        "t.pensize(25)#画笔大小\n",
        "t.pencolor('purple')# purple：紫色 RGB整数值：160，32，240 RGB小数值：0.63,0.13,0.94 \n",
        "#完成函数\n",
        "t.done()"
      ],
      "execution_count": 0,
      "outputs": []
    }
  ]
}