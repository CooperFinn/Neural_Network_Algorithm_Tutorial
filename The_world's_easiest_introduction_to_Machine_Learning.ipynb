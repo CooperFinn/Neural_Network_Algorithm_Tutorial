{
  "nbformat": 4,
  "nbformat_minor": 0,
  "metadata": {
    "colab": {
      "name": "The world's easiest introduction to Machine Learning.ipynb",
      "version": "0.3.2",
      "provenance": [],
      "collapsed_sections": [],
      "include_colab_link": true
    },
    "kernelspec": {
      "name": "python3",
      "display_name": "Python 3"
    }
  },
  "cells": [
    {
      "cell_type": "markdown",
      "metadata": {
        "id": "view-in-github",
        "colab_type": "text"
      },
      "source": [
        "<a href=\"https://colab.research.google.com/github/CooperFinn/Neural_Network_Algorithm_Tutorial/blob/master/The_world's_easiest_introduction_to_Machine_Learning.ipynb\" target=\"_parent\"><img src=\"https://colab.research.google.com/assets/colab-badge.svg\" alt=\"Open In Colab\"/></a>"
      ]
    },
    {
      "metadata": {
        "id": "RIt4bamjQec9",
        "colab_type": "text"
      },
      "cell_type": "markdown",
      "source": [
        "#The world's easiest introduction to Machine Learning"
      ]
    },
    {
      "metadata": {
        "id": "bmQKZEC_8NeH",
        "colab_type": "text"
      },
      "cell_type": "markdown",
      "source": [
        "Have you heard people talking about machine learning but only have a fuzzy idea of what that means? Are you tired of nodding your way through conversations with coworkers? Let's change that!\n",
        "\n",
        "This guide is for anyone who is curious about machine learning but has no idea where to start. I imagine there are a lot of people who tried reading the wikipedia article, got frustrated and gave up wishing someone just give them a high-level explanation. That's what this is.\n",
        "\n",
        "The goal is be accessible to anyone-which means that there's a lot of generalizations. But who cares? If this gets anyone interested in machine learning, then mission accomplished."
      ]
    },
    {
      "metadata": {
        "id": "XuGy-e7W_TuW",
        "colab_type": "text"
      },
      "cell_type": "markdown",
      "source": [
        "##what is machine learning?"
      ]
    },
    {
      "metadata": {
        "id": "8g-KiWMq_kNp",
        "colab_type": "text"
      },
      "cell_type": "markdown",
      "source": [
        "Machine Learning is the idea that there are generic algorithms that can tell you something interesting about a set of data without you having to write any custom code specific to the problem. Instead of writing code , you feed data to the generic algorithm and it builds its own logic based on the data.\n",
        "\n",
        "For example, one kind of algorithm is a classification algorithm. It can put data into different groups. The same classification algorithm used to recongnize handwritten numbers could also be used to classify email into spam and not-spam without changing a line of code.\n",
        "\n",
        "It's the same algorithm but it's fed different training data so it comes up with different classification logic.\n",
        "\n",
        "\"Machine Learning \" is an umbrella term covering lots of these kinds of generic algorithms."
      ]
    },
    {
      "metadata": {
        "id": "S1YeO6eIzm-x",
        "colab_type": "text"
      },
      "cell_type": "markdown",
      "source": [
        "<img src = \"https://cdn-images-1.medium.com/max/800/1*YXiclXZdJQVJZ0tQHCv5zw.png\" align=\"center\" width=500>"
      ]
    },
    {
      "metadata": {
        "id": "6gZfMYFhDMFD",
        "colab_type": "text"
      },
      "cell_type": "markdown",
      "source": [
        "##Two kinds of machine learning algorithms"
      ]
    },
    {
      "metadata": {
        "id": "iiYB7RU5DQ0j",
        "colab_type": "text"
      },
      "cell_type": "markdown",
      "source": [
        "You can think of machine learning algorithms as falling into one of two main categories-supervised learning and unsupervised learning. The different is simple, but really important."
      ]
    },
    {
      "metadata": {
        "id": "18BVwgRVDu9Z",
        "colab_type": "text"
      },
      "cell_type": "markdown",
      "source": [
        "##Supervised Learning"
      ]
    },
    {
      "metadata": {
        "id": "BlXPa7PUcZZj",
        "colab_type": "text"
      },
      "cell_type": "markdown",
      "source": [
        "Let's say you are a real estate agent. Your business is growing, so you hire a bunch of new trainee agents to help out. But there is a problem-you can glance at a house and a pretty good idea of what a house is worth, but your trainee don't have your experience so they don't know how to price their houses.\n",
        "\n",
        "To help your trainees, you decide to write a little app that can estimate the value of a house in your area based on it's size, neighborhood, etc, and what similar house have sold for.\n",
        "\n",
        "So you write down everytime someone sells a house in your city for 3 months. For each house, you write down a bunch of detail-number of bedrooms, size in square feet, neighborhood, etc. But most importantly, you write down the final sale price:\n",
        "\n"
      ]
    },
    {
      "metadata": {
        "id": "PkfYiS-42jlN",
        "colab_type": "text"
      },
      "cell_type": "markdown",
      "source": [
        "<img src = \"https://cdn-images-1.medium.com/max/800/1*ZWYX9nwsDFaNOW4jOrHDkQ.png\" align=\"center\" width=500>"
      ]
    },
    {
      "metadata": {
        "id": "mgUPrwv1kY05",
        "colab_type": "text"
      },
      "cell_type": "markdown",
      "source": [
        "Using that training data, we want create a program that can estimate how much any other house in your area is worth:"
      ]
    },
    {
      "metadata": {
        "id": "Gdks2CGw2rBB",
        "colab_type": "text"
      },
      "cell_type": "markdown",
      "source": [
        "<img src = \"https://cdn-images-1.medium.com/max/800/1*V0OXzLOPtpU13MVVrlZJjA.png\" align=\"center\" width=500>"
      ]
    },
    {
      "metadata": {
        "id": "OqafadQoksJz",
        "colab_type": "text"
      },
      "cell_type": "markdown",
      "source": [
        "This is called supervised learning. You knew how much each house sold for, so in other words, you knew the answer to the problem and could work backwards from there to figure out the logic.\n",
        "\n",
        "To build your app, you feed your training data about each house into your machine learning algorithm. The algorithm is trying to figure out what kind of math needs to be done to make the numbers work out.\n",
        "\n",
        "This kind of like having the answer key to a math test with all the arithmetic symbols erased:"
      ]
    },
    {
      "metadata": {
        "id": "QpQePyXk2vgB",
        "colab_type": "text"
      },
      "cell_type": "markdown",
      "source": [
        "<img src = \"https://cdn-images-1.medium.com/max/800/1*SihYXaJQS3T6tOwqJ6fzPw.png\" align=\"center\" width=500>"
      ]
    },
    {
      "metadata": {
        "id": "-JB2SRpQmqag",
        "colab_type": "text"
      },
      "cell_type": "markdown",
      "source": [
        "From this, can you figure out what kind of math problem were on the test? you know you are supposed to \"do something\" with the number on the left to get each answer on the right.\n",
        "\n",
        "In supervised learning, you are letting the computer work out that relationship for you. And once you know what math was required to solve this specific set of problems, you could answer to any ohter problems of the same type!"
      ]
    },
    {
      "metadata": {
        "id": "7A84LDiiJh8Y",
        "colab_type": "text"
      },
      "cell_type": "markdown",
      "source": [
        "##Unsupervised Learning"
      ]
    },
    {
      "metadata": {
        "id": "2PwGa28do2On",
        "colab_type": "text"
      },
      "cell_type": "markdown",
      "source": [
        "Let's go back to our original example with the real estate agent. What if you didn't know the sale price of each house? Even if all you konw is the size, location, etc of each house, it turns out you can still do some really cool stuff. This is called unsupervised lerarning."
      ]
    },
    {
      "metadata": {
        "id": "w1XZZVlc24rC",
        "colab_type": "text"
      },
      "cell_type": "markdown",
      "source": [
        "<img src = \"https://cdn-images-1.medium.com/max/800/1*mUJw2yL4-OBI25xUKS7_Bg.png\" align=\"center\" width=500>"
      ]
    },
    {
      "metadata": {
        "id": "vvZuUIgLpcW3",
        "colab_type": "text"
      },
      "cell_type": "markdown",
      "source": [
        "This kind of like someone giving you a list of numbers on a sheet of paper and saying \"I don't really know what these numbers mean but maybe you can figure out if there is a pattern or grouping or something-good luck!\"\n",
        "\n",
        "So what could do with this data? For starters, you could have an algorithm that automatically identified different market segments in your data. Maybe you'd find out that home buyers in the neighborhood near the local college really like small house with lots of bedrooms, but home buyers in the suburbs prefer 3-bedroom hourse with lots of square footage. Knowing about these different kinds of customers could help direct your marketing efforts.\n",
        "\n",
        "Another cool thing you could do is automatically identify any outlier houses that were way different than everything else. Maybe those outlier houses are giant mansions and you can focus your best sales people on those areas because they have bigger commissions.\n",
        "\n",
        "Supervised learning is what we'll focus on for the rest of this post, but that's not because unsupervised learning is any less useful or interesting. In fact, unspervised learning is becoming increasingly important as the algorithms get better because it can be used without having to label the data with the correct answer."
      ]
    },
    {
      "metadata": {
        "id": "QqDuOdKUvB3w",
        "colab_type": "text"
      },
      "cell_type": "markdown",
      "source": [
        "##That's cool, but does being able to estimate the price of house really count as \"learning\"?\n",
        "\n"
      ]
    },
    {
      "metadata": {
        "id": "wo2SSZHsvnFw",
        "colab_type": "text"
      },
      "cell_type": "markdown",
      "source": [
        "As a human, your brain can approach most any situation and learn how to deal with that situation without any explicit instructions. If you sell houses for a long time, you will instinctively have a \"fell\" for the right price for a house, the best way to market that house, the kind of client who would be interested , etc. The goal of Strong AI research is to be able to replicate this ability with computers.\n",
        "\n",
        "But current machine learning algorithms aren't that good yet-they only work when focused a very specific,limited problem. Maybe a better definition for \"learning\" in this case is \"figuring out an equation to solve a specific problem based on some example data\".\n",
        "\n",
        "Unfortuantely \"Machine Figuring out an equation to solve a specific problem based on some example data\" isn't really a great name. So we ended up with \"Machine Learning\" instead.\n",
        "\n",
        "Of course if you are reading this 50 years in the future and we've figured out the algorithm for Strong AI, then this whole post will all seem a little quaint. Maybe stop reading and go tell your robot servant to go make you a sandwich, future human. "
      ]
    },
    {
      "metadata": {
        "id": "vEadMMio4rXy",
        "colab_type": "text"
      },
      "cell_type": "markdown",
      "source": [
        "## Let's write that program!"
      ]
    },
    {
      "metadata": {
        "id": "kdbWBsos4rcm",
        "colab_type": "text"
      },
      "cell_type": "markdown",
      "source": [
        "So, how would you write the program to estimate the value of a house like in our example above? Think about it for a second before you read further. \n",
        "\n",
        "If you didn't know anything about machine learning, you'd probably try to write out some basic rules for estimating the price of a house like this:"
      ]
    },
    {
      "metadata": {
        "id": "JaT4X9RY7iOX",
        "colab_type": "code",
        "colab": {}
      },
      "cell_type": "code",
      "source": [
        "def estimate_house_sales_price(num_of_bedrooms,sqft,neighborhood):\n",
        "  price=0\n",
        "  \n",
        "  # in my area, the average house costs $200 per sqft\n",
        "  price_per_sqft=200\n",
        "  \n",
        "  if neighborhood=='hipsterton':\n",
        "    # but some areas cost a bit more\n",
        "    price_per_sqft=400\n",
        "    \n",
        "  elif neighborhood=='skid row':\n",
        "    price_per_sqft=100\n",
        "    \n",
        "  # start with a base price estimate based on how big the place is\n",
        "  price=price_per_sqft*sqft\n",
        "  \n",
        "  # now adjust our estimate based on the number of bedrooms\n",
        "  if num_of_bedrooms==0:\n",
        "    # studio apartments are cheap\n",
        "    price=price-2000\n",
        "  else:\n",
        "    # places with more bedrooms are usually more valuable\n",
        "    price=price+(num_of_bedrooms*1000)\n",
        "    \n",
        "\n",
        "  return price"
      ],
      "execution_count": 0,
      "outputs": []
    },
    {
      "metadata": {
        "id": "fHuAhjoQ4rgQ",
        "colab_type": "text"
      },
      "cell_type": "markdown",
      "source": [
        "If you fiddle with this for hours and hours, you might end up with something that sort of works. But your program will never be perfect and it will hard to maintain as prices change.\n",
        "\n",
        "Wouldn't be better if the computer could just figure out how to implement this function for you? Who cares what exactly the function does as long is it returns the correct number:"
      ]
    },
    {
      "metadata": {
        "id": "l0IZaQU_CF4c",
        "colab_type": "code",
        "colab": {}
      },
      "cell_type": "code",
      "source": [
        "def estimate_house_sales_price(num_of_bedrooms,sqft,neighborhood):\n",
        "  price=<computer,plz do some math for me>\n",
        "  \n",
        "  return price"
      ],
      "execution_count": 0,
      "outputs": []
    },
    {
      "metadata": {
        "id": "p7UmecUT0ijF",
        "colab_type": "text"
      },
      "cell_type": "markdown",
      "source": [
        "One way to think about this problem is that the price is a delicious stew and the ingredients are the number of bedrooms , the square footage and the neighborhood. If you could just figure out how much each ingredient impacts the final price, maybe there's an exact ratio of ingredients to stir in to make the final price.\n",
        "\n",
        "That would reduce your original function(with all those crazy if and else)down to something really simple like this:"
      ]
    },
    {
      "metadata": {
        "id": "a1S7PMBTDjD7",
        "colab_type": "code",
        "colab": {}
      },
      "cell_type": "code",
      "source": [
        "def estimate_house_sales_price(num_of_bedrooms,sqft,neighborhood):\n",
        "  price=0\n",
        "  \n",
        "  # a little pinch of this\n",
        "  price +=num_of_bedrooms * .24356578\n",
        "  \n",
        "  # and a big pinch of that\n",
        "  price += sqft * 2.243546\n",
        "  \n",
        "  # maybe a handful of this\n",
        "  price += neighborhood*2.4356\n",
        "  \n",
        "  # and finally, just a little extra salt for good measure\n",
        "  price +=201.2536\n",
        "  \n",
        "  return price"
      ],
      "execution_count": 0,
      "outputs": []
    },
    {
      "metadata": {
        "id": "tfsN8uj20ipA",
        "colab_type": "text"
      },
      "cell_type": "markdown",
      "source": [
        "Notice the magic numbers in bold. These are our weights. If we could just figure out perfect weights to use that work for every house, our function could predict house prices.\n",
        "\n",
        "A dumb way to figure out the best weights would be something like this:"
      ]
    },
    {
      "metadata": {
        "id": "25oCZt8ZE8Xk",
        "colab_type": "text"
      },
      "cell_type": "markdown",
      "source": [
        "##Step 1:"
      ]
    },
    {
      "metadata": {
        "id": "KUciL3nqE-en",
        "colab_type": "text"
      },
      "cell_type": "markdown",
      "source": [
        "Start with each weight set to 1.0:"
      ]
    },
    {
      "metadata": {
        "id": "OoAC3d1nFN5N",
        "colab_type": "code",
        "colab": {}
      },
      "cell_type": "code",
      "source": [
        "def estimate_house_sales_price(num_of_bedrooms,sqft,neighborhood):\n",
        "  price=0\n",
        "  \n",
        "  price += num_of_bedrooms*1.0\n",
        "  price +=sqft*1.0\n",
        "  price +=neighborhood*1.0\n",
        "  price +=1.0\n",
        "  \n",
        "  return price"
      ],
      "execution_count": 0,
      "outputs": []
    },
    {
      "metadata": {
        "id": "yPdlwfcW0itW",
        "colab_type": "text"
      },
      "cell_type": "markdown",
      "source": [
        "## Step 2:"
      ]
    },
    {
      "metadata": {
        "id": "N2aD0b25Hmwx",
        "colab_type": "text"
      },
      "cell_type": "markdown",
      "source": [
        "Run every house you konw about through your function and see how far off the function is at guessing the correct price for each house:"
      ]
    },
    {
      "metadata": {
        "id": "V0O03DJg3BZA",
        "colab_type": "text"
      },
      "cell_type": "markdown",
      "source": [
        "<img src = \"https://cdn-images-1.medium.com/max/800/1*Dih1jJrDpqF0NJsWkA1qgw.png\" align=\"center\" width=500>"
      ]
    },
    {
      "metadata": {
        "id": "eX3SzmG5H3Dy",
        "colab_type": "text"
      },
      "cell_type": "markdown",
      "source": [
        "For example, if the first house really sold for \\$250,000, but your function guessed it sold for \\$178,000, you are off by \\$72,000 for that single house.\n",
        "\n",
        "Now add up the squared amount you are off for each house you have in your dataset. Let's say that you had 500 home sales in your data set and the square of how much your function was off for each house was a grand total of $86,123,373.That's how \"wrong\" your function currently is.\n",
        "\n",
        "Now, take that sum total and divide it by 500 to get an average of how far off you are for each house. Call this average error amount the cost of your function.\n",
        "\n",
        "If you could get this cost to be zero by playing with the weights, your function would be perfect. It would mean that in every case, your function perfectly guessed the price of the house based on the input data. So that's our goal-get this cost to be as low as possible by trying different weights.\n",
        "\n"
      ]
    },
    {
      "metadata": {
        "id": "I7p_RXToKLcB",
        "colab_type": "text"
      },
      "cell_type": "markdown",
      "source": [
        "##Step 3:"
      ]
    },
    {
      "metadata": {
        "id": "t2lo2T89KNfz",
        "colab_type": "text"
      },
      "cell_type": "markdown",
      "source": [
        "Repeat Step 2 over and over with every single possible combination of weights. Whichever combination of weights makes the cost closest to zero is what you use. When you find the weights that work, you've solved the problem!"
      ]
    },
    {
      "metadata": {
        "id": "77YKJwNgKr1p",
        "colab_type": "text"
      },
      "cell_type": "markdown",
      "source": [
        "##Mind Blowage Time"
      ]
    },
    {
      "metadata": {
        "id": "GE09nJFuKu9r",
        "colab_type": "text"
      },
      "cell_type": "markdown",
      "source": [
        "That's pretty simple,right? Well think about waht you just did. You took some data, you fed it through three generic,really simple steps, and you ended up with a function that can guess the price of any house in your area. Watch out, Zillow!\n",
        "\n",
        "But here's a few more facts that will blow your mind:\n",
        "\n",
        "1. Research in many field(like linguistics/translation)over the last 40 years has shown that these generic learning algorithms that \"stir the number stew\"(a phrase I just made up) out-perform approaches where real people try to come up with explicit rules themselves. The \"dumb\" approach of machine learning eventually beats human experts.\n",
        "\n",
        "2.The function you ended up with is totally dumb. It doesn't even know what \"square feet\" or'bedrooms' are. All it knows is that it needs to stir in some amount of those numbers to get the correct answer.\n",
        "\n",
        "3.It's very likely you'll have no idea why a prticular set of weights will work. So you've just written a function that you dont really understand but that you can prove will work.\n",
        "\n",
        "4.Imagine that instead of taking in parameters like 'sqft' and 'num_of_bedrooms', your prediction function took in an array of numbers. Let's say each number represented the brightness of one pixel in an image captured by camera mounted on top of your car. Now let's say that instead of outputing a prediction called \"price\", the function outputted a prediction called \"degreees_to_trun_steering_wheel\". You've just made a function that can steer your car by itself!\n",
        "\n",
        "Pretty crazy, right?"
      ]
    },
    {
      "metadata": {
        "id": "Ct53KhtGPdhm",
        "colab_type": "text"
      },
      "cell_type": "markdown",
      "source": [
        "## what about that whole \"try every number\" bit in step 3?"
      ]
    },
    {
      "metadata": {
        "id": "y7FCt4EzPtU5",
        "colab_type": "text"
      },
      "cell_type": "markdown",
      "source": [
        "Ok, of course you can't just try every combination of all possible weights to find the combination that works the best. That would literally take forever since you'd never run out of numbers to try.\n",
        "\n",
        "To avoid that, mathematicians have figured out lots of clever ways to quickly find good values for those weights without having to try very many. Here's one way:\n",
        "\n",
        "First ,write a simple equation that represents step 2 above:"
      ]
    },
    {
      "metadata": {
        "id": "OsBkWUee3I0y",
        "colab_type": "text"
      },
      "cell_type": "markdown",
      "source": [
        "<img src = \"https://cdn-images-1.medium.com/max/800/1*4j82aAIUGQKKUmKcHLMWJQ.png\" align=\"center\" width=500>"
      ]
    },
    {
      "metadata": {
        "id": "kbpaPaLpQdV6",
        "colab_type": "text"
      },
      "cell_type": "markdown",
      "source": [
        "Now let's re-write exactly the same equation ,but using a bunch of machine learning math jargon(that you can ignore for now):\n"
      ]
    },
    {
      "metadata": {
        "id": "qniuhl5o3MWN",
        "colab_type": "text"
      },
      "cell_type": "markdown",
      "source": [
        "<img src = \"https://cdn-images-1.medium.com/max/800/1*ZyboMOVQ5zOv0ZTC4a3usA.png\" align=\"center\" width=500>"
      ]
    },
    {
      "metadata": {
        "id": "UsEj2ixVQv5_",
        "colab_type": "text"
      },
      "cell_type": "markdown",
      "source": [
        "This equation represents how wrong our price estimating function is for the weights we currently have set.\n",
        "\n",
        "If we graph this cost equation for all possible values of our weights for number_of_bedrooms and sqft, we'd get a graph that might look something like this:"
      ]
    },
    {
      "metadata": {
        "id": "k8IYyI8Y3Q-r",
        "colab_type": "text"
      },
      "cell_type": "markdown",
      "source": [
        "<img src = \"https://cdn-images-1.medium.com/max/800/1*uorFgyflbSMtvfSo9hlI1A.png\" align=\"center\" width=500>"
      ]
    },
    {
      "metadata": {
        "id": "-JYVurzmRU2f",
        "colab_type": "text"
      },
      "cell_type": "markdown",
      "source": [
        "In this graph, the lowest point in blue is where our cost is the lowest-thus our function is the least wrong. The highest points are where we are most wrong. So if we can find the weights that get us to the lowest point on this graph, we'll have our answer!"
      ]
    },
    {
      "metadata": {
        "id": "bsnBn3khHkCG",
        "colab_type": "text"
      },
      "cell_type": "markdown",
      "source": [
        "<img src = \"https://cdn-images-1.medium.com/max/800/1*prsH6EfJmFqdmFElj1Ht8g.png\" align=\"center\" width=500>"
      ]
    },
    {
      "metadata": {
        "id": "RfwluuCVDpgH",
        "colab_type": "text"
      },
      "cell_type": "markdown",
      "source": [
        "So we just need to adjust our weights so we are \"walking down hill\" on this graph towards the lowest point. If we keep making small adjustments to our weights that are always moving towards the lowest point, we'll eventually get there without having to try too many different weights.\n",
        "\n",
        "If you remember anything from Calculus, you might remember that if you take the derivative of a function , it tells you the slope of the function's tangent at any point. In other words , it tells us which way is downhill for any given point on our graph. We can use that knowledge to walk downhill.\n",
        "\n",
        "So if we calculate a partial derivative of our cost function with respect to each our weights, then we can subtract that value from each weight. That will walk us one step closer to the bottom of the hill. Keep doing that and eventually we'll reach the bottom of the hill and have the best possible values for our weights.(If that didn't make sense, don't worry and keep reading).\n",
        "\n",
        "That's a high level summary of one way to find the best weights for your function called batch gradient descent. Don't be afraid to dig deeper if you are interested on learning the details.\n",
        "\n",
        "When you use a machine learning library to solve a real problem, all of this will be done for you. But it's still useful to have a good idea of what is happening."
      ]
    },
    {
      "metadata": {
        "id": "HIgoBMDnIXg8",
        "colab_type": "text"
      },
      "cell_type": "markdown",
      "source": [
        "##what else did you conveniently skip over?"
      ]
    },
    {
      "metadata": {
        "id": "OzwukhHkId2n",
        "colab_type": "text"
      },
      "cell_type": "markdown",
      "source": [
        "The three-step algorithm I described is called multivariate linear regression. You are estimating the equation for a line that fits through all of your house data points. Then you are using that equation to guess the sales price of houses you've never seen before based where that house would appear on your line. It's a really powerful idea and you can solve \"real \" problems with it.\n",
        "\n",
        "But while the approach I showed you might work in simple cases, it won't work in all cases. One reason is because house prices aren't always simple enough to follow a continuous line.\n",
        "\n",
        "But luckily there are lots of ways to handle that. There are plenty of other machine larning algorithms that can handle non-linear data(like neural networks or SVMs with Keranels). There are also ways to use linear regression more cleverly that allow for more complicated lines to be fit. In all cases, the same basic idea of needing to find the best weights still applies.\n",
        "\n",
        "Also, I ignored the idea of overfitting. It's easy to come up with a set of weights that always works perfectly for predicting the prices of the house in your original data set but never acutally works for any new house that weren't in your original data set. But there are ways to deal with this(like regularization and using a cross-validation data set).Learning how to deal with this issue is a key part of learning how to apply machine learning successfully.\n",
        "\n",
        "In other words, while the basic concept is pretty simple, it takes some skill and experience to apply machine learning and get useful results. But it's a skill any developer can learn!"
      ]
    },
    {
      "metadata": {
        "id": "FzeUMD1EK15k",
        "colab_type": "text"
      },
      "cell_type": "markdown",
      "source": [
        "##Is machine learning magic?"
      ]
    },
    {
      "metadata": {
        "id": "fpN31bHTK_Y6",
        "colab_type": "text"
      },
      "cell_type": "markdown",
      "source": [
        "Once you start seeing how easily machine learning techniques can be applied to problem that seem really hard(like handwriting recognition), you start to get the feeling that you could use machine learning to solve any problem and get an answer as long as you have enough data. Just feed in the data and watch the computer magically figure out the equation that fits the data!\n",
        "\n",
        "But it's important to remember that machine learning only works if the problem is actually solvable with the data that you have.\n",
        "\n",
        "For example, if you build a model that predicts home prices based on the type of potted plants in each house, it's never going to work. There just isn't any kind of relationship between the potted plants in each house and the home's sale price. So no matter how hard it tries, the computer can never deduce a relationship between the two."
      ]
    },
    {
      "metadata": {
        "id": "gKH_NlJT3Yth",
        "colab_type": "text"
      },
      "cell_type": "markdown",
      "source": [
        "<img src = \"https://cdn-images-1.medium.com/max/800/1*N6pxRoVoEoedFELL2HdxbA.png\" align=\"center\" width=500>"
      ]
    },
    {
      "metadata": {
        "id": "0h6BzA0p0ixe",
        "colab_type": "text"
      },
      "cell_type": "markdown",
      "source": [
        "So remember , if a human expert couldn't use the data to solve the problem manually, a computer probably won't be able to either. Instead, focus on problems where a human could solve the problem, but where it would be great if a computer could solve it much more quickly."
      ]
    },
    {
      "metadata": {
        "id": "NQ4rH5M20i1X",
        "colab_type": "text"
      },
      "cell_type": "markdown",
      "source": [
        "## How to learn more about machine learning"
      ]
    },
    {
      "metadata": {
        "id": "kN4LvcUKMooe",
        "colab_type": "text"
      },
      "cell_type": "markdown",
      "source": [
        "In my mind, the biggest problem with machine learning right now is that it mostly lives in the world of academia and commercial research groups. There isn't a lot of easy to understand material out there for people who would like to get a broad understanding without actually becoming experts. But it's getting a little better every day.\n",
        "\n",
        "If you want to try out what you've learned in this article, I made [a couse that walks you through every step of this article, including writing all code](https://www.lynda.com/Data-Science-tutorials/Machine-Learning-Essential-Training-Value-Estimations/548594-2.html?lpk35=9149&utm_medium=ldc-partner&utm_source=CMPRC&utm_content=524&utm_campaign=CD20575&bid=524&aid=CD20575). Give it a try!\n",
        "\n",
        "If you want to go deeper, Andrew Ng's free Machine learning class on Coursera is pretty amazing as a next step. I highly recommend it. It should be accessible to anyone who has a comp.sci.degree and who remembers a very minimal amount of math.\n",
        "\n",
        "Also, you can play around with tons of machine learning algorithms by downloading and installing Scikit-learn. It's a python framework that has \"black box\" versions of all the standard algorithms.\n",
        "\n"
      ]
    },
    {
      "metadata": {
        "id": "3mjHoPgqPRj8",
        "colab_type": "text"
      },
      "cell_type": "markdown",
      "source": [
        "source:https://medium.com/@ageitgey/machine-learning-is-fun-80ea3ec3c471"
      ]
    }
  ]
}